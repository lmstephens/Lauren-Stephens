{
  "nbformat": 4,
  "nbformat_minor": 0,
  "metadata": {
    "colab": {
      "name": "2013-2019weather.ipynb",
      "provenance": []
    },
    "kernelspec": {
      "name": "python3",
      "display_name": "Python 3"
    }
  },
  "cells": [
    {
      "cell_type": "code",
      "metadata": {
        "id": "IBTWMv5fe7d3",
        "colab_type": "code",
        "colab": {}
      },
      "source": [
        "#Import all the stuff\n",
        "import pandas as pd\n",
        "import numpy as np\n",
        "import matplotlib.pyplot as plt\n",
        "import random\n",
        "\n",
        "\n",
        "import plotly\n",
        "import plotly.graph_objs as go\n",
        "from plotly.offline import init_notebook_mode, plot, iplot"
      ],
      "execution_count": 0,
      "outputs": []
    },
    {
      "cell_type": "code",
      "metadata": {
        "id": "ICJRinnFfG-O",
        "colab_type": "code",
        "colab": {}
      },
      "source": [
        "# for colab:\n",
        "def enable_plotly_in_cell():\n",
        "    import IPython\n",
        "    from plotly.offline import init_notebook_mode\n",
        "    display(IPython.core.display.HTML('''<script src=\"/static/components/requirejs/require.js\"></script>'''))\n",
        "    init_notebook_mode(connected=False)"
      ],
      "execution_count": 0,
      "outputs": []
    },
    {
      "cell_type": "markdown",
      "metadata": {
        "id": "rcOs4YzgfMrj",
        "colab_type": "text"
      },
      "source": [
        "#**2013**"
      ]
    },
    {
      "cell_type": "code",
      "metadata": {
        "id": "K_tS5GgefwUr",
        "colab_type": "code",
        "colab": {}
      },
      "source": [
        "Weather_url_2013 = \"https://www1.ncdc.noaa.gov/pub/data/swdi/stormevents/csvfiles/StormEvents_details-ftp_v1.0_d2013_c20170519.csv.gz\"\n",
        "#!curl https://www1.ncdc.noaa.gov/pub/data/swdi/stormevents/csvfiles/StormEvents_details-ftp_v1.0_d2013_c20170519.csv.gz"
      ],
      "execution_count": 0,
      "outputs": []
    },
    {
      "cell_type": "code",
      "metadata": {
        "id": "bPmmBIoUf0sz",
        "colab_type": "code",
        "outputId": "2df7e798-af5f-47fa-846a-f94195c232d1",
        "colab": {
          "base_uri": "https://localhost:8080/",
          "height": 34
        }
      },
      "source": [
        "weather_data_2013 = pd.read_csv(Weather_url_2013)\n",
        "weather_data_2013.shape"
      ],
      "execution_count": 0,
      "outputs": [
        {
          "output_type": "execute_result",
          "data": {
            "text/plain": [
              "(59985, 51)"
            ]
          },
          "metadata": {
            "tags": []
          },
          "execution_count": 4
        }
      ]
    },
    {
      "cell_type": "code",
      "metadata": {
        "id": "gU0mRz5Df4kq",
        "colab_type": "code",
        "outputId": "39f8eb60-cb3f-4d2e-9e5e-d002a641993a",
        "colab": {
          "base_uri": "https://localhost:8080/",
          "height": 394
        }
      },
      "source": [
        "weather_data_2013.head()"
      ],
      "execution_count": 0,
      "outputs": [
        {
          "output_type": "execute_result",
          "data": {
            "text/html": [
              "<div>\n",
              "<style scoped>\n",
              "    .dataframe tbody tr th:only-of-type {\n",
              "        vertical-align: middle;\n",
              "    }\n",
              "\n",
              "    .dataframe tbody tr th {\n",
              "        vertical-align: top;\n",
              "    }\n",
              "\n",
              "    .dataframe thead th {\n",
              "        text-align: right;\n",
              "    }\n",
              "</style>\n",
              "<table border=\"1\" class=\"dataframe\">\n",
              "  <thead>\n",
              "    <tr style=\"text-align: right;\">\n",
              "      <th></th>\n",
              "      <th>BEGIN_YEARMONTH</th>\n",
              "      <th>BEGIN_DAY</th>\n",
              "      <th>BEGIN_TIME</th>\n",
              "      <th>END_YEARMONTH</th>\n",
              "      <th>END_DAY</th>\n",
              "      <th>END_TIME</th>\n",
              "      <th>EPISODE_ID</th>\n",
              "      <th>EVENT_ID</th>\n",
              "      <th>STATE</th>\n",
              "      <th>STATE_FIPS</th>\n",
              "      <th>YEAR</th>\n",
              "      <th>MONTH_NAME</th>\n",
              "      <th>EVENT_TYPE</th>\n",
              "      <th>CZ_TYPE</th>\n",
              "      <th>CZ_FIPS</th>\n",
              "      <th>CZ_NAME</th>\n",
              "      <th>WFO</th>\n",
              "      <th>BEGIN_DATE_TIME</th>\n",
              "      <th>CZ_TIMEZONE</th>\n",
              "      <th>END_DATE_TIME</th>\n",
              "      <th>INJURIES_DIRECT</th>\n",
              "      <th>INJURIES_INDIRECT</th>\n",
              "      <th>DEATHS_DIRECT</th>\n",
              "      <th>DEATHS_INDIRECT</th>\n",
              "      <th>DAMAGE_PROPERTY</th>\n",
              "      <th>DAMAGE_CROPS</th>\n",
              "      <th>SOURCE</th>\n",
              "      <th>MAGNITUDE</th>\n",
              "      <th>MAGNITUDE_TYPE</th>\n",
              "      <th>FLOOD_CAUSE</th>\n",
              "      <th>CATEGORY</th>\n",
              "      <th>TOR_F_SCALE</th>\n",
              "      <th>TOR_LENGTH</th>\n",
              "      <th>TOR_WIDTH</th>\n",
              "      <th>TOR_OTHER_WFO</th>\n",
              "      <th>TOR_OTHER_CZ_STATE</th>\n",
              "      <th>TOR_OTHER_CZ_FIPS</th>\n",
              "      <th>TOR_OTHER_CZ_NAME</th>\n",
              "      <th>BEGIN_RANGE</th>\n",
              "      <th>BEGIN_AZIMUTH</th>\n",
              "      <th>BEGIN_LOCATION</th>\n",
              "      <th>END_RANGE</th>\n",
              "      <th>END_AZIMUTH</th>\n",
              "      <th>END_LOCATION</th>\n",
              "      <th>BEGIN_LAT</th>\n",
              "      <th>BEGIN_LON</th>\n",
              "      <th>END_LAT</th>\n",
              "      <th>END_LON</th>\n",
              "      <th>EPISODE_NARRATIVE</th>\n",
              "      <th>EVENT_NARRATIVE</th>\n",
              "      <th>DATA_SOURCE</th>\n",
              "    </tr>\n",
              "  </thead>\n",
              "  <tbody>\n",
              "    <tr>\n",
              "      <th>0</th>\n",
              "      <td>201302</td>\n",
              "      <td>23</td>\n",
              "      <td>1900</td>\n",
              "      <td>201302</td>\n",
              "      <td>25</td>\n",
              "      <td>400</td>\n",
              "      <td>71313</td>\n",
              "      <td>436163</td>\n",
              "      <td>NEW HAMPSHIRE</td>\n",
              "      <td>33</td>\n",
              "      <td>2013</td>\n",
              "      <td>February</td>\n",
              "      <td>Winter Weather</td>\n",
              "      <td>Z</td>\n",
              "      <td>12</td>\n",
              "      <td>EASTERN HILLSBOROUGH</td>\n",
              "      <td>BOX</td>\n",
              "      <td>23-FEB-13 19:00:00</td>\n",
              "      <td>EST-5</td>\n",
              "      <td>25-FEB-13 04:00:00</td>\n",
              "      <td>0</td>\n",
              "      <td>0</td>\n",
              "      <td>0</td>\n",
              "      <td>0</td>\n",
              "      <td>0.00K</td>\n",
              "      <td>0.00K</td>\n",
              "      <td>NWS Employee</td>\n",
              "      <td>NaN</td>\n",
              "      <td>NaN</td>\n",
              "      <td>NaN</td>\n",
              "      <td>NaN</td>\n",
              "      <td>NaN</td>\n",
              "      <td>NaN</td>\n",
              "      <td>NaN</td>\n",
              "      <td>NaN</td>\n",
              "      <td>NaN</td>\n",
              "      <td>NaN</td>\n",
              "      <td>NaN</td>\n",
              "      <td>NaN</td>\n",
              "      <td>NaN</td>\n",
              "      <td>NaN</td>\n",
              "      <td>NaN</td>\n",
              "      <td>NaN</td>\n",
              "      <td>NaN</td>\n",
              "      <td>NaN</td>\n",
              "      <td>NaN</td>\n",
              "      <td>NaN</td>\n",
              "      <td>NaN</td>\n",
              "      <td>A coastal low moved southeast of southern New ...</td>\n",
              "      <td>Three to five inches of snow fell across easte...</td>\n",
              "      <td>CSV</td>\n",
              "    </tr>\n",
              "    <tr>\n",
              "      <th>1</th>\n",
              "      <td>201312</td>\n",
              "      <td>14</td>\n",
              "      <td>2100</td>\n",
              "      <td>201312</td>\n",
              "      <td>15</td>\n",
              "      <td>1300</td>\n",
              "      <td>81847</td>\n",
              "      <td>491388</td>\n",
              "      <td>NEW HAMPSHIRE</td>\n",
              "      <td>33</td>\n",
              "      <td>2013</td>\n",
              "      <td>December</td>\n",
              "      <td>Heavy Snow</td>\n",
              "      <td>Z</td>\n",
              "      <td>12</td>\n",
              "      <td>EASTERN HILLSBOROUGH</td>\n",
              "      <td>BOX</td>\n",
              "      <td>14-DEC-13 21:00:00</td>\n",
              "      <td>EST-5</td>\n",
              "      <td>15-DEC-13 13:00:00</td>\n",
              "      <td>0</td>\n",
              "      <td>0</td>\n",
              "      <td>0</td>\n",
              "      <td>0</td>\n",
              "      <td>0.00K</td>\n",
              "      <td>0.00K</td>\n",
              "      <td>Trained Spotter</td>\n",
              "      <td>NaN</td>\n",
              "      <td>NaN</td>\n",
              "      <td>NaN</td>\n",
              "      <td>NaN</td>\n",
              "      <td>NaN</td>\n",
              "      <td>NaN</td>\n",
              "      <td>NaN</td>\n",
              "      <td>NaN</td>\n",
              "      <td>NaN</td>\n",
              "      <td>NaN</td>\n",
              "      <td>NaN</td>\n",
              "      <td>NaN</td>\n",
              "      <td>NaN</td>\n",
              "      <td>NaN</td>\n",
              "      <td>NaN</td>\n",
              "      <td>NaN</td>\n",
              "      <td>NaN</td>\n",
              "      <td>NaN</td>\n",
              "      <td>NaN</td>\n",
              "      <td>NaN</td>\n",
              "      <td>NaN</td>\n",
              "      <td>Low pressure moved out of the midwest, off the...</td>\n",
              "      <td>Eight to nine inches of snow fell across easte...</td>\n",
              "      <td>CSV</td>\n",
              "    </tr>\n",
              "    <tr>\n",
              "      <th>2</th>\n",
              "      <td>201303</td>\n",
              "      <td>7</td>\n",
              "      <td>1500</td>\n",
              "      <td>201303</td>\n",
              "      <td>9</td>\n",
              "      <td>900</td>\n",
              "      <td>72356</td>\n",
              "      <td>440167</td>\n",
              "      <td>NEW HAMPSHIRE</td>\n",
              "      <td>33</td>\n",
              "      <td>2013</td>\n",
              "      <td>March</td>\n",
              "      <td>Heavy Snow</td>\n",
              "      <td>Z</td>\n",
              "      <td>12</td>\n",
              "      <td>EASTERN HILLSBOROUGH</td>\n",
              "      <td>BOX</td>\n",
              "      <td>07-MAR-13 15:00:00</td>\n",
              "      <td>EST-5</td>\n",
              "      <td>09-MAR-13 09:00:00</td>\n",
              "      <td>0</td>\n",
              "      <td>0</td>\n",
              "      <td>0</td>\n",
              "      <td>0</td>\n",
              "      <td>0.00K</td>\n",
              "      <td>0.00K</td>\n",
              "      <td>COOP Observer</td>\n",
              "      <td>NaN</td>\n",
              "      <td>NaN</td>\n",
              "      <td>NaN</td>\n",
              "      <td>NaN</td>\n",
              "      <td>NaN</td>\n",
              "      <td>NaN</td>\n",
              "      <td>NaN</td>\n",
              "      <td>NaN</td>\n",
              "      <td>NaN</td>\n",
              "      <td>NaN</td>\n",
              "      <td>NaN</td>\n",
              "      <td>NaN</td>\n",
              "      <td>NaN</td>\n",
              "      <td>NaN</td>\n",
              "      <td>NaN</td>\n",
              "      <td>NaN</td>\n",
              "      <td>NaN</td>\n",
              "      <td>NaN</td>\n",
              "      <td>NaN</td>\n",
              "      <td>NaN</td>\n",
              "      <td>NaN</td>\n",
              "      <td>This storm brought heavy snow and significant ...</td>\n",
              "      <td>Five to sixteen inches of snow fell across eas...</td>\n",
              "      <td>CSV</td>\n",
              "    </tr>\n",
              "    <tr>\n",
              "      <th>3</th>\n",
              "      <td>201310</td>\n",
              "      <td>7</td>\n",
              "      <td>1830</td>\n",
              "      <td>201310</td>\n",
              "      <td>7</td>\n",
              "      <td>1830</td>\n",
              "      <td>78671</td>\n",
              "      <td>473492</td>\n",
              "      <td>NEW HAMPSHIRE</td>\n",
              "      <td>33</td>\n",
              "      <td>2013</td>\n",
              "      <td>October</td>\n",
              "      <td>Strong Wind</td>\n",
              "      <td>Z</td>\n",
              "      <td>12</td>\n",
              "      <td>EASTERN HILLSBOROUGH</td>\n",
              "      <td>BOX</td>\n",
              "      <td>07-OCT-13 18:30:00</td>\n",
              "      <td>EST-5</td>\n",
              "      <td>07-OCT-13 18:30:00</td>\n",
              "      <td>0</td>\n",
              "      <td>0</td>\n",
              "      <td>0</td>\n",
              "      <td>0</td>\n",
              "      <td>3.00K</td>\n",
              "      <td>0.00K</td>\n",
              "      <td>Amateur Radio</td>\n",
              "      <td>40.0</td>\n",
              "      <td>EG</td>\n",
              "      <td>NaN</td>\n",
              "      <td>NaN</td>\n",
              "      <td>NaN</td>\n",
              "      <td>NaN</td>\n",
              "      <td>NaN</td>\n",
              "      <td>NaN</td>\n",
              "      <td>NaN</td>\n",
              "      <td>NaN</td>\n",
              "      <td>NaN</td>\n",
              "      <td>NaN</td>\n",
              "      <td>NaN</td>\n",
              "      <td>NaN</td>\n",
              "      <td>NaN</td>\n",
              "      <td>NaN</td>\n",
              "      <td>NaN</td>\n",
              "      <td>NaN</td>\n",
              "      <td>NaN</td>\n",
              "      <td>NaN</td>\n",
              "      <td>NaN</td>\n",
              "      <td>A warm front moved northward across southern N...</td>\n",
              "      <td>A tree on Harbor Avenue was downed.</td>\n",
              "      <td>CSV</td>\n",
              "    </tr>\n",
              "    <tr>\n",
              "      <th>4</th>\n",
              "      <td>201302</td>\n",
              "      <td>8</td>\n",
              "      <td>1500</td>\n",
              "      <td>201302</td>\n",
              "      <td>9</td>\n",
              "      <td>1700</td>\n",
              "      <td>71943</td>\n",
              "      <td>435880</td>\n",
              "      <td>NEW HAMPSHIRE</td>\n",
              "      <td>33</td>\n",
              "      <td>2013</td>\n",
              "      <td>February</td>\n",
              "      <td>Heavy Snow</td>\n",
              "      <td>Z</td>\n",
              "      <td>12</td>\n",
              "      <td>EASTERN HILLSBOROUGH</td>\n",
              "      <td>BOX</td>\n",
              "      <td>08-FEB-13 15:00:00</td>\n",
              "      <td>EST-5</td>\n",
              "      <td>09-FEB-13 17:00:00</td>\n",
              "      <td>0</td>\n",
              "      <td>0</td>\n",
              "      <td>0</td>\n",
              "      <td>0</td>\n",
              "      <td>0.00K</td>\n",
              "      <td>0.00K</td>\n",
              "      <td>Amateur Radio</td>\n",
              "      <td>NaN</td>\n",
              "      <td>NaN</td>\n",
              "      <td>NaN</td>\n",
              "      <td>NaN</td>\n",
              "      <td>NaN</td>\n",
              "      <td>NaN</td>\n",
              "      <td>NaN</td>\n",
              "      <td>NaN</td>\n",
              "      <td>NaN</td>\n",
              "      <td>NaN</td>\n",
              "      <td>NaN</td>\n",
              "      <td>NaN</td>\n",
              "      <td>NaN</td>\n",
              "      <td>NaN</td>\n",
              "      <td>NaN</td>\n",
              "      <td>NaN</td>\n",
              "      <td>NaN</td>\n",
              "      <td>NaN</td>\n",
              "      <td>NaN</td>\n",
              "      <td>NaN</td>\n",
              "      <td>NaN</td>\n",
              "      <td>An historic winter storm deposited tremendous ...</td>\n",
              "      <td>Sixteen to twenty-four inches of snow fell acr...</td>\n",
              "      <td>CSV</td>\n",
              "    </tr>\n",
              "  </tbody>\n",
              "</table>\n",
              "</div>"
            ],
            "text/plain": [
              "   BEGIN_YEARMONTH  ...  DATA_SOURCE\n",
              "0           201302  ...          CSV\n",
              "1           201312  ...          CSV\n",
              "2           201303  ...          CSV\n",
              "3           201310  ...          CSV\n",
              "4           201302  ...          CSV\n",
              "\n",
              "[5 rows x 51 columns]"
            ]
          },
          "metadata": {
            "tags": []
          },
          "execution_count": 5
        }
      ]
    },
    {
      "cell_type": "code",
      "metadata": {
        "id": "h4Uk_7Fuf7Wa",
        "colab_type": "code",
        "colab": {}
      },
      "source": [
        "dfweather_data_2013 = weather_data_2013[['STATE','DAMAGE_PROPERTY']].copy()"
      ],
      "execution_count": 0,
      "outputs": []
    },
    {
      "cell_type": "code",
      "metadata": {
        "id": "5Cw-4rwggFGi",
        "colab_type": "code",
        "colab": {}
      },
      "source": [
        "#dropping NaN values\n",
        "dfweather_data_2013 = dfweather_data_2013.dropna()"
      ],
      "execution_count": 0,
      "outputs": []
    },
    {
      "cell_type": "code",
      "metadata": {
        "id": "_sp94eYugSmF",
        "colab_type": "code",
        "colab": {}
      },
      "source": [
        "#look at https://stackoverflow.com/questions/39684548/convert-the-string-2-90k-to-2900-or-5-2m-to-5200000-in-pandas-dataframe\n",
        "DAMAGE_PROPERTY_2013 = dfweather_data_2013['DAMAGE_PROPERTY'].replace({'K': '*1e3', 'M': '*1e6', 'B': '1e9'}, regex=True).map(pd.eval).astype(int)"
      ],
      "execution_count": 0,
      "outputs": []
    },
    {
      "cell_type": "code",
      "metadata": {
        "id": "znV9fSbjgZ3B",
        "colab_type": "code",
        "colab": {}
      },
      "source": [
        "dfweather_data_2013['DAMAGE_PROPERTY'] = DAMAGE_PROPERTY_2013"
      ],
      "execution_count": 0,
      "outputs": []
    },
    {
      "cell_type": "markdown",
      "metadata": {
        "id": "nWHXgn-UJRxo",
        "colab_type": "text"
      },
      "source": [
        "**State Totals**"
      ]
    },
    {
      "cell_type": "code",
      "metadata": {
        "id": "km1hN_SbBDmw",
        "colab_type": "code",
        "colab": {}
      },
      "source": [
        "#adds together the state totals\n",
        "newdf2013 = dfweather_data_2013.groupby(['STATE'], as_index=False).sum()\n"
      ],
      "execution_count": 0,
      "outputs": []
    },
    {
      "cell_type": "code",
      "metadata": {
        "id": "-STf-NPSDEx7",
        "colab_type": "code",
        "outputId": "a6d20ed1-f087-42b7-cc88-4ed5aba39b40",
        "colab": {
          "base_uri": "https://localhost:8080/",
          "height": 204
        }
      },
      "source": [
        "#creates a new dataframe\n",
        "df2013 = pd.DataFrame(newdf2013)\n",
        "df2013.head()"
      ],
      "execution_count": 0,
      "outputs": [
        {
          "output_type": "execute_result",
          "data": {
            "text/html": [
              "<div>\n",
              "<style scoped>\n",
              "    .dataframe tbody tr th:only-of-type {\n",
              "        vertical-align: middle;\n",
              "    }\n",
              "\n",
              "    .dataframe tbody tr th {\n",
              "        vertical-align: top;\n",
              "    }\n",
              "\n",
              "    .dataframe thead th {\n",
              "        text-align: right;\n",
              "    }\n",
              "</style>\n",
              "<table border=\"1\" class=\"dataframe\">\n",
              "  <thead>\n",
              "    <tr style=\"text-align: right;\">\n",
              "      <th></th>\n",
              "      <th>STATE</th>\n",
              "      <th>DAMAGE_PROPERTY</th>\n",
              "    </tr>\n",
              "  </thead>\n",
              "  <tbody>\n",
              "    <tr>\n",
              "      <th>0</th>\n",
              "      <td>ALABAMA</td>\n",
              "      <td>8394450</td>\n",
              "    </tr>\n",
              "    <tr>\n",
              "      <th>1</th>\n",
              "      <td>ALASKA</td>\n",
              "      <td>30415600</td>\n",
              "    </tr>\n",
              "    <tr>\n",
              "      <th>2</th>\n",
              "      <td>AMERICAN SAMOA</td>\n",
              "      <td>0</td>\n",
              "    </tr>\n",
              "    <tr>\n",
              "      <th>3</th>\n",
              "      <td>ARIZONA</td>\n",
              "      <td>154201200</td>\n",
              "    </tr>\n",
              "    <tr>\n",
              "      <th>4</th>\n",
              "      <td>ARKANSAS</td>\n",
              "      <td>72299100</td>\n",
              "    </tr>\n",
              "  </tbody>\n",
              "</table>\n",
              "</div>"
            ],
            "text/plain": [
              "            STATE  DAMAGE_PROPERTY\n",
              "0         ALABAMA          8394450\n",
              "1          ALASKA         30415600\n",
              "2  AMERICAN SAMOA                0\n",
              "3         ARIZONA        154201200\n",
              "4        ARKANSAS         72299100"
            ]
          },
          "metadata": {
            "tags": []
          },
          "execution_count": 11
        }
      ]
    },
    {
      "cell_type": "markdown",
      "metadata": {
        "id": "d--CAlbWJjeb",
        "colab_type": "text"
      },
      "source": [
        "**Plots**"
      ]
    },
    {
      "cell_type": "code",
      "metadata": {
        "id": "-ERa5t3SJjFR",
        "colab_type": "code",
        "outputId": "5450ecb6-2515-442e-864a-b156ad54e45c",
        "colab": {
          "base_uri": "https://localhost:8080/",
          "height": 419
        }
      },
      "source": [
        "df2013.sort_values(by='DAMAGE_PROPERTY', ascending=False)"
      ],
      "execution_count": 0,
      "outputs": [
        {
          "output_type": "execute_result",
          "data": {
            "text/html": [
              "<div>\n",
              "<style scoped>\n",
              "    .dataframe tbody tr th:only-of-type {\n",
              "        vertical-align: middle;\n",
              "    }\n",
              "\n",
              "    .dataframe tbody tr th {\n",
              "        vertical-align: top;\n",
              "    }\n",
              "\n",
              "    .dataframe thead th {\n",
              "        text-align: right;\n",
              "    }\n",
              "</style>\n",
              "<table border=\"1\" class=\"dataframe\">\n",
              "  <thead>\n",
              "    <tr style=\"text-align: right;\">\n",
              "      <th></th>\n",
              "      <th>STATE</th>\n",
              "      <th>DAMAGE_PROPERTY</th>\n",
              "    </tr>\n",
              "  </thead>\n",
              "  <tbody>\n",
              "    <tr>\n",
              "      <th>48</th>\n",
              "      <td>OKLAHOMA</td>\n",
              "      <td>2023424300</td>\n",
              "    </tr>\n",
              "    <tr>\n",
              "      <th>20</th>\n",
              "      <td>ILLINOIS</td>\n",
              "      <td>1562382000</td>\n",
              "    </tr>\n",
              "    <tr>\n",
              "      <th>56</th>\n",
              "      <td>TEXAS</td>\n",
              "      <td>1410698000</td>\n",
              "    </tr>\n",
              "    <tr>\n",
              "      <th>8</th>\n",
              "      <td>COLORADO</td>\n",
              "      <td>1003891750</td>\n",
              "    </tr>\n",
              "    <tr>\n",
              "      <th>36</th>\n",
              "      <td>MISSISSIPPI</td>\n",
              "      <td>609917000</td>\n",
              "    </tr>\n",
              "    <tr>\n",
              "      <th>...</th>\n",
              "      <td>...</td>\n",
              "      <td>...</td>\n",
              "    </tr>\n",
              "    <tr>\n",
              "      <th>12</th>\n",
              "      <td>E PACIFIC</td>\n",
              "      <td>0</td>\n",
              "    </tr>\n",
              "    <tr>\n",
              "      <th>27</th>\n",
              "      <td>LAKE MICHIGAN</td>\n",
              "      <td>0</td>\n",
              "    </tr>\n",
              "    <tr>\n",
              "      <th>28</th>\n",
              "      <td>LAKE ST CLAIR</td>\n",
              "      <td>0</td>\n",
              "    </tr>\n",
              "    <tr>\n",
              "      <th>29</th>\n",
              "      <td>LAKE SUPERIOR</td>\n",
              "      <td>0</td>\n",
              "    </tr>\n",
              "    <tr>\n",
              "      <th>2</th>\n",
              "      <td>AMERICAN SAMOA</td>\n",
              "      <td>0</td>\n",
              "    </tr>\n",
              "  </tbody>\n",
              "</table>\n",
              "<p>65 rows × 2 columns</p>\n",
              "</div>"
            ],
            "text/plain": [
              "             STATE  DAMAGE_PROPERTY\n",
              "48        OKLAHOMA       2023424300\n",
              "20        ILLINOIS       1562382000\n",
              "56           TEXAS       1410698000\n",
              "8         COLORADO       1003891750\n",
              "36     MISSISSIPPI        609917000\n",
              "..             ...              ...\n",
              "12       E PACIFIC                0\n",
              "27   LAKE MICHIGAN                0\n",
              "28   LAKE ST CLAIR                0\n",
              "29   LAKE SUPERIOR                0\n",
              "2   AMERICAN SAMOA                0\n",
              "\n",
              "[65 rows x 2 columns]"
            ]
          },
          "metadata": {
            "tags": []
          },
          "execution_count": 12
        }
      ]
    },
    {
      "cell_type": "code",
      "metadata": {
        "id": "MqKmUG_p5NyY",
        "colab_type": "code",
        "colab": {}
      },
      "source": [
        "df2013['STATE']=df2013['STATE'].str.capitalize()"
      ],
      "execution_count": 0,
      "outputs": []
    },
    {
      "cell_type": "code",
      "metadata": {
        "id": "C13FADik1hY4",
        "colab_type": "code",
        "colab": {}
      },
      "source": [
        "df2013['STATE'] = df2013['STATE'].replace({'Alaska':'AK',\n",
        "        'Alabama':'AL',\n",
        "        'Arkansas':'AR',\n",
        "        'American Samoa':'AS',\n",
        "        'Arizona':'AZ',\n",
        "        'California':'CA',\n",
        "        'Colorado':'CO',\n",
        "        'Connecticut':'CT',\n",
        "        'District of columbia':'DC',\n",
        "        'Delaware':'DE',\n",
        "        'Florida':'FL',\n",
        "        'Georgia':'GA',\n",
        "        'Guam':'GU',\n",
        "        'Hawaii':'HI',\n",
        "        'Iowa':'IA',\n",
        "        'Idaho':'ID',\n",
        "         'Illinois':'IL',\n",
        "        'Indiana':'IN',\n",
        "        'Kansas':'KS',\n",
        "        'Kentucky':'KY',\n",
        "        'Louisiana':'LA',\n",
        "        'Massachusetts':'MA',\n",
        "        'Maryland':'MD',\n",
        "        'Maine':'ME',\n",
        "        'Michigan':'MI',\n",
        "        'Minnesota':'MN',\n",
        "        'Missouri':'MO',\n",
        "        'Northern mariana islands':'MP',\n",
        "        'Mississippi':'MS',\n",
        "        'Montana':'MT',\n",
        "        'National':'NA',\n",
        "        'North carolina':'NC',\n",
        "        'North dakota':'ND',\n",
        "        'Nebraska':'NE',\n",
        "        'New hampshire':'NH',\n",
        "        'New jersey':'NJ',\n",
        "        'New mexico':'NM',\n",
        "        'Nevada':'NV',\n",
        "        'New york':'NY',\n",
        "        'Ohio':'OH',\n",
        "        'Oklahoma':'OK',\n",
        "        'Oregon':'OR',\n",
        "        'Pennsylvania':'PA',\n",
        "        'Puerto rico':'PR',\n",
        "        'Rhode island':'RI',\n",
        "        'South carolina':'SC',\n",
        "        'South dakota':'SD',\n",
        "        'Tennessee':'TN',\n",
        "        'Texas':'TX',\n",
        "        'Utah':'UT',\n",
        "        'Virginia':'VA',\n",
        "        'Virgin islands':'VI',\n",
        "        'Vermont':'VT',\n",
        "        'Washington':'WA',\n",
        "        'Wisconsin':'WI',\n",
        "        'West virginia':'WV',\n",
        "        'Wyoming':'WY'}, regex=True)"
      ],
      "execution_count": 0,
      "outputs": []
    },
    {
      "cell_type": "code",
      "metadata": {
        "id": "N3_AxPYU4SAG",
        "colab_type": "code",
        "outputId": "d2449bac-8be5-4d35-b30c-ba7575548c97",
        "colab": {
          "base_uri": "https://localhost:8080/",
          "height": 204
        }
      },
      "source": [
        "df2013.head()"
      ],
      "execution_count": 0,
      "outputs": [
        {
          "output_type": "execute_result",
          "data": {
            "text/html": [
              "<div>\n",
              "<style scoped>\n",
              "    .dataframe tbody tr th:only-of-type {\n",
              "        vertical-align: middle;\n",
              "    }\n",
              "\n",
              "    .dataframe tbody tr th {\n",
              "        vertical-align: top;\n",
              "    }\n",
              "\n",
              "    .dataframe thead th {\n",
              "        text-align: right;\n",
              "    }\n",
              "</style>\n",
              "<table border=\"1\" class=\"dataframe\">\n",
              "  <thead>\n",
              "    <tr style=\"text-align: right;\">\n",
              "      <th></th>\n",
              "      <th>STATE</th>\n",
              "      <th>DAMAGE_PROPERTY</th>\n",
              "    </tr>\n",
              "  </thead>\n",
              "  <tbody>\n",
              "    <tr>\n",
              "      <th>0</th>\n",
              "      <td>AL</td>\n",
              "      <td>8394450</td>\n",
              "    </tr>\n",
              "    <tr>\n",
              "      <th>1</th>\n",
              "      <td>AK</td>\n",
              "      <td>30415600</td>\n",
              "    </tr>\n",
              "    <tr>\n",
              "      <th>2</th>\n",
              "      <td>American samoa</td>\n",
              "      <td>0</td>\n",
              "    </tr>\n",
              "    <tr>\n",
              "      <th>3</th>\n",
              "      <td>AZ</td>\n",
              "      <td>154201200</td>\n",
              "    </tr>\n",
              "    <tr>\n",
              "      <th>4</th>\n",
              "      <td>AR</td>\n",
              "      <td>72299100</td>\n",
              "    </tr>\n",
              "  </tbody>\n",
              "</table>\n",
              "</div>"
            ],
            "text/plain": [
              "            STATE  DAMAGE_PROPERTY\n",
              "0              AL          8394450\n",
              "1              AK         30415600\n",
              "2  American samoa                0\n",
              "3              AZ        154201200\n",
              "4              AR         72299100"
            ]
          },
          "metadata": {
            "tags": []
          },
          "execution_count": 15
        }
      ]
    },
    {
      "cell_type": "code",
      "metadata": {
        "id": "JBZq2q0ZNpuJ",
        "colab_type": "code",
        "colab": {}
      },
      "source": [
        "mycolumn='DAMAGE_PROPERTY'\n",
        "myheading1 = f\"Wow! That's a lot of {mycolumn}!\"\n",
        "mygraphtitle = '2013 US Storm Damage Cost by State'\n",
        "mycolorscale = 'ylorrd' # Note: The error message will list possible color scales.\n",
        "mycolorbartitle = \"USD Currency\""
      ],
      "execution_count": 0,
      "outputs": []
    },
    {
      "cell_type": "code",
      "metadata": {
        "id": "jVA5wLJ_OARa",
        "colab_type": "code",
        "outputId": "4a59a040-2a20-47f8-dbfb-daaaa0ff701a",
        "colab": {
          "base_uri": "https://localhost:8080/",
          "height": 817
        }
      },
      "source": [
        "fig = go.Figure(data=go.Choropleth(\n",
        "    locations=df2013['STATE'], # Spatial coordinates\n",
        "    z = df2013[mycolumn].astype(float), # Data to be color-coded\n",
        "    locationmode = 'USA-states', # set of locations match entries in `locations`\n",
        "    colorscale = mycolorscale,\n",
        "    colorbar_title = mycolorbartitle,\n",
        "))\n",
        "\n",
        "fig.update_layout(\n",
        "    title_text = mygraphtitle,\n",
        "    geo_scope='usa',\n",
        "    width=1200,\n",
        "    height=800\n",
        ")\n",
        "fig.show()"
      ],
      "execution_count": 0,
      "outputs": [
        {
          "output_type": "display_data",
          "data": {
            "text/html": [
              "<html>\n",
              "<head><meta charset=\"utf-8\" /></head>\n",
              "<body>\n",
              "    <div>\n",
              "            <script src=\"https://cdnjs.cloudflare.com/ajax/libs/mathjax/2.7.5/MathJax.js?config=TeX-AMS-MML_SVG\"></script><script type=\"text/javascript\">if (window.MathJax) {MathJax.Hub.Config({SVG: {font: \"STIX-Web\"}});}</script>\n",
              "                <script type=\"text/javascript\">window.PlotlyConfig = {MathJaxConfig: 'local'};</script>\n",
              "        <script src=\"https://cdn.plot.ly/plotly-latest.min.js\"></script>    \n",
              "            <div id=\"9752c8a2-cce5-44c6-bcd4-621925ed2430\" class=\"plotly-graph-div\" style=\"height:800px; width:1200px;\"></div>\n",
              "            <script type=\"text/javascript\">\n",
              "                \n",
              "                    window.PLOTLYENV=window.PLOTLYENV || {};\n",
              "                    \n",
              "                if (document.getElementById(\"9752c8a2-cce5-44c6-bcd4-621925ed2430\")) {\n",
              "                    Plotly.newPlot(\n",
              "                        '9752c8a2-cce5-44c6-bcd4-621925ed2430',\n",
              "                        [{\"colorbar\": {\"title\": {\"text\": \"USD Currency\"}}, \"colorscale\": [[0.0, \"rgb(255,255,204)\"], [0.125, \"rgb(255,237,160)\"], [0.25, \"rgb(254,217,118)\"], [0.375, \"rgb(254,178,76)\"], [0.5, \"rgb(253,141,60)\"], [0.625, \"rgb(252,78,42)\"], [0.75, \"rgb(227,26,28)\"], [0.875, \"rgb(189,0,38)\"], [1.0, \"rgb(128,0,38)\"]], \"locationmode\": \"USA-states\", \"locations\": [\"AL\", \"AK\", \"American samoa\", \"AZ\", \"AR\", \"Atlantic north\", \"Atlantic south\", \"CA\", \"CO\", \"CT\", \"DE\", \"DC\", \"E pacific\", \"FL\", \"GA\", \"GU\", \"Gulf of mexico\", \"HI\", \"HI waters\", \"ID\", \"IL\", \"IN\", \"IA\", \"KS\", \"KY\", \"Lake erie\", \"Lake huron\", \"Lake michigan\", \"Lake st clair\", \"Lake superior\", \"LA\", \"ME\", \"MD\", \"MA\", \"MI\", \"MN\", \"MS\", \"MO\", \"MT\", \"NE\", \"NV\", \"NH\", \"NJ\", \"NM\", \"NY\", \"NC\", \"ND\", \"OH\", \"OK\", \"OR\", \"PA\", \"PR\", \"RI\", \"SC\", \"SD\", \"TN\", \"TX\", \"UT\", \"VT\", \"VI\", \"VA\", \"WA\", \"WV\", \"WI\", \"WY\"], \"type\": \"choropleth\", \"z\": [8394450.0, 30415600.0, 0.0, 154201200.0, 72299100.0, 5500.0, 4000.0, 87660500.0, 1003891750.0, 5757500.0, 410000.0, 2000.0, 0.0, 64192000.0, 151231220.0, 20860000.0, 12404000.0, 114500.0, 0.0, 3430700.0, 1562382000.0, 6276600.0, 112032700.0, 39914750.0, 15895500.0, 0.0, 0.0, 0.0, 0.0, 0.0, 268151300.0, 3656500.0, 444500.0, 30760900.0, 197171500.0, 112088200.0, 609917000.0, 95535500.0, 1197600.0, 43769000.0, 17693100.0, 11251500.0, 3799750.0, 20613300.0, 65748000.0, 48276450.0, 12841000.0, 74367000.0, 2023424300.0, 8926000.0, 24947250.0, 127900.0, 1981000.0, 18369000.0, 153441500.0, 92006000.0, 1410698000.0, 5766200.0, 13455500.0, 22600.0, 7510250.0, 12839030.0, 9586250.0, 47620600.0, 18609000.0]}],\n",
              "                        {\"geo\": {\"scope\": \"usa\"}, \"height\": 800, \"template\": {\"data\": {\"bar\": [{\"error_x\": {\"color\": \"#2a3f5f\"}, \"error_y\": {\"color\": \"#2a3f5f\"}, \"marker\": {\"line\": {\"color\": \"#E5ECF6\", \"width\": 0.5}}, \"type\": \"bar\"}], \"barpolar\": [{\"marker\": {\"line\": {\"color\": \"#E5ECF6\", \"width\": 0.5}}, \"type\": \"barpolar\"}], \"carpet\": [{\"aaxis\": {\"endlinecolor\": \"#2a3f5f\", \"gridcolor\": \"white\", \"linecolor\": \"white\", \"minorgridcolor\": \"white\", \"startlinecolor\": \"#2a3f5f\"}, \"baxis\": {\"endlinecolor\": \"#2a3f5f\", \"gridcolor\": \"white\", \"linecolor\": \"white\", \"minorgridcolor\": \"white\", \"startlinecolor\": \"#2a3f5f\"}, \"type\": \"carpet\"}], \"choropleth\": [{\"colorbar\": {\"outlinewidth\": 0, \"ticks\": \"\"}, \"type\": \"choropleth\"}], \"contour\": [{\"colorbar\": {\"outlinewidth\": 0, \"ticks\": \"\"}, \"colorscale\": [[0.0, \"#0d0887\"], [0.1111111111111111, \"#46039f\"], [0.2222222222222222, \"#7201a8\"], [0.3333333333333333, \"#9c179e\"], [0.4444444444444444, \"#bd3786\"], [0.5555555555555556, \"#d8576b\"], [0.6666666666666666, \"#ed7953\"], [0.7777777777777778, \"#fb9f3a\"], [0.8888888888888888, \"#fdca26\"], [1.0, \"#f0f921\"]], \"type\": \"contour\"}], \"contourcarpet\": [{\"colorbar\": {\"outlinewidth\": 0, \"ticks\": \"\"}, \"type\": \"contourcarpet\"}], \"heatmap\": [{\"colorbar\": {\"outlinewidth\": 0, \"ticks\": \"\"}, \"colorscale\": [[0.0, \"#0d0887\"], [0.1111111111111111, \"#46039f\"], [0.2222222222222222, \"#7201a8\"], [0.3333333333333333, \"#9c179e\"], [0.4444444444444444, \"#bd3786\"], [0.5555555555555556, \"#d8576b\"], [0.6666666666666666, \"#ed7953\"], [0.7777777777777778, \"#fb9f3a\"], [0.8888888888888888, \"#fdca26\"], [1.0, \"#f0f921\"]], \"type\": \"heatmap\"}], \"heatmapgl\": [{\"colorbar\": {\"outlinewidth\": 0, \"ticks\": \"\"}, \"colorscale\": [[0.0, \"#0d0887\"], [0.1111111111111111, \"#46039f\"], [0.2222222222222222, \"#7201a8\"], [0.3333333333333333, \"#9c179e\"], [0.4444444444444444, \"#bd3786\"], [0.5555555555555556, \"#d8576b\"], [0.6666666666666666, \"#ed7953\"], [0.7777777777777778, \"#fb9f3a\"], [0.8888888888888888, \"#fdca26\"], [1.0, \"#f0f921\"]], \"type\": \"heatmapgl\"}], \"histogram\": [{\"marker\": {\"colorbar\": {\"outlinewidth\": 0, \"ticks\": \"\"}}, \"type\": \"histogram\"}], \"histogram2d\": [{\"colorbar\": {\"outlinewidth\": 0, \"ticks\": \"\"}, \"colorscale\": [[0.0, \"#0d0887\"], [0.1111111111111111, \"#46039f\"], [0.2222222222222222, \"#7201a8\"], [0.3333333333333333, \"#9c179e\"], [0.4444444444444444, \"#bd3786\"], [0.5555555555555556, \"#d8576b\"], [0.6666666666666666, \"#ed7953\"], [0.7777777777777778, \"#fb9f3a\"], [0.8888888888888888, \"#fdca26\"], [1.0, \"#f0f921\"]], \"type\": \"histogram2d\"}], \"histogram2dcontour\": [{\"colorbar\": {\"outlinewidth\": 0, \"ticks\": \"\"}, \"colorscale\": [[0.0, \"#0d0887\"], [0.1111111111111111, \"#46039f\"], [0.2222222222222222, \"#7201a8\"], [0.3333333333333333, \"#9c179e\"], [0.4444444444444444, \"#bd3786\"], [0.5555555555555556, \"#d8576b\"], [0.6666666666666666, \"#ed7953\"], [0.7777777777777778, \"#fb9f3a\"], [0.8888888888888888, \"#fdca26\"], [1.0, \"#f0f921\"]], \"type\": \"histogram2dcontour\"}], \"mesh3d\": [{\"colorbar\": {\"outlinewidth\": 0, \"ticks\": \"\"}, \"type\": \"mesh3d\"}], \"parcoords\": [{\"line\": {\"colorbar\": {\"outlinewidth\": 0, \"ticks\": \"\"}}, \"type\": \"parcoords\"}], \"pie\": [{\"automargin\": true, \"type\": \"pie\"}], \"scatter\": [{\"marker\": {\"colorbar\": {\"outlinewidth\": 0, \"ticks\": \"\"}}, \"type\": \"scatter\"}], \"scatter3d\": [{\"line\": {\"colorbar\": {\"outlinewidth\": 0, \"ticks\": \"\"}}, \"marker\": {\"colorbar\": {\"outlinewidth\": 0, \"ticks\": \"\"}}, \"type\": \"scatter3d\"}], \"scattercarpet\": [{\"marker\": {\"colorbar\": {\"outlinewidth\": 0, \"ticks\": \"\"}}, \"type\": \"scattercarpet\"}], \"scattergeo\": [{\"marker\": {\"colorbar\": {\"outlinewidth\": 0, \"ticks\": \"\"}}, \"type\": \"scattergeo\"}], \"scattergl\": [{\"marker\": {\"colorbar\": {\"outlinewidth\": 0, \"ticks\": \"\"}}, \"type\": \"scattergl\"}], \"scattermapbox\": [{\"marker\": {\"colorbar\": {\"outlinewidth\": 0, \"ticks\": \"\"}}, \"type\": \"scattermapbox\"}], \"scatterpolar\": [{\"marker\": {\"colorbar\": {\"outlinewidth\": 0, \"ticks\": \"\"}}, \"type\": \"scatterpolar\"}], \"scatterpolargl\": [{\"marker\": {\"colorbar\": {\"outlinewidth\": 0, \"ticks\": \"\"}}, \"type\": \"scatterpolargl\"}], \"scatterternary\": [{\"marker\": {\"colorbar\": {\"outlinewidth\": 0, \"ticks\": \"\"}}, \"type\": \"scatterternary\"}], \"surface\": [{\"colorbar\": {\"outlinewidth\": 0, \"ticks\": \"\"}, \"colorscale\": [[0.0, \"#0d0887\"], [0.1111111111111111, \"#46039f\"], [0.2222222222222222, \"#7201a8\"], [0.3333333333333333, \"#9c179e\"], [0.4444444444444444, \"#bd3786\"], [0.5555555555555556, \"#d8576b\"], [0.6666666666666666, \"#ed7953\"], [0.7777777777777778, \"#fb9f3a\"], [0.8888888888888888, \"#fdca26\"], [1.0, \"#f0f921\"]], \"type\": \"surface\"}], \"table\": [{\"cells\": {\"fill\": {\"color\": \"#EBF0F8\"}, \"line\": {\"color\": \"white\"}}, \"header\": {\"fill\": {\"color\": \"#C8D4E3\"}, \"line\": {\"color\": \"white\"}}, \"type\": \"table\"}]}, \"layout\": {\"annotationdefaults\": {\"arrowcolor\": \"#2a3f5f\", \"arrowhead\": 0, \"arrowwidth\": 1}, \"coloraxis\": {\"colorbar\": {\"outlinewidth\": 0, \"ticks\": \"\"}}, \"colorscale\": {\"diverging\": [[0, \"#8e0152\"], [0.1, \"#c51b7d\"], [0.2, \"#de77ae\"], [0.3, \"#f1b6da\"], [0.4, \"#fde0ef\"], [0.5, \"#f7f7f7\"], [0.6, \"#e6f5d0\"], [0.7, \"#b8e186\"], [0.8, \"#7fbc41\"], [0.9, \"#4d9221\"], [1, \"#276419\"]], \"sequential\": [[0.0, \"#0d0887\"], [0.1111111111111111, \"#46039f\"], [0.2222222222222222, \"#7201a8\"], [0.3333333333333333, \"#9c179e\"], [0.4444444444444444, \"#bd3786\"], [0.5555555555555556, \"#d8576b\"], [0.6666666666666666, \"#ed7953\"], [0.7777777777777778, \"#fb9f3a\"], [0.8888888888888888, \"#fdca26\"], [1.0, \"#f0f921\"]], \"sequentialminus\": [[0.0, \"#0d0887\"], [0.1111111111111111, \"#46039f\"], [0.2222222222222222, \"#7201a8\"], [0.3333333333333333, \"#9c179e\"], [0.4444444444444444, \"#bd3786\"], [0.5555555555555556, \"#d8576b\"], [0.6666666666666666, \"#ed7953\"], [0.7777777777777778, \"#fb9f3a\"], [0.8888888888888888, \"#fdca26\"], [1.0, \"#f0f921\"]]}, \"colorway\": [\"#636efa\", \"#EF553B\", \"#00cc96\", \"#ab63fa\", \"#FFA15A\", \"#19d3f3\", \"#FF6692\", \"#B6E880\", \"#FF97FF\", \"#FECB52\"], \"font\": {\"color\": \"#2a3f5f\"}, \"geo\": {\"bgcolor\": \"white\", \"lakecolor\": \"white\", \"landcolor\": \"#E5ECF6\", \"showlakes\": true, \"showland\": true, \"subunitcolor\": \"white\"}, \"hoverlabel\": {\"align\": \"left\"}, \"hovermode\": \"closest\", \"mapbox\": {\"style\": \"light\"}, \"paper_bgcolor\": \"white\", \"plot_bgcolor\": \"#E5ECF6\", \"polar\": {\"angularaxis\": {\"gridcolor\": \"white\", \"linecolor\": \"white\", \"ticks\": \"\"}, \"bgcolor\": \"#E5ECF6\", \"radialaxis\": {\"gridcolor\": \"white\", \"linecolor\": \"white\", \"ticks\": \"\"}}, \"scene\": {\"xaxis\": {\"backgroundcolor\": \"#E5ECF6\", \"gridcolor\": \"white\", \"gridwidth\": 2, \"linecolor\": \"white\", \"showbackground\": true, \"ticks\": \"\", \"zerolinecolor\": \"white\"}, \"yaxis\": {\"backgroundcolor\": \"#E5ECF6\", \"gridcolor\": \"white\", \"gridwidth\": 2, \"linecolor\": \"white\", \"showbackground\": true, \"ticks\": \"\", \"zerolinecolor\": \"white\"}, \"zaxis\": {\"backgroundcolor\": \"#E5ECF6\", \"gridcolor\": \"white\", \"gridwidth\": 2, \"linecolor\": \"white\", \"showbackground\": true, \"ticks\": \"\", \"zerolinecolor\": \"white\"}}, \"shapedefaults\": {\"line\": {\"color\": \"#2a3f5f\"}}, \"ternary\": {\"aaxis\": {\"gridcolor\": \"white\", \"linecolor\": \"white\", \"ticks\": \"\"}, \"baxis\": {\"gridcolor\": \"white\", \"linecolor\": \"white\", \"ticks\": \"\"}, \"bgcolor\": \"#E5ECF6\", \"caxis\": {\"gridcolor\": \"white\", \"linecolor\": \"white\", \"ticks\": \"\"}}, \"title\": {\"x\": 0.05}, \"xaxis\": {\"automargin\": true, \"gridcolor\": \"white\", \"linecolor\": \"white\", \"ticks\": \"\", \"title\": {\"standoff\": 15}, \"zerolinecolor\": \"white\", \"zerolinewidth\": 2}, \"yaxis\": {\"automargin\": true, \"gridcolor\": \"white\", \"linecolor\": \"white\", \"ticks\": \"\", \"title\": {\"standoff\": 15}, \"zerolinecolor\": \"white\", \"zerolinewidth\": 2}}}, \"title\": {\"text\": \"2016 US Storm Damage Cost by State\"}, \"width\": 1200},\n",
              "                        {\"responsive\": true}\n",
              "                    ).then(function(){\n",
              "                            \n",
              "var gd = document.getElementById('9752c8a2-cce5-44c6-bcd4-621925ed2430');\n",
              "var x = new MutationObserver(function (mutations, observer) {{\n",
              "        var display = window.getComputedStyle(gd).display;\n",
              "        if (!display || display === 'none') {{\n",
              "            console.log([gd, 'removed!']);\n",
              "            Plotly.purge(gd);\n",
              "            observer.disconnect();\n",
              "        }}\n",
              "}});\n",
              "\n",
              "// Listen for the removal of the full notebook cells\n",
              "var notebookContainer = gd.closest('#notebook-container');\n",
              "if (notebookContainer) {{\n",
              "    x.observe(notebookContainer, {childList: true});\n",
              "}}\n",
              "\n",
              "// Listen for the clearing of the current output cell\n",
              "var outputEl = gd.closest('.output');\n",
              "if (outputEl) {{\n",
              "    x.observe(outputEl, {childList: true});\n",
              "}}\n",
              "\n",
              "                        })\n",
              "                };\n",
              "                \n",
              "            </script>\n",
              "        </div>\n",
              "</body>\n",
              "</html>"
            ]
          },
          "metadata": {
            "tags": []
          }
        }
      ]
    },
    {
      "cell_type": "markdown",
      "metadata": {
        "id": "UcJeudFa07F5",
        "colab_type": "text"
      },
      "source": [
        "**State data totals**"
      ]
    },
    {
      "cell_type": "code",
      "metadata": {
        "id": "x16gmJhm4IuP",
        "colab_type": "code",
        "outputId": "e3d60046-94a2-4818-a64d-9ce33ac2bee8",
        "colab": {
          "base_uri": "https://localhost:8080/",
          "height": 34
        }
      },
      "source": [
        "Alabama2013 = dfweather_data_2013[dfweather_data_2013['STATE'].str.match('ALABAMA')]\n",
        "damageTotalAlabama = Alabama2013['DAMAGE_PROPERTY'].sum()\n",
        "damageTotalAlabama"
      ],
      "execution_count": 0,
      "outputs": [
        {
          "output_type": "execute_result",
          "data": {
            "text/plain": [
              "8394450.0"
            ]
          },
          "metadata": {
            "tags": []
          },
          "execution_count": 222
        }
      ]
    },
    {
      "cell_type": "code",
      "metadata": {
        "id": "XiiND6Ab4Ve8",
        "colab_type": "code",
        "colab": {}
      },
      "source": [
        "Alaska2013 = dfweather_data_2013[dfweather_data_2013['STATE'].str.match('ALASKA')]\n",
        "damageTotalAlaska = Alaska2013['DAMAGE_PROPERTY'].sum()"
      ],
      "execution_count": 0,
      "outputs": []
    },
    {
      "cell_type": "code",
      "metadata": {
        "id": "v60HBiqD4ka5",
        "colab_type": "code",
        "colab": {}
      },
      "source": [
        "Arizona2013 = dfweather_data_2013[dfweather_data_2013['STATE'].str.match('ARIZONA')]\n",
        "damageTotalArizona = Arizona2013['DAMAGE_PROPERTY'].sum()"
      ],
      "execution_count": 0,
      "outputs": []
    },
    {
      "cell_type": "code",
      "metadata": {
        "id": "fRKaKzzK45Rw",
        "colab_type": "code",
        "colab": {}
      },
      "source": [
        "Arkansas2013 = dfweather_data_2013[dfweather_data_2013['STATE'].str.match('ARKANSAS')]\n",
        "damageTotalArkansas = Arkansas2013['DAMAGE_PROPERTY'].sum()"
      ],
      "execution_count": 0,
      "outputs": []
    },
    {
      "cell_type": "code",
      "metadata": {
        "id": "lmnxZkpW1CBY",
        "colab_type": "code",
        "colab": {}
      },
      "source": [
        "Texas2013 = dfweather_data_2013[dfweather_data_2013['STATE'].str.match('TEXAS')]\n",
        "damageTotalTexas = Texas2013['DAMAGE_PROPERTY'].sum()"
      ],
      "execution_count": 0,
      "outputs": []
    },
    {
      "cell_type": "markdown",
      "metadata": {
        "id": "fj8TX9sifd8D",
        "colab_type": "text"
      },
      "source": [
        "# **2014**"
      ]
    },
    {
      "cell_type": "code",
      "metadata": {
        "id": "4UciNaM1grVy",
        "colab_type": "code",
        "colab": {}
      },
      "source": [
        "Weather_url_2014 = \"https://www1.ncdc.noaa.gov/pub/data/swdi/stormevents/csvfiles/StormEvents_details-ftp_v1.0_d2014_c20191116.csv.gz\"\n",
        "#!curl https://www1.ncdc.noaa.gov/pub/data/swdi/stormevents/csvfiles/StormEvents_details-ftp_v1.0_d2014_c20191116.csv.gz"
      ],
      "execution_count": 0,
      "outputs": []
    },
    {
      "cell_type": "code",
      "metadata": {
        "id": "OmKP_AvggwMZ",
        "colab_type": "code",
        "outputId": "0e4c2422-7a8b-4b8f-a2d8-7807a7cf9d91",
        "colab": {
          "base_uri": "https://localhost:8080/",
          "height": 34
        }
      },
      "source": [
        "weather_data_2014 = pd.read_csv(Weather_url_2014)\n",
        "weather_data_2014.shape"
      ],
      "execution_count": 0,
      "outputs": [
        {
          "output_type": "execute_result",
          "data": {
            "text/plain": [
              "(59465, 51)"
            ]
          },
          "metadata": {
            "tags": []
          },
          "execution_count": 19
        }
      ]
    },
    {
      "cell_type": "code",
      "metadata": {
        "id": "jJ1l_39FgyAq",
        "colab_type": "code",
        "outputId": "de6536f2-5cea-4ec3-95b9-7c9b4be5ec8e",
        "colab": {
          "base_uri": "https://localhost:8080/",
          "height": 394
        }
      },
      "source": [
        "weather_data_2014.head()"
      ],
      "execution_count": 0,
      "outputs": [
        {
          "output_type": "execute_result",
          "data": {
            "text/html": [
              "<div>\n",
              "<style scoped>\n",
              "    .dataframe tbody tr th:only-of-type {\n",
              "        vertical-align: middle;\n",
              "    }\n",
              "\n",
              "    .dataframe tbody tr th {\n",
              "        vertical-align: top;\n",
              "    }\n",
              "\n",
              "    .dataframe thead th {\n",
              "        text-align: right;\n",
              "    }\n",
              "</style>\n",
              "<table border=\"1\" class=\"dataframe\">\n",
              "  <thead>\n",
              "    <tr style=\"text-align: right;\">\n",
              "      <th></th>\n",
              "      <th>BEGIN_YEARMONTH</th>\n",
              "      <th>BEGIN_DAY</th>\n",
              "      <th>BEGIN_TIME</th>\n",
              "      <th>END_YEARMONTH</th>\n",
              "      <th>END_DAY</th>\n",
              "      <th>END_TIME</th>\n",
              "      <th>EPISODE_ID</th>\n",
              "      <th>EVENT_ID</th>\n",
              "      <th>STATE</th>\n",
              "      <th>STATE_FIPS</th>\n",
              "      <th>YEAR</th>\n",
              "      <th>MONTH_NAME</th>\n",
              "      <th>EVENT_TYPE</th>\n",
              "      <th>CZ_TYPE</th>\n",
              "      <th>CZ_FIPS</th>\n",
              "      <th>CZ_NAME</th>\n",
              "      <th>WFO</th>\n",
              "      <th>BEGIN_DATE_TIME</th>\n",
              "      <th>CZ_TIMEZONE</th>\n",
              "      <th>END_DATE_TIME</th>\n",
              "      <th>INJURIES_DIRECT</th>\n",
              "      <th>INJURIES_INDIRECT</th>\n",
              "      <th>DEATHS_DIRECT</th>\n",
              "      <th>DEATHS_INDIRECT</th>\n",
              "      <th>DAMAGE_PROPERTY</th>\n",
              "      <th>DAMAGE_CROPS</th>\n",
              "      <th>SOURCE</th>\n",
              "      <th>MAGNITUDE</th>\n",
              "      <th>MAGNITUDE_TYPE</th>\n",
              "      <th>FLOOD_CAUSE</th>\n",
              "      <th>CATEGORY</th>\n",
              "      <th>TOR_F_SCALE</th>\n",
              "      <th>TOR_LENGTH</th>\n",
              "      <th>TOR_WIDTH</th>\n",
              "      <th>TOR_OTHER_WFO</th>\n",
              "      <th>TOR_OTHER_CZ_STATE</th>\n",
              "      <th>TOR_OTHER_CZ_FIPS</th>\n",
              "      <th>TOR_OTHER_CZ_NAME</th>\n",
              "      <th>BEGIN_RANGE</th>\n",
              "      <th>BEGIN_AZIMUTH</th>\n",
              "      <th>BEGIN_LOCATION</th>\n",
              "      <th>END_RANGE</th>\n",
              "      <th>END_AZIMUTH</th>\n",
              "      <th>END_LOCATION</th>\n",
              "      <th>BEGIN_LAT</th>\n",
              "      <th>BEGIN_LON</th>\n",
              "      <th>END_LAT</th>\n",
              "      <th>END_LON</th>\n",
              "      <th>EPISODE_NARRATIVE</th>\n",
              "      <th>EVENT_NARRATIVE</th>\n",
              "      <th>DATA_SOURCE</th>\n",
              "    </tr>\n",
              "  </thead>\n",
              "  <tbody>\n",
              "    <tr>\n",
              "      <th>0</th>\n",
              "      <td>201402</td>\n",
              "      <td>18</td>\n",
              "      <td>1000</td>\n",
              "      <td>201402</td>\n",
              "      <td>18</td>\n",
              "      <td>2000</td>\n",
              "      <td>83473</td>\n",
              "      <td>503953</td>\n",
              "      <td>NEW HAMPSHIRE</td>\n",
              "      <td>33</td>\n",
              "      <td>2014</td>\n",
              "      <td>February</td>\n",
              "      <td>Heavy Snow</td>\n",
              "      <td>Z</td>\n",
              "      <td>12</td>\n",
              "      <td>EASTERN HILLSBOROUGH</td>\n",
              "      <td>BOX</td>\n",
              "      <td>18-FEB-14 10:00:00</td>\n",
              "      <td>EST-5</td>\n",
              "      <td>18-FEB-14 20:00:00</td>\n",
              "      <td>0</td>\n",
              "      <td>0</td>\n",
              "      <td>0</td>\n",
              "      <td>0</td>\n",
              "      <td>0.00K</td>\n",
              "      <td>0.00K</td>\n",
              "      <td>Trained Spotter</td>\n",
              "      <td>NaN</td>\n",
              "      <td>NaN</td>\n",
              "      <td>NaN</td>\n",
              "      <td>NaN</td>\n",
              "      <td>NaN</td>\n",
              "      <td>NaN</td>\n",
              "      <td>NaN</td>\n",
              "      <td>NaN</td>\n",
              "      <td>NaN</td>\n",
              "      <td>NaN</td>\n",
              "      <td>NaN</td>\n",
              "      <td>NaN</td>\n",
              "      <td>NaN</td>\n",
              "      <td>NaN</td>\n",
              "      <td>NaN</td>\n",
              "      <td>NaN</td>\n",
              "      <td>NaN</td>\n",
              "      <td>NaN</td>\n",
              "      <td>NaN</td>\n",
              "      <td>NaN</td>\n",
              "      <td>NaN</td>\n",
              "      <td>Low pressure developing south of Long Island a...</td>\n",
              "      <td>Eight to twelve inches of snow fell across eas...</td>\n",
              "      <td>CSV</td>\n",
              "    </tr>\n",
              "    <tr>\n",
              "      <th>1</th>\n",
              "      <td>201402</td>\n",
              "      <td>5</td>\n",
              "      <td>300</td>\n",
              "      <td>201402</td>\n",
              "      <td>5</td>\n",
              "      <td>2300</td>\n",
              "      <td>83491</td>\n",
              "      <td>504065</td>\n",
              "      <td>NEW HAMPSHIRE</td>\n",
              "      <td>33</td>\n",
              "      <td>2014</td>\n",
              "      <td>February</td>\n",
              "      <td>Heavy Snow</td>\n",
              "      <td>Z</td>\n",
              "      <td>12</td>\n",
              "      <td>EASTERN HILLSBOROUGH</td>\n",
              "      <td>BOX</td>\n",
              "      <td>05-FEB-14 03:00:00</td>\n",
              "      <td>EST-5</td>\n",
              "      <td>05-FEB-14 23:00:00</td>\n",
              "      <td>0</td>\n",
              "      <td>0</td>\n",
              "      <td>0</td>\n",
              "      <td>0</td>\n",
              "      <td>0.00K</td>\n",
              "      <td>0.00K</td>\n",
              "      <td>Trained Spotter</td>\n",
              "      <td>NaN</td>\n",
              "      <td>NaN</td>\n",
              "      <td>NaN</td>\n",
              "      <td>NaN</td>\n",
              "      <td>NaN</td>\n",
              "      <td>NaN</td>\n",
              "      <td>NaN</td>\n",
              "      <td>NaN</td>\n",
              "      <td>NaN</td>\n",
              "      <td>NaN</td>\n",
              "      <td>NaN</td>\n",
              "      <td>NaN</td>\n",
              "      <td>NaN</td>\n",
              "      <td>NaN</td>\n",
              "      <td>NaN</td>\n",
              "      <td>NaN</td>\n",
              "      <td>NaN</td>\n",
              "      <td>NaN</td>\n",
              "      <td>NaN</td>\n",
              "      <td>NaN</td>\n",
              "      <td>NaN</td>\n",
              "      <td>Low pressure moving off the mid-Atlantic coast...</td>\n",
              "      <td>Six to twelve inches of snow fell across easte...</td>\n",
              "      <td>CSV</td>\n",
              "    </tr>\n",
              "    <tr>\n",
              "      <th>2</th>\n",
              "      <td>201401</td>\n",
              "      <td>18</td>\n",
              "      <td>1000</td>\n",
              "      <td>201401</td>\n",
              "      <td>19</td>\n",
              "      <td>700</td>\n",
              "      <td>82185</td>\n",
              "      <td>494521</td>\n",
              "      <td>NEW HAMPSHIRE</td>\n",
              "      <td>33</td>\n",
              "      <td>2014</td>\n",
              "      <td>January</td>\n",
              "      <td>Heavy Snow</td>\n",
              "      <td>Z</td>\n",
              "      <td>12</td>\n",
              "      <td>EASTERN HILLSBOROUGH</td>\n",
              "      <td>BOX</td>\n",
              "      <td>18-JAN-14 10:00:00</td>\n",
              "      <td>EST-5</td>\n",
              "      <td>19-JAN-14 07:00:00</td>\n",
              "      <td>0</td>\n",
              "      <td>0</td>\n",
              "      <td>0</td>\n",
              "      <td>0</td>\n",
              "      <td>0.00K</td>\n",
              "      <td>0.00K</td>\n",
              "      <td>Trained Spotter</td>\n",
              "      <td>NaN</td>\n",
              "      <td>NaN</td>\n",
              "      <td>NaN</td>\n",
              "      <td>NaN</td>\n",
              "      <td>NaN</td>\n",
              "      <td>NaN</td>\n",
              "      <td>NaN</td>\n",
              "      <td>NaN</td>\n",
              "      <td>NaN</td>\n",
              "      <td>NaN</td>\n",
              "      <td>NaN</td>\n",
              "      <td>NaN</td>\n",
              "      <td>NaN</td>\n",
              "      <td>NaN</td>\n",
              "      <td>NaN</td>\n",
              "      <td>NaN</td>\n",
              "      <td>NaN</td>\n",
              "      <td>NaN</td>\n",
              "      <td>NaN</td>\n",
              "      <td>NaN</td>\n",
              "      <td>NaN</td>\n",
              "      <td>Low pressure brought a brief period of heavy s...</td>\n",
              "      <td>Four to eight inches of snow fell across easte...</td>\n",
              "      <td>CSV</td>\n",
              "    </tr>\n",
              "    <tr>\n",
              "      <th>3</th>\n",
              "      <td>201411</td>\n",
              "      <td>26</td>\n",
              "      <td>1000</td>\n",
              "      <td>201411</td>\n",
              "      <td>27</td>\n",
              "      <td>1000</td>\n",
              "      <td>91728</td>\n",
              "      <td>549746</td>\n",
              "      <td>NEW HAMPSHIRE</td>\n",
              "      <td>33</td>\n",
              "      <td>2014</td>\n",
              "      <td>November</td>\n",
              "      <td>Heavy Snow</td>\n",
              "      <td>Z</td>\n",
              "      <td>12</td>\n",
              "      <td>EASTERN HILLSBOROUGH</td>\n",
              "      <td>BOX</td>\n",
              "      <td>26-NOV-14 10:00:00</td>\n",
              "      <td>EST-5</td>\n",
              "      <td>27-NOV-14 10:00:00</td>\n",
              "      <td>0</td>\n",
              "      <td>0</td>\n",
              "      <td>0</td>\n",
              "      <td>0</td>\n",
              "      <td>15.00K</td>\n",
              "      <td>0.00K</td>\n",
              "      <td>COOP Observer</td>\n",
              "      <td>NaN</td>\n",
              "      <td>NaN</td>\n",
              "      <td>NaN</td>\n",
              "      <td>NaN</td>\n",
              "      <td>NaN</td>\n",
              "      <td>NaN</td>\n",
              "      <td>NaN</td>\n",
              "      <td>NaN</td>\n",
              "      <td>NaN</td>\n",
              "      <td>NaN</td>\n",
              "      <td>NaN</td>\n",
              "      <td>NaN</td>\n",
              "      <td>NaN</td>\n",
              "      <td>NaN</td>\n",
              "      <td>NaN</td>\n",
              "      <td>NaN</td>\n",
              "      <td>NaN</td>\n",
              "      <td>NaN</td>\n",
              "      <td>NaN</td>\n",
              "      <td>NaN</td>\n",
              "      <td>NaN</td>\n",
              "      <td>A strong coastal storm moved up the east coast...</td>\n",
              "      <td>Six to eight inches of snow fell across easter...</td>\n",
              "      <td>CSV</td>\n",
              "    </tr>\n",
              "    <tr>\n",
              "      <th>4</th>\n",
              "      <td>201402</td>\n",
              "      <td>13</td>\n",
              "      <td>630</td>\n",
              "      <td>201402</td>\n",
              "      <td>14</td>\n",
              "      <td>800</td>\n",
              "      <td>83476</td>\n",
              "      <td>503982</td>\n",
              "      <td>NEW HAMPSHIRE</td>\n",
              "      <td>33</td>\n",
              "      <td>2014</td>\n",
              "      <td>February</td>\n",
              "      <td>Heavy Snow</td>\n",
              "      <td>Z</td>\n",
              "      <td>12</td>\n",
              "      <td>EASTERN HILLSBOROUGH</td>\n",
              "      <td>BOX</td>\n",
              "      <td>13-FEB-14 06:30:00</td>\n",
              "      <td>EST-5</td>\n",
              "      <td>14-FEB-14 08:00:00</td>\n",
              "      <td>0</td>\n",
              "      <td>0</td>\n",
              "      <td>0</td>\n",
              "      <td>0</td>\n",
              "      <td>0.00K</td>\n",
              "      <td>0.00K</td>\n",
              "      <td>Trained Spotter</td>\n",
              "      <td>NaN</td>\n",
              "      <td>NaN</td>\n",
              "      <td>NaN</td>\n",
              "      <td>NaN</td>\n",
              "      <td>NaN</td>\n",
              "      <td>NaN</td>\n",
              "      <td>NaN</td>\n",
              "      <td>NaN</td>\n",
              "      <td>NaN</td>\n",
              "      <td>NaN</td>\n",
              "      <td>NaN</td>\n",
              "      <td>NaN</td>\n",
              "      <td>NaN</td>\n",
              "      <td>NaN</td>\n",
              "      <td>NaN</td>\n",
              "      <td>NaN</td>\n",
              "      <td>NaN</td>\n",
              "      <td>NaN</td>\n",
              "      <td>NaN</td>\n",
              "      <td>NaN</td>\n",
              "      <td>NaN</td>\n",
              "      <td>A significant winter storm brought six to twel...</td>\n",
              "      <td>Five to eight inches of snow fell across easte...</td>\n",
              "      <td>CSV</td>\n",
              "    </tr>\n",
              "  </tbody>\n",
              "</table>\n",
              "</div>"
            ],
            "text/plain": [
              "   BEGIN_YEARMONTH  ...  DATA_SOURCE\n",
              "0           201402  ...          CSV\n",
              "1           201402  ...          CSV\n",
              "2           201401  ...          CSV\n",
              "3           201411  ...          CSV\n",
              "4           201402  ...          CSV\n",
              "\n",
              "[5 rows x 51 columns]"
            ]
          },
          "metadata": {
            "tags": []
          },
          "execution_count": 20
        }
      ]
    },
    {
      "cell_type": "code",
      "metadata": {
        "id": "g1sHC6HAg4eA",
        "colab_type": "code",
        "colab": {}
      },
      "source": [
        "dfweather_data_2014 = weather_data_2014[['STATE','DAMAGE_PROPERTY']].copy()"
      ],
      "execution_count": 0,
      "outputs": []
    },
    {
      "cell_type": "code",
      "metadata": {
        "id": "7ZAS1q1Ng8Dq",
        "colab_type": "code",
        "colab": {}
      },
      "source": [
        "#dropping NaN values\n",
        "dfweather_data_2014 = dfweather_data_2014.dropna()"
      ],
      "execution_count": 0,
      "outputs": []
    },
    {
      "cell_type": "code",
      "metadata": {
        "id": "609YhWTMhAZh",
        "colab_type": "code",
        "colab": {}
      },
      "source": [
        "DAMAGE_PROPERTY_2014 = dfweather_data_2014['DAMAGE_PROPERTY'].replace({'K': '*1e3', 'M': '*1e6', 'B': '1e9'}, regex=True).map(pd.eval).astype(int)"
      ],
      "execution_count": 0,
      "outputs": []
    },
    {
      "cell_type": "code",
      "metadata": {
        "id": "HNKDVDnshWUo",
        "colab_type": "code",
        "colab": {}
      },
      "source": [
        "dfweather_data_2014['DAMAGE_PROPERTY'] = DAMAGE_PROPERTY_2014"
      ],
      "execution_count": 0,
      "outputs": []
    },
    {
      "cell_type": "markdown",
      "metadata": {
        "id": "9Lj9SORak1OJ",
        "colab_type": "text"
      },
      "source": [
        "**State Totals**"
      ]
    },
    {
      "cell_type": "code",
      "metadata": {
        "id": "yffDBD2Bk4W2",
        "colab_type": "code",
        "colab": {}
      },
      "source": [
        "#adds together the state totals\n",
        "newdf2014 = dfweather_data_2014.groupby(['STATE'], as_index=False).sum()"
      ],
      "execution_count": 0,
      "outputs": []
    },
    {
      "cell_type": "code",
      "metadata": {
        "id": "klrX43b7k7p_",
        "colab_type": "code",
        "outputId": "a552fa62-d0db-4b90-b9f1-2e4ba965eaee",
        "colab": {
          "base_uri": "https://localhost:8080/",
          "height": 204
        }
      },
      "source": [
        "#creates a new dataframe\n",
        "df2014 = pd.DataFrame(newdf2014)\n",
        "df2014.head()"
      ],
      "execution_count": 0,
      "outputs": [
        {
          "output_type": "execute_result",
          "data": {
            "text/html": [
              "<div>\n",
              "<style scoped>\n",
              "    .dataframe tbody tr th:only-of-type {\n",
              "        vertical-align: middle;\n",
              "    }\n",
              "\n",
              "    .dataframe tbody tr th {\n",
              "        vertical-align: top;\n",
              "    }\n",
              "\n",
              "    .dataframe thead th {\n",
              "        text-align: right;\n",
              "    }\n",
              "</style>\n",
              "<table border=\"1\" class=\"dataframe\">\n",
              "  <thead>\n",
              "    <tr style=\"text-align: right;\">\n",
              "      <th></th>\n",
              "      <th>STATE</th>\n",
              "      <th>DAMAGE_PROPERTY</th>\n",
              "    </tr>\n",
              "  </thead>\n",
              "  <tbody>\n",
              "    <tr>\n",
              "      <th>0</th>\n",
              "      <td>ALABAMA</td>\n",
              "      <td>38215160</td>\n",
              "    </tr>\n",
              "    <tr>\n",
              "      <th>1</th>\n",
              "      <td>ALASKA</td>\n",
              "      <td>1471000</td>\n",
              "    </tr>\n",
              "    <tr>\n",
              "      <th>2</th>\n",
              "      <td>AMERICAN SAMOA</td>\n",
              "      <td>0</td>\n",
              "    </tr>\n",
              "    <tr>\n",
              "      <th>3</th>\n",
              "      <td>ARIZONA</td>\n",
              "      <td>28046500</td>\n",
              "    </tr>\n",
              "    <tr>\n",
              "      <th>4</th>\n",
              "      <td>ARKANSAS</td>\n",
              "      <td>266334400</td>\n",
              "    </tr>\n",
              "  </tbody>\n",
              "</table>\n",
              "</div>"
            ],
            "text/plain": [
              "            STATE  DAMAGE_PROPERTY\n",
              "0         ALABAMA         38215160\n",
              "1          ALASKA          1471000\n",
              "2  AMERICAN SAMOA                0\n",
              "3         ARIZONA         28046500\n",
              "4        ARKANSAS        266334400"
            ]
          },
          "metadata": {
            "tags": []
          },
          "execution_count": 27
        }
      ]
    },
    {
      "cell_type": "markdown",
      "metadata": {
        "id": "TdlNA0v-lBRG",
        "colab_type": "text"
      },
      "source": [
        "**Plots**"
      ]
    },
    {
      "cell_type": "code",
      "metadata": {
        "id": "i9I9cA6-lC9N",
        "colab_type": "code",
        "outputId": "c27b1510-6413-4413-ceb6-fd9cb3b66fa9",
        "colab": {
          "base_uri": "https://localhost:8080/",
          "height": 419
        }
      },
      "source": [
        "df2014.sort_values(by='DAMAGE_PROPERTY', ascending=False)"
      ],
      "execution_count": 0,
      "outputs": [
        {
          "output_type": "execute_result",
          "data": {
            "text/html": [
              "<div>\n",
              "<style scoped>\n",
              "    .dataframe tbody tr th:only-of-type {\n",
              "        vertical-align: middle;\n",
              "    }\n",
              "\n",
              "    .dataframe tbody tr th {\n",
              "        vertical-align: top;\n",
              "    }\n",
              "\n",
              "    .dataframe thead th {\n",
              "        text-align: right;\n",
              "    }\n",
              "</style>\n",
              "<table border=\"1\" class=\"dataframe\">\n",
              "  <thead>\n",
              "    <tr style=\"text-align: right;\">\n",
              "      <th></th>\n",
              "      <th>STATE</th>\n",
              "      <th>DAMAGE_PROPERTY</th>\n",
              "    </tr>\n",
              "  </thead>\n",
              "  <tbody>\n",
              "    <tr>\n",
              "      <th>34</th>\n",
              "      <td>MICHIGAN</td>\n",
              "      <td>1881374000</td>\n",
              "    </tr>\n",
              "    <tr>\n",
              "      <th>56</th>\n",
              "      <td>TEXAS</td>\n",
              "      <td>1026154650</td>\n",
              "    </tr>\n",
              "    <tr>\n",
              "      <th>61</th>\n",
              "      <td>WASHINGTON</td>\n",
              "      <td>328164500</td>\n",
              "    </tr>\n",
              "    <tr>\n",
              "      <th>4</th>\n",
              "      <td>ARKANSAS</td>\n",
              "      <td>266334400</td>\n",
              "    </tr>\n",
              "    <tr>\n",
              "      <th>20</th>\n",
              "      <td>ILLINOIS</td>\n",
              "      <td>255703000</td>\n",
              "    </tr>\n",
              "    <tr>\n",
              "      <th>...</th>\n",
              "      <td>...</td>\n",
              "      <td>...</td>\n",
              "    </tr>\n",
              "    <tr>\n",
              "      <th>12</th>\n",
              "      <td>E PACIFIC</td>\n",
              "      <td>0</td>\n",
              "    </tr>\n",
              "    <tr>\n",
              "      <th>28</th>\n",
              "      <td>LAKE ST CLAIR</td>\n",
              "      <td>0</td>\n",
              "    </tr>\n",
              "    <tr>\n",
              "      <th>59</th>\n",
              "      <td>VIRGIN ISLANDS</td>\n",
              "      <td>0</td>\n",
              "    </tr>\n",
              "    <tr>\n",
              "      <th>25</th>\n",
              "      <td>LAKE ERIE</td>\n",
              "      <td>0</td>\n",
              "    </tr>\n",
              "    <tr>\n",
              "      <th>2</th>\n",
              "      <td>AMERICAN SAMOA</td>\n",
              "      <td>0</td>\n",
              "    </tr>\n",
              "  </tbody>\n",
              "</table>\n",
              "<p>65 rows × 2 columns</p>\n",
              "</div>"
            ],
            "text/plain": [
              "             STATE  DAMAGE_PROPERTY\n",
              "34        MICHIGAN       1881374000\n",
              "56           TEXAS       1026154650\n",
              "61      WASHINGTON        328164500\n",
              "4         ARKANSAS        266334400\n",
              "20        ILLINOIS        255703000\n",
              "..             ...              ...\n",
              "12       E PACIFIC                0\n",
              "28   LAKE ST CLAIR                0\n",
              "59  VIRGIN ISLANDS                0\n",
              "25       LAKE ERIE                0\n",
              "2   AMERICAN SAMOA                0\n",
              "\n",
              "[65 rows x 2 columns]"
            ]
          },
          "metadata": {
            "tags": []
          },
          "execution_count": 28
        }
      ]
    },
    {
      "cell_type": "code",
      "metadata": {
        "id": "jv3E1d5flHAI",
        "colab_type": "code",
        "colab": {}
      },
      "source": [
        "df2014['STATE']=df2014['STATE'].str.capitalize()"
      ],
      "execution_count": 0,
      "outputs": []
    },
    {
      "cell_type": "code",
      "metadata": {
        "id": "nNGCh2BSlMAf",
        "colab_type": "code",
        "colab": {}
      },
      "source": [
        "df2014['STATE'] = df2014['STATE'].replace({'Alaska':'AK',\n",
        "        'Alabama':'AL',\n",
        "        'Arkansas':'AR',\n",
        "        'American Samoa':'AS',\n",
        "        'Arizona':'AZ',\n",
        "        'California':'CA',\n",
        "        'Colorado':'CO',\n",
        "        'Connecticut':'CT',\n",
        "        'District of columbia':'DC',\n",
        "        'Delaware':'DE',\n",
        "        'Florida':'FL',\n",
        "        'Georgia':'GA',\n",
        "        'Guam':'GU',\n",
        "        'Hawaii':'HI',\n",
        "        'Iowa':'IA',\n",
        "        'Idaho':'ID',\n",
        "         'Illinois':'IL',\n",
        "        'Indiana':'IN',\n",
        "        'Kansas':'KS',\n",
        "        'Kentucky':'KY',\n",
        "        'Louisiana':'LA',\n",
        "        'Massachusetts':'MA',\n",
        "        'Maryland':'MD',\n",
        "        'Maine':'ME',\n",
        "        'Michigan':'MI',\n",
        "        'Minnesota':'MN',\n",
        "        'Missouri':'MO',\n",
        "        'Northern mariana islands':'MP',\n",
        "        'Mississippi':'MS',\n",
        "        'Montana':'MT',\n",
        "        'National':'NA',\n",
        "        'North carolina':'NC',\n",
        "        'North dakota':'ND',\n",
        "        'Nebraska':'NE',\n",
        "        'New hampshire':'NH',\n",
        "        'New jersey':'NJ',\n",
        "        'New mexico':'NM',\n",
        "        'Nevada':'NV',\n",
        "        'New york':'NY',\n",
        "        'Ohio':'OH',\n",
        "        'Oklahoma':'OK',\n",
        "        'Oregon':'OR',\n",
        "        'Pennsylvania':'PA',\n",
        "        'Puerto rico':'PR',\n",
        "        'Rhode island':'RI',\n",
        "        'South carolina':'SC',\n",
        "        'South dakota':'SD',\n",
        "        'Tennessee':'TN',\n",
        "        'Texas':'TX',\n",
        "        'Utah':'UT',\n",
        "        'Virginia':'VA',\n",
        "        'Virgin islands':'VI',\n",
        "        'Vermont':'VT',\n",
        "        'Washington':'WA',\n",
        "        'Wisconsin':'WI',\n",
        "        'West virginia':'WV',\n",
        "        'Wyoming':'WY'}, regex=True)"
      ],
      "execution_count": 0,
      "outputs": []
    },
    {
      "cell_type": "code",
      "metadata": {
        "id": "gno9faE_lRiX",
        "colab_type": "code",
        "outputId": "80696215-9ac6-47f7-dcc4-02a2118f3c5f",
        "colab": {
          "base_uri": "https://localhost:8080/",
          "height": 204
        }
      },
      "source": [
        "df2014.head()"
      ],
      "execution_count": 0,
      "outputs": [
        {
          "output_type": "execute_result",
          "data": {
            "text/html": [
              "<div>\n",
              "<style scoped>\n",
              "    .dataframe tbody tr th:only-of-type {\n",
              "        vertical-align: middle;\n",
              "    }\n",
              "\n",
              "    .dataframe tbody tr th {\n",
              "        vertical-align: top;\n",
              "    }\n",
              "\n",
              "    .dataframe thead th {\n",
              "        text-align: right;\n",
              "    }\n",
              "</style>\n",
              "<table border=\"1\" class=\"dataframe\">\n",
              "  <thead>\n",
              "    <tr style=\"text-align: right;\">\n",
              "      <th></th>\n",
              "      <th>STATE</th>\n",
              "      <th>DAMAGE_PROPERTY</th>\n",
              "    </tr>\n",
              "  </thead>\n",
              "  <tbody>\n",
              "    <tr>\n",
              "      <th>0</th>\n",
              "      <td>AL</td>\n",
              "      <td>38215160</td>\n",
              "    </tr>\n",
              "    <tr>\n",
              "      <th>1</th>\n",
              "      <td>AK</td>\n",
              "      <td>1471000</td>\n",
              "    </tr>\n",
              "    <tr>\n",
              "      <th>2</th>\n",
              "      <td>American samoa</td>\n",
              "      <td>0</td>\n",
              "    </tr>\n",
              "    <tr>\n",
              "      <th>3</th>\n",
              "      <td>AZ</td>\n",
              "      <td>28046500</td>\n",
              "    </tr>\n",
              "    <tr>\n",
              "      <th>4</th>\n",
              "      <td>AR</td>\n",
              "      <td>266334400</td>\n",
              "    </tr>\n",
              "  </tbody>\n",
              "</table>\n",
              "</div>"
            ],
            "text/plain": [
              "            STATE  DAMAGE_PROPERTY\n",
              "0              AL         38215160\n",
              "1              AK          1471000\n",
              "2  American samoa                0\n",
              "3              AZ         28046500\n",
              "4              AR        266334400"
            ]
          },
          "metadata": {
            "tags": []
          },
          "execution_count": 31
        }
      ]
    },
    {
      "cell_type": "code",
      "metadata": {
        "id": "sYHrPRnelTyH",
        "colab_type": "code",
        "colab": {}
      },
      "source": [
        "mycolumn='DAMAGE_PROPERTY'\n",
        "myheading1 = f\"Wow! That's a lot of {mycolumn}!\"\n",
        "mygraphtitle = '2014 US Storm Damage Cost by State'\n",
        "mycolorscale = 'ylorrd' # Note: The error message will list possible color scales.\n",
        "mycolorbartitle = \"USD Currency\""
      ],
      "execution_count": 0,
      "outputs": []
    },
    {
      "cell_type": "code",
      "metadata": {
        "id": "GLW-fAM4lc7P",
        "colab_type": "code",
        "outputId": "29dbc7f9-529d-41b6-c491-03dff7af5df6",
        "colab": {
          "base_uri": "https://localhost:8080/",
          "height": 817
        }
      },
      "source": [
        "fig = go.Figure(data=go.Choropleth(\n",
        "    locations=df2014['STATE'], # Spatial coordinates\n",
        "    z = df2014[mycolumn].astype(float), # Data to be color-coded\n",
        "    locationmode = 'USA-states', # set of locations match entries in `locations`\n",
        "    colorscale = mycolorscale,\n",
        "    colorbar_title = mycolorbartitle,\n",
        "))\n",
        "\n",
        "fig.update_layout(\n",
        "    title_text = mygraphtitle,\n",
        "    geo_scope='usa',\n",
        "    width=1200,\n",
        "    height=800\n",
        ")\n",
        "fig.show()"
      ],
      "execution_count": 0,
      "outputs": [
        {
          "output_type": "display_data",
          "data": {
            "text/html": [
              "<html>\n",
              "<head><meta charset=\"utf-8\" /></head>\n",
              "<body>\n",
              "    <div>\n",
              "            <script src=\"https://cdnjs.cloudflare.com/ajax/libs/mathjax/2.7.5/MathJax.js?config=TeX-AMS-MML_SVG\"></script><script type=\"text/javascript\">if (window.MathJax) {MathJax.Hub.Config({SVG: {font: \"STIX-Web\"}});}</script>\n",
              "                <script type=\"text/javascript\">window.PlotlyConfig = {MathJaxConfig: 'local'};</script>\n",
              "        <script src=\"https://cdn.plot.ly/plotly-latest.min.js\"></script>    \n",
              "            <div id=\"1fd26ff6-761e-46e1-9538-8cf07c1681aa\" class=\"plotly-graph-div\" style=\"height:800px; width:1200px;\"></div>\n",
              "            <script type=\"text/javascript\">\n",
              "                \n",
              "                    window.PLOTLYENV=window.PLOTLYENV || {};\n",
              "                    \n",
              "                if (document.getElementById(\"1fd26ff6-761e-46e1-9538-8cf07c1681aa\")) {\n",
              "                    Plotly.newPlot(\n",
              "                        '1fd26ff6-761e-46e1-9538-8cf07c1681aa',\n",
              "                        [{\"colorbar\": {\"title\": {\"text\": \"USD Currency\"}}, \"colorscale\": [[0.0, \"rgb(255,255,204)\"], [0.125, \"rgb(255,237,160)\"], [0.25, \"rgb(254,217,118)\"], [0.375, \"rgb(254,178,76)\"], [0.5, \"rgb(253,141,60)\"], [0.625, \"rgb(252,78,42)\"], [0.75, \"rgb(227,26,28)\"], [0.875, \"rgb(189,0,38)\"], [1.0, \"rgb(128,0,38)\"]], \"locationmode\": \"USA-states\", \"locations\": [\"AL\", \"AK\", \"American samoa\", \"AZ\", \"AR\", \"Atlantic north\", \"Atlantic south\", \"CA\", \"CO\", \"CT\", \"DE\", \"DC\", \"E pacific\", \"FL\", \"GA\", \"GU\", \"Gulf of mexico\", \"HI\", \"HI waters\", \"ID\", \"IL\", \"IN\", \"IA\", \"KS\", \"KY\", \"Lake erie\", \"Lake huron\", \"Lake michigan\", \"Lake st clair\", \"Lake superior\", \"LA\", \"ME\", \"MD\", \"MA\", \"MI\", \"MN\", \"MS\", \"MO\", \"MT\", \"NE\", \"NV\", \"NH\", \"NJ\", \"NM\", \"NY\", \"NC\", \"ND\", \"OH\", \"OK\", \"OR\", \"PA\", \"PR\", \"RI\", \"SC\", \"SD\", \"TN\", \"TX\", \"UT\", \"VT\", \"VI\", \"VA\", \"WA\", \"WV\", \"WI\", \"WY\"], \"type\": \"choropleth\", \"z\": [38215160.0, 1471000.0, 0.0, 28046500.0, 266334400.0, 6000.0, 10100.0, 126831500.0, 215290800.0, 514000.0, 415000.0, 6000.0, 0.0, 210238290.0, 9043410.0, 5800000.0, 6000.0, 110000.0, 0.0, 8641600.0, 255703000.0, 75335850.0, 74117300.0, 30357800.0, 12303600.0, 0.0, 0.0, 110500.0, 0.0, 0.0, 10236800.0, 3687000.0, 5836000.0, 11819000.0, 1881374000.0, 47553200.0, 212068580.0, 7135500.0, 2750500.0, 109957000.0, 13355100.0, 3765000.0, 13775250.0, 6051600.0, 93322499.0, 54504200.0, 21085000.0, 96945350.0, 9793000.0, 3358000.0, 18892750.0, 24800.0, 157000.0, 12054900.0, 17439000.0, 57254000.0, 1026154650.0, 7085000.0, 7250000.0, 0.0, 7384700.0, 328164500.0, 10305200.0, 51074500.0, 2199000.0]}],\n",
              "                        {\"geo\": {\"scope\": \"usa\"}, \"height\": 800, \"template\": {\"data\": {\"bar\": [{\"error_x\": {\"color\": \"#2a3f5f\"}, \"error_y\": {\"color\": \"#2a3f5f\"}, \"marker\": {\"line\": {\"color\": \"#E5ECF6\", \"width\": 0.5}}, \"type\": \"bar\"}], \"barpolar\": [{\"marker\": {\"line\": {\"color\": \"#E5ECF6\", \"width\": 0.5}}, \"type\": \"barpolar\"}], \"carpet\": [{\"aaxis\": {\"endlinecolor\": \"#2a3f5f\", \"gridcolor\": \"white\", \"linecolor\": \"white\", \"minorgridcolor\": \"white\", \"startlinecolor\": \"#2a3f5f\"}, \"baxis\": {\"endlinecolor\": \"#2a3f5f\", \"gridcolor\": \"white\", \"linecolor\": \"white\", \"minorgridcolor\": \"white\", \"startlinecolor\": \"#2a3f5f\"}, \"type\": \"carpet\"}], \"choropleth\": [{\"colorbar\": {\"outlinewidth\": 0, \"ticks\": \"\"}, \"type\": \"choropleth\"}], \"contour\": [{\"colorbar\": {\"outlinewidth\": 0, \"ticks\": \"\"}, \"colorscale\": [[0.0, \"#0d0887\"], [0.1111111111111111, \"#46039f\"], [0.2222222222222222, \"#7201a8\"], [0.3333333333333333, \"#9c179e\"], [0.4444444444444444, \"#bd3786\"], [0.5555555555555556, \"#d8576b\"], [0.6666666666666666, \"#ed7953\"], [0.7777777777777778, \"#fb9f3a\"], [0.8888888888888888, \"#fdca26\"], [1.0, \"#f0f921\"]], \"type\": \"contour\"}], \"contourcarpet\": [{\"colorbar\": {\"outlinewidth\": 0, \"ticks\": \"\"}, \"type\": \"contourcarpet\"}], \"heatmap\": [{\"colorbar\": {\"outlinewidth\": 0, \"ticks\": \"\"}, \"colorscale\": [[0.0, \"#0d0887\"], [0.1111111111111111, \"#46039f\"], [0.2222222222222222, \"#7201a8\"], [0.3333333333333333, \"#9c179e\"], [0.4444444444444444, \"#bd3786\"], [0.5555555555555556, \"#d8576b\"], [0.6666666666666666, \"#ed7953\"], [0.7777777777777778, \"#fb9f3a\"], [0.8888888888888888, \"#fdca26\"], [1.0, \"#f0f921\"]], \"type\": \"heatmap\"}], \"heatmapgl\": [{\"colorbar\": {\"outlinewidth\": 0, \"ticks\": \"\"}, \"colorscale\": [[0.0, \"#0d0887\"], [0.1111111111111111, \"#46039f\"], [0.2222222222222222, \"#7201a8\"], [0.3333333333333333, \"#9c179e\"], [0.4444444444444444, \"#bd3786\"], [0.5555555555555556, \"#d8576b\"], [0.6666666666666666, \"#ed7953\"], [0.7777777777777778, \"#fb9f3a\"], [0.8888888888888888, \"#fdca26\"], [1.0, \"#f0f921\"]], \"type\": \"heatmapgl\"}], \"histogram\": [{\"marker\": {\"colorbar\": {\"outlinewidth\": 0, \"ticks\": \"\"}}, \"type\": \"histogram\"}], \"histogram2d\": [{\"colorbar\": {\"outlinewidth\": 0, \"ticks\": \"\"}, \"colorscale\": [[0.0, \"#0d0887\"], [0.1111111111111111, \"#46039f\"], [0.2222222222222222, \"#7201a8\"], [0.3333333333333333, \"#9c179e\"], [0.4444444444444444, \"#bd3786\"], [0.5555555555555556, \"#d8576b\"], [0.6666666666666666, \"#ed7953\"], [0.7777777777777778, \"#fb9f3a\"], [0.8888888888888888, \"#fdca26\"], [1.0, \"#f0f921\"]], \"type\": \"histogram2d\"}], \"histogram2dcontour\": [{\"colorbar\": {\"outlinewidth\": 0, \"ticks\": \"\"}, \"colorscale\": [[0.0, \"#0d0887\"], [0.1111111111111111, \"#46039f\"], [0.2222222222222222, \"#7201a8\"], [0.3333333333333333, \"#9c179e\"], [0.4444444444444444, \"#bd3786\"], [0.5555555555555556, \"#d8576b\"], [0.6666666666666666, \"#ed7953\"], [0.7777777777777778, \"#fb9f3a\"], [0.8888888888888888, \"#fdca26\"], [1.0, \"#f0f921\"]], \"type\": \"histogram2dcontour\"}], \"mesh3d\": [{\"colorbar\": {\"outlinewidth\": 0, \"ticks\": \"\"}, \"type\": \"mesh3d\"}], \"parcoords\": [{\"line\": {\"colorbar\": {\"outlinewidth\": 0, \"ticks\": \"\"}}, \"type\": \"parcoords\"}], \"pie\": [{\"automargin\": true, \"type\": \"pie\"}], \"scatter\": [{\"marker\": {\"colorbar\": {\"outlinewidth\": 0, \"ticks\": \"\"}}, \"type\": \"scatter\"}], \"scatter3d\": [{\"line\": {\"colorbar\": {\"outlinewidth\": 0, \"ticks\": \"\"}}, \"marker\": {\"colorbar\": {\"outlinewidth\": 0, \"ticks\": \"\"}}, \"type\": \"scatter3d\"}], \"scattercarpet\": [{\"marker\": {\"colorbar\": {\"outlinewidth\": 0, \"ticks\": \"\"}}, \"type\": \"scattercarpet\"}], \"scattergeo\": [{\"marker\": {\"colorbar\": {\"outlinewidth\": 0, \"ticks\": \"\"}}, \"type\": \"scattergeo\"}], \"scattergl\": [{\"marker\": {\"colorbar\": {\"outlinewidth\": 0, \"ticks\": \"\"}}, \"type\": \"scattergl\"}], \"scattermapbox\": [{\"marker\": {\"colorbar\": {\"outlinewidth\": 0, \"ticks\": \"\"}}, \"type\": \"scattermapbox\"}], \"scatterpolar\": [{\"marker\": {\"colorbar\": {\"outlinewidth\": 0, \"ticks\": \"\"}}, \"type\": \"scatterpolar\"}], \"scatterpolargl\": [{\"marker\": {\"colorbar\": {\"outlinewidth\": 0, \"ticks\": \"\"}}, \"type\": \"scatterpolargl\"}], \"scatterternary\": [{\"marker\": {\"colorbar\": {\"outlinewidth\": 0, \"ticks\": \"\"}}, \"type\": \"scatterternary\"}], \"surface\": [{\"colorbar\": {\"outlinewidth\": 0, \"ticks\": \"\"}, \"colorscale\": [[0.0, \"#0d0887\"], [0.1111111111111111, \"#46039f\"], [0.2222222222222222, \"#7201a8\"], [0.3333333333333333, \"#9c179e\"], [0.4444444444444444, \"#bd3786\"], [0.5555555555555556, \"#d8576b\"], [0.6666666666666666, \"#ed7953\"], [0.7777777777777778, \"#fb9f3a\"], [0.8888888888888888, \"#fdca26\"], [1.0, \"#f0f921\"]], \"type\": \"surface\"}], \"table\": [{\"cells\": {\"fill\": {\"color\": \"#EBF0F8\"}, \"line\": {\"color\": \"white\"}}, \"header\": {\"fill\": {\"color\": \"#C8D4E3\"}, \"line\": {\"color\": \"white\"}}, \"type\": \"table\"}]}, \"layout\": {\"annotationdefaults\": {\"arrowcolor\": \"#2a3f5f\", \"arrowhead\": 0, \"arrowwidth\": 1}, \"coloraxis\": {\"colorbar\": {\"outlinewidth\": 0, \"ticks\": \"\"}}, \"colorscale\": {\"diverging\": [[0, \"#8e0152\"], [0.1, \"#c51b7d\"], [0.2, \"#de77ae\"], [0.3, \"#f1b6da\"], [0.4, \"#fde0ef\"], [0.5, \"#f7f7f7\"], [0.6, \"#e6f5d0\"], [0.7, \"#b8e186\"], [0.8, \"#7fbc41\"], [0.9, \"#4d9221\"], [1, \"#276419\"]], \"sequential\": [[0.0, \"#0d0887\"], [0.1111111111111111, \"#46039f\"], [0.2222222222222222, \"#7201a8\"], [0.3333333333333333, \"#9c179e\"], [0.4444444444444444, \"#bd3786\"], [0.5555555555555556, \"#d8576b\"], [0.6666666666666666, \"#ed7953\"], [0.7777777777777778, \"#fb9f3a\"], [0.8888888888888888, \"#fdca26\"], [1.0, \"#f0f921\"]], \"sequentialminus\": [[0.0, \"#0d0887\"], [0.1111111111111111, \"#46039f\"], [0.2222222222222222, \"#7201a8\"], [0.3333333333333333, \"#9c179e\"], [0.4444444444444444, \"#bd3786\"], [0.5555555555555556, \"#d8576b\"], [0.6666666666666666, \"#ed7953\"], [0.7777777777777778, \"#fb9f3a\"], [0.8888888888888888, \"#fdca26\"], [1.0, \"#f0f921\"]]}, \"colorway\": [\"#636efa\", \"#EF553B\", \"#00cc96\", \"#ab63fa\", \"#FFA15A\", \"#19d3f3\", \"#FF6692\", \"#B6E880\", \"#FF97FF\", \"#FECB52\"], \"font\": {\"color\": \"#2a3f5f\"}, \"geo\": {\"bgcolor\": \"white\", \"lakecolor\": \"white\", \"landcolor\": \"#E5ECF6\", \"showlakes\": true, \"showland\": true, \"subunitcolor\": \"white\"}, \"hoverlabel\": {\"align\": \"left\"}, \"hovermode\": \"closest\", \"mapbox\": {\"style\": \"light\"}, \"paper_bgcolor\": \"white\", \"plot_bgcolor\": \"#E5ECF6\", \"polar\": {\"angularaxis\": {\"gridcolor\": \"white\", \"linecolor\": \"white\", \"ticks\": \"\"}, \"bgcolor\": \"#E5ECF6\", \"radialaxis\": {\"gridcolor\": \"white\", \"linecolor\": \"white\", \"ticks\": \"\"}}, \"scene\": {\"xaxis\": {\"backgroundcolor\": \"#E5ECF6\", \"gridcolor\": \"white\", \"gridwidth\": 2, \"linecolor\": \"white\", \"showbackground\": true, \"ticks\": \"\", \"zerolinecolor\": \"white\"}, \"yaxis\": {\"backgroundcolor\": \"#E5ECF6\", \"gridcolor\": \"white\", \"gridwidth\": 2, \"linecolor\": \"white\", \"showbackground\": true, \"ticks\": \"\", \"zerolinecolor\": \"white\"}, \"zaxis\": {\"backgroundcolor\": \"#E5ECF6\", \"gridcolor\": \"white\", \"gridwidth\": 2, \"linecolor\": \"white\", \"showbackground\": true, \"ticks\": \"\", \"zerolinecolor\": \"white\"}}, \"shapedefaults\": {\"line\": {\"color\": \"#2a3f5f\"}}, \"ternary\": {\"aaxis\": {\"gridcolor\": \"white\", \"linecolor\": \"white\", \"ticks\": \"\"}, \"baxis\": {\"gridcolor\": \"white\", \"linecolor\": \"white\", \"ticks\": \"\"}, \"bgcolor\": \"#E5ECF6\", \"caxis\": {\"gridcolor\": \"white\", \"linecolor\": \"white\", \"ticks\": \"\"}}, \"title\": {\"x\": 0.05}, \"xaxis\": {\"automargin\": true, \"gridcolor\": \"white\", \"linecolor\": \"white\", \"ticks\": \"\", \"title\": {\"standoff\": 15}, \"zerolinecolor\": \"white\", \"zerolinewidth\": 2}, \"yaxis\": {\"automargin\": true, \"gridcolor\": \"white\", \"linecolor\": \"white\", \"ticks\": \"\", \"title\": {\"standoff\": 15}, \"zerolinecolor\": \"white\", \"zerolinewidth\": 2}}}, \"title\": {\"text\": \"2016 US Storm Damage Cost by State\"}, \"width\": 1200},\n",
              "                        {\"responsive\": true}\n",
              "                    ).then(function(){\n",
              "                            \n",
              "var gd = document.getElementById('1fd26ff6-761e-46e1-9538-8cf07c1681aa');\n",
              "var x = new MutationObserver(function (mutations, observer) {{\n",
              "        var display = window.getComputedStyle(gd).display;\n",
              "        if (!display || display === 'none') {{\n",
              "            console.log([gd, 'removed!']);\n",
              "            Plotly.purge(gd);\n",
              "            observer.disconnect();\n",
              "        }}\n",
              "}});\n",
              "\n",
              "// Listen for the removal of the full notebook cells\n",
              "var notebookContainer = gd.closest('#notebook-container');\n",
              "if (notebookContainer) {{\n",
              "    x.observe(notebookContainer, {childList: true});\n",
              "}}\n",
              "\n",
              "// Listen for the clearing of the current output cell\n",
              "var outputEl = gd.closest('.output');\n",
              "if (outputEl) {{\n",
              "    x.observe(outputEl, {childList: true});\n",
              "}}\n",
              "\n",
              "                        })\n",
              "                };\n",
              "                \n",
              "            </script>\n",
              "        </div>\n",
              "</body>\n",
              "</html>"
            ]
          },
          "metadata": {
            "tags": []
          }
        }
      ]
    },
    {
      "cell_type": "markdown",
      "metadata": {
        "id": "cSMlSGDxfgJL",
        "colab_type": "text"
      },
      "source": [
        "# **2015**"
      ]
    },
    {
      "cell_type": "code",
      "metadata": {
        "id": "21llm_u7hcCf",
        "colab_type": "code",
        "colab": {}
      },
      "source": [
        "Weather_url_2015 = \"https://www1.ncdc.noaa.gov/pub/data/swdi/stormevents/csvfiles/StormEvents_details-ftp_v1.0_d2015_c20191116.csv.gz\"\n",
        "#!curl https://www1.ncdc.noaa.gov/pub/data/swdi/stormevents/csvfiles/StormEvents_details-ftp_v1.0_d2015_c20191116.csv.gz"
      ],
      "execution_count": 0,
      "outputs": []
    },
    {
      "cell_type": "code",
      "metadata": {
        "id": "uIy07Lg0h6VX",
        "colab_type": "code",
        "outputId": "4b6fd16e-ad63-4dae-c832-bb44290d169f",
        "colab": {
          "base_uri": "https://localhost:8080/",
          "height": 34
        }
      },
      "source": [
        "weather_data_2015 = pd.read_csv(Weather_url_2015)\n",
        "weather_data_2015.shape"
      ],
      "execution_count": 0,
      "outputs": [
        {
          "output_type": "execute_result",
          "data": {
            "text/plain": [
              "(57788, 51)"
            ]
          },
          "metadata": {
            "tags": []
          },
          "execution_count": 35
        }
      ]
    },
    {
      "cell_type": "code",
      "metadata": {
        "id": "d_A48dC6h9xe",
        "colab_type": "code",
        "outputId": "3ed50685-4fc8-42c4-9738-bb5984ca8380",
        "colab": {
          "base_uri": "https://localhost:8080/",
          "height": 411
        }
      },
      "source": [
        "weather_data_2015.head()"
      ],
      "execution_count": 0,
      "outputs": [
        {
          "output_type": "execute_result",
          "data": {
            "text/html": [
              "<div>\n",
              "<style scoped>\n",
              "    .dataframe tbody tr th:only-of-type {\n",
              "        vertical-align: middle;\n",
              "    }\n",
              "\n",
              "    .dataframe tbody tr th {\n",
              "        vertical-align: top;\n",
              "    }\n",
              "\n",
              "    .dataframe thead th {\n",
              "        text-align: right;\n",
              "    }\n",
              "</style>\n",
              "<table border=\"1\" class=\"dataframe\">\n",
              "  <thead>\n",
              "    <tr style=\"text-align: right;\">\n",
              "      <th></th>\n",
              "      <th>BEGIN_YEARMONTH</th>\n",
              "      <th>BEGIN_DAY</th>\n",
              "      <th>BEGIN_TIME</th>\n",
              "      <th>END_YEARMONTH</th>\n",
              "      <th>END_DAY</th>\n",
              "      <th>END_TIME</th>\n",
              "      <th>EPISODE_ID</th>\n",
              "      <th>EVENT_ID</th>\n",
              "      <th>STATE</th>\n",
              "      <th>STATE_FIPS</th>\n",
              "      <th>YEAR</th>\n",
              "      <th>MONTH_NAME</th>\n",
              "      <th>EVENT_TYPE</th>\n",
              "      <th>CZ_TYPE</th>\n",
              "      <th>CZ_FIPS</th>\n",
              "      <th>CZ_NAME</th>\n",
              "      <th>WFO</th>\n",
              "      <th>BEGIN_DATE_TIME</th>\n",
              "      <th>CZ_TIMEZONE</th>\n",
              "      <th>END_DATE_TIME</th>\n",
              "      <th>INJURIES_DIRECT</th>\n",
              "      <th>INJURIES_INDIRECT</th>\n",
              "      <th>DEATHS_DIRECT</th>\n",
              "      <th>DEATHS_INDIRECT</th>\n",
              "      <th>DAMAGE_PROPERTY</th>\n",
              "      <th>DAMAGE_CROPS</th>\n",
              "      <th>SOURCE</th>\n",
              "      <th>MAGNITUDE</th>\n",
              "      <th>MAGNITUDE_TYPE</th>\n",
              "      <th>FLOOD_CAUSE</th>\n",
              "      <th>CATEGORY</th>\n",
              "      <th>TOR_F_SCALE</th>\n",
              "      <th>TOR_LENGTH</th>\n",
              "      <th>TOR_WIDTH</th>\n",
              "      <th>TOR_OTHER_WFO</th>\n",
              "      <th>TOR_OTHER_CZ_STATE</th>\n",
              "      <th>TOR_OTHER_CZ_FIPS</th>\n",
              "      <th>TOR_OTHER_CZ_NAME</th>\n",
              "      <th>BEGIN_RANGE</th>\n",
              "      <th>BEGIN_AZIMUTH</th>\n",
              "      <th>BEGIN_LOCATION</th>\n",
              "      <th>END_RANGE</th>\n",
              "      <th>END_AZIMUTH</th>\n",
              "      <th>END_LOCATION</th>\n",
              "      <th>BEGIN_LAT</th>\n",
              "      <th>BEGIN_LON</th>\n",
              "      <th>END_LAT</th>\n",
              "      <th>END_LON</th>\n",
              "      <th>EPISODE_NARRATIVE</th>\n",
              "      <th>EVENT_NARRATIVE</th>\n",
              "      <th>DATA_SOURCE</th>\n",
              "    </tr>\n",
              "  </thead>\n",
              "  <tbody>\n",
              "    <tr>\n",
              "      <th>0</th>\n",
              "      <td>201501</td>\n",
              "      <td>27</td>\n",
              "      <td>1200</td>\n",
              "      <td>201501</td>\n",
              "      <td>28</td>\n",
              "      <td>400</td>\n",
              "      <td>92561</td>\n",
              "      <td>559139</td>\n",
              "      <td>NEW HAMPSHIRE</td>\n",
              "      <td>33</td>\n",
              "      <td>2015</td>\n",
              "      <td>January</td>\n",
              "      <td>Winter Storm</td>\n",
              "      <td>Z</td>\n",
              "      <td>12</td>\n",
              "      <td>EASTERN HILLSBOROUGH</td>\n",
              "      <td>GYX</td>\n",
              "      <td>27-JAN-15 12:00:00</td>\n",
              "      <td>EST-5</td>\n",
              "      <td>28-JAN-15 04:00:00</td>\n",
              "      <td>0</td>\n",
              "      <td>0</td>\n",
              "      <td>0</td>\n",
              "      <td>0</td>\n",
              "      <td>0.00K</td>\n",
              "      <td>0.00K</td>\n",
              "      <td>Official NWS Observations</td>\n",
              "      <td>NaN</td>\n",
              "      <td>NaN</td>\n",
              "      <td>NaN</td>\n",
              "      <td>NaN</td>\n",
              "      <td>NaN</td>\n",
              "      <td>NaN</td>\n",
              "      <td>NaN</td>\n",
              "      <td>NaN</td>\n",
              "      <td>NaN</td>\n",
              "      <td>NaN</td>\n",
              "      <td>NaN</td>\n",
              "      <td>NaN</td>\n",
              "      <td>NaN</td>\n",
              "      <td>NaN</td>\n",
              "      <td>NaN</td>\n",
              "      <td>NaN</td>\n",
              "      <td>NaN</td>\n",
              "      <td>NaN</td>\n",
              "      <td>NaN</td>\n",
              "      <td>NaN</td>\n",
              "      <td>NaN</td>\n",
              "      <td>An area of low pressure developed off the Delm...</td>\n",
              "      <td>Once blizzard conditions subsided, snow and bl...</td>\n",
              "      <td>CSV</td>\n",
              "    </tr>\n",
              "    <tr>\n",
              "      <th>1</th>\n",
              "      <td>201501</td>\n",
              "      <td>24</td>\n",
              "      <td>700</td>\n",
              "      <td>201501</td>\n",
              "      <td>24</td>\n",
              "      <td>2100</td>\n",
              "      <td>92625</td>\n",
              "      <td>555067</td>\n",
              "      <td>NEW HAMPSHIRE</td>\n",
              "      <td>33</td>\n",
              "      <td>2015</td>\n",
              "      <td>January</td>\n",
              "      <td>Heavy Snow</td>\n",
              "      <td>Z</td>\n",
              "      <td>12</td>\n",
              "      <td>EASTERN HILLSBOROUGH</td>\n",
              "      <td>GYX</td>\n",
              "      <td>24-JAN-15 07:00:00</td>\n",
              "      <td>EST-5</td>\n",
              "      <td>24-JAN-15 21:00:00</td>\n",
              "      <td>0</td>\n",
              "      <td>0</td>\n",
              "      <td>0</td>\n",
              "      <td>0</td>\n",
              "      <td>0.00K</td>\n",
              "      <td>0.00K</td>\n",
              "      <td>Trained Spotter</td>\n",
              "      <td>NaN</td>\n",
              "      <td>NaN</td>\n",
              "      <td>NaN</td>\n",
              "      <td>NaN</td>\n",
              "      <td>NaN</td>\n",
              "      <td>NaN</td>\n",
              "      <td>NaN</td>\n",
              "      <td>NaN</td>\n",
              "      <td>NaN</td>\n",
              "      <td>NaN</td>\n",
              "      <td>NaN</td>\n",
              "      <td>NaN</td>\n",
              "      <td>NaN</td>\n",
              "      <td>NaN</td>\n",
              "      <td>NaN</td>\n",
              "      <td>NaN</td>\n",
              "      <td>NaN</td>\n",
              "      <td>NaN</td>\n",
              "      <td>NaN</td>\n",
              "      <td>NaN</td>\n",
              "      <td>NaN</td>\n",
              "      <td>An area of low pressure moving rapidly northea...</td>\n",
              "      <td>NaN</td>\n",
              "      <td>CSV</td>\n",
              "    </tr>\n",
              "    <tr>\n",
              "      <th>2</th>\n",
              "      <td>201501</td>\n",
              "      <td>27</td>\n",
              "      <td>600</td>\n",
              "      <td>201501</td>\n",
              "      <td>27</td>\n",
              "      <td>1200</td>\n",
              "      <td>92561</td>\n",
              "      <td>554564</td>\n",
              "      <td>NEW HAMPSHIRE</td>\n",
              "      <td>33</td>\n",
              "      <td>2015</td>\n",
              "      <td>January</td>\n",
              "      <td>Blizzard</td>\n",
              "      <td>Z</td>\n",
              "      <td>12</td>\n",
              "      <td>EASTERN HILLSBOROUGH</td>\n",
              "      <td>GYX</td>\n",
              "      <td>27-JAN-15 06:00:00</td>\n",
              "      <td>EST-5</td>\n",
              "      <td>27-JAN-15 12:00:00</td>\n",
              "      <td>0</td>\n",
              "      <td>0</td>\n",
              "      <td>0</td>\n",
              "      <td>0</td>\n",
              "      <td>0.00K</td>\n",
              "      <td>0.00K</td>\n",
              "      <td>AWOS</td>\n",
              "      <td>NaN</td>\n",
              "      <td>NaN</td>\n",
              "      <td>NaN</td>\n",
              "      <td>NaN</td>\n",
              "      <td>NaN</td>\n",
              "      <td>NaN</td>\n",
              "      <td>NaN</td>\n",
              "      <td>NaN</td>\n",
              "      <td>NaN</td>\n",
              "      <td>NaN</td>\n",
              "      <td>NaN</td>\n",
              "      <td>NaN</td>\n",
              "      <td>NaN</td>\n",
              "      <td>NaN</td>\n",
              "      <td>NaN</td>\n",
              "      <td>NaN</td>\n",
              "      <td>NaN</td>\n",
              "      <td>NaN</td>\n",
              "      <td>NaN</td>\n",
              "      <td>NaN</td>\n",
              "      <td>NaN</td>\n",
              "      <td>An area of low pressure developed off the Delm...</td>\n",
              "      <td>NaN</td>\n",
              "      <td>CSV</td>\n",
              "    </tr>\n",
              "    <tr>\n",
              "      <th>3</th>\n",
              "      <td>201502</td>\n",
              "      <td>14</td>\n",
              "      <td>800</td>\n",
              "      <td>201502</td>\n",
              "      <td>15</td>\n",
              "      <td>1700</td>\n",
              "      <td>93895</td>\n",
              "      <td>564438</td>\n",
              "      <td>NEW HAMPSHIRE</td>\n",
              "      <td>33</td>\n",
              "      <td>2015</td>\n",
              "      <td>February</td>\n",
              "      <td>Heavy Snow</td>\n",
              "      <td>Z</td>\n",
              "      <td>12</td>\n",
              "      <td>EASTERN HILLSBOROUGH</td>\n",
              "      <td>GYX</td>\n",
              "      <td>14-FEB-15 08:00:00</td>\n",
              "      <td>EST-5</td>\n",
              "      <td>15-FEB-15 17:00:00</td>\n",
              "      <td>0</td>\n",
              "      <td>0</td>\n",
              "      <td>0</td>\n",
              "      <td>0</td>\n",
              "      <td>0.00K</td>\n",
              "      <td>0.00K</td>\n",
              "      <td>Trained Spotter</td>\n",
              "      <td>NaN</td>\n",
              "      <td>NaN</td>\n",
              "      <td>NaN</td>\n",
              "      <td>NaN</td>\n",
              "      <td>NaN</td>\n",
              "      <td>NaN</td>\n",
              "      <td>NaN</td>\n",
              "      <td>NaN</td>\n",
              "      <td>NaN</td>\n",
              "      <td>NaN</td>\n",
              "      <td>NaN</td>\n",
              "      <td>NaN</td>\n",
              "      <td>NaN</td>\n",
              "      <td>NaN</td>\n",
              "      <td>NaN</td>\n",
              "      <td>NaN</td>\n",
              "      <td>NaN</td>\n",
              "      <td>NaN</td>\n",
              "      <td>NaN</td>\n",
              "      <td>NaN</td>\n",
              "      <td>NaN</td>\n",
              "      <td>Low pressure dropping southeast from Canada on...</td>\n",
              "      <td>NaN</td>\n",
              "      <td>CSV</td>\n",
              "    </tr>\n",
              "    <tr>\n",
              "      <th>4</th>\n",
              "      <td>201502</td>\n",
              "      <td>7</td>\n",
              "      <td>2200</td>\n",
              "      <td>201502</td>\n",
              "      <td>10</td>\n",
              "      <td>500</td>\n",
              "      <td>93902</td>\n",
              "      <td>564486</td>\n",
              "      <td>NEW HAMPSHIRE</td>\n",
              "      <td>33</td>\n",
              "      <td>2015</td>\n",
              "      <td>February</td>\n",
              "      <td>Heavy Snow</td>\n",
              "      <td>Z</td>\n",
              "      <td>12</td>\n",
              "      <td>EASTERN HILLSBOROUGH</td>\n",
              "      <td>GYX</td>\n",
              "      <td>07-FEB-15 22:00:00</td>\n",
              "      <td>EST-5</td>\n",
              "      <td>10-FEB-15 05:00:00</td>\n",
              "      <td>0</td>\n",
              "      <td>0</td>\n",
              "      <td>0</td>\n",
              "      <td>0</td>\n",
              "      <td>0.00K</td>\n",
              "      <td>0.00K</td>\n",
              "      <td>Trained Spotter</td>\n",
              "      <td>NaN</td>\n",
              "      <td>NaN</td>\n",
              "      <td>NaN</td>\n",
              "      <td>NaN</td>\n",
              "      <td>NaN</td>\n",
              "      <td>NaN</td>\n",
              "      <td>NaN</td>\n",
              "      <td>NaN</td>\n",
              "      <td>NaN</td>\n",
              "      <td>NaN</td>\n",
              "      <td>NaN</td>\n",
              "      <td>NaN</td>\n",
              "      <td>NaN</td>\n",
              "      <td>NaN</td>\n",
              "      <td>NaN</td>\n",
              "      <td>NaN</td>\n",
              "      <td>NaN</td>\n",
              "      <td>NaN</td>\n",
              "      <td>NaN</td>\n",
              "      <td>NaN</td>\n",
              "      <td>NaN</td>\n",
              "      <td>A series of low pressure areas moving along a ...</td>\n",
              "      <td>NaN</td>\n",
              "      <td>CSV</td>\n",
              "    </tr>\n",
              "  </tbody>\n",
              "</table>\n",
              "</div>"
            ],
            "text/plain": [
              "   BEGIN_YEARMONTH  ...  DATA_SOURCE\n",
              "0           201501  ...          CSV\n",
              "1           201501  ...          CSV\n",
              "2           201501  ...          CSV\n",
              "3           201502  ...          CSV\n",
              "4           201502  ...          CSV\n",
              "\n",
              "[5 rows x 51 columns]"
            ]
          },
          "metadata": {
            "tags": []
          },
          "execution_count": 36
        }
      ]
    },
    {
      "cell_type": "code",
      "metadata": {
        "id": "6KqVlIjHiCJi",
        "colab_type": "code",
        "colab": {}
      },
      "source": [
        "dfweather_data_2015 = weather_data_2015[['STATE','DAMAGE_PROPERTY']].copy()"
      ],
      "execution_count": 0,
      "outputs": []
    },
    {
      "cell_type": "code",
      "metadata": {
        "id": "yCxNLBMHiOUn",
        "colab_type": "code",
        "colab": {}
      },
      "source": [
        "#dropping NaN values\n",
        "dfweather_data_2015 = dfweather_data_2015.dropna()"
      ],
      "execution_count": 0,
      "outputs": []
    },
    {
      "cell_type": "code",
      "metadata": {
        "id": "1MKd-9WKiU1m",
        "colab_type": "code",
        "colab": {}
      },
      "source": [
        "DAMAGE_PROPERTY_2015 = dfweather_data_2015['DAMAGE_PROPERTY'].replace({'K': '*1e3', 'M': '*1e6', 'B': '1e9'}, regex=True).map(pd.eval).astype(int)"
      ],
      "execution_count": 0,
      "outputs": []
    },
    {
      "cell_type": "code",
      "metadata": {
        "id": "XJTcbO7RicF3",
        "colab_type": "code",
        "colab": {}
      },
      "source": [
        "dfweather_data_2015['DAMAGE_PROPERTY'] = DAMAGE_PROPERTY_2015"
      ],
      "execution_count": 0,
      "outputs": []
    },
    {
      "cell_type": "markdown",
      "metadata": {
        "id": "4sF0OdfEmE-A",
        "colab_type": "text"
      },
      "source": [
        "**State Totals**"
      ]
    },
    {
      "cell_type": "code",
      "metadata": {
        "id": "JevJ_sgUmICj",
        "colab_type": "code",
        "colab": {}
      },
      "source": [
        "#adds together the state totals\n",
        "newdf2015 = dfweather_data_2015.groupby(['STATE'], as_index=False).sum()"
      ],
      "execution_count": 0,
      "outputs": []
    },
    {
      "cell_type": "code",
      "metadata": {
        "id": "AM6ODXqDmUcm",
        "colab_type": "code",
        "outputId": "80b946df-3900-4b4b-eccf-a6e8724efafb",
        "colab": {
          "base_uri": "https://localhost:8080/",
          "height": 204
        }
      },
      "source": [
        "#creates a new dataframe\n",
        "df2015 = pd.DataFrame(newdf2015)\n",
        "df2015.head()"
      ],
      "execution_count": 0,
      "outputs": [
        {
          "output_type": "execute_result",
          "data": {
            "text/html": [
              "<div>\n",
              "<style scoped>\n",
              "    .dataframe tbody tr th:only-of-type {\n",
              "        vertical-align: middle;\n",
              "    }\n",
              "\n",
              "    .dataframe tbody tr th {\n",
              "        vertical-align: top;\n",
              "    }\n",
              "\n",
              "    .dataframe thead th {\n",
              "        text-align: right;\n",
              "    }\n",
              "</style>\n",
              "<table border=\"1\" class=\"dataframe\">\n",
              "  <thead>\n",
              "    <tr style=\"text-align: right;\">\n",
              "      <th></th>\n",
              "      <th>STATE</th>\n",
              "      <th>DAMAGE_PROPERTY</th>\n",
              "    </tr>\n",
              "  </thead>\n",
              "  <tbody>\n",
              "    <tr>\n",
              "      <th>0</th>\n",
              "      <td>ALABAMA</td>\n",
              "      <td>14794500</td>\n",
              "    </tr>\n",
              "    <tr>\n",
              "      <th>1</th>\n",
              "      <td>ALASKA</td>\n",
              "      <td>26703800</td>\n",
              "    </tr>\n",
              "    <tr>\n",
              "      <th>2</th>\n",
              "      <td>AMERICAN SAMOA</td>\n",
              "      <td>13000000</td>\n",
              "    </tr>\n",
              "    <tr>\n",
              "      <th>3</th>\n",
              "      <td>ARIZONA</td>\n",
              "      <td>10740500</td>\n",
              "    </tr>\n",
              "    <tr>\n",
              "      <th>4</th>\n",
              "      <td>ARKANSAS</td>\n",
              "      <td>18253000</td>\n",
              "    </tr>\n",
              "  </tbody>\n",
              "</table>\n",
              "</div>"
            ],
            "text/plain": [
              "            STATE  DAMAGE_PROPERTY\n",
              "0         ALABAMA         14794500\n",
              "1          ALASKA         26703800\n",
              "2  AMERICAN SAMOA         13000000\n",
              "3         ARIZONA         10740500\n",
              "4        ARKANSAS         18253000"
            ]
          },
          "metadata": {
            "tags": []
          },
          "execution_count": 42
        }
      ]
    },
    {
      "cell_type": "code",
      "metadata": {
        "id": "t0OmYfJimYz-",
        "colab_type": "code",
        "outputId": "ab30872f-e2ec-4c93-babb-ae7539eaa677",
        "colab": {
          "base_uri": "https://localhost:8080/",
          "height": 419
        }
      },
      "source": [
        "df2015.sort_values(by='DAMAGE_PROPERTY', ascending=False)"
      ],
      "execution_count": 0,
      "outputs": [
        {
          "output_type": "execute_result",
          "data": {
            "text/html": [
              "<div>\n",
              "<style scoped>\n",
              "    .dataframe tbody tr th:only-of-type {\n",
              "        vertical-align: middle;\n",
              "    }\n",
              "\n",
              "    .dataframe tbody tr th {\n",
              "        vertical-align: top;\n",
              "    }\n",
              "\n",
              "    .dataframe thead th {\n",
              "        text-align: right;\n",
              "    }\n",
              "</style>\n",
              "<table border=\"1\" class=\"dataframe\">\n",
              "  <thead>\n",
              "    <tr style=\"text-align: right;\">\n",
              "      <th></th>\n",
              "      <th>STATE</th>\n",
              "      <th>DAMAGE_PROPERTY</th>\n",
              "    </tr>\n",
              "  </thead>\n",
              "  <tbody>\n",
              "    <tr>\n",
              "      <th>57</th>\n",
              "      <td>TEXAS</td>\n",
              "      <td>2143740069</td>\n",
              "    </tr>\n",
              "    <tr>\n",
              "      <th>44</th>\n",
              "      <td>NEW MEXICO</td>\n",
              "      <td>410924700</td>\n",
              "    </tr>\n",
              "    <tr>\n",
              "      <th>38</th>\n",
              "      <td>MISSOURI</td>\n",
              "      <td>323680000</td>\n",
              "    </tr>\n",
              "    <tr>\n",
              "      <th>40</th>\n",
              "      <td>NEBRASKA</td>\n",
              "      <td>235079799</td>\n",
              "    </tr>\n",
              "    <tr>\n",
              "      <th>54</th>\n",
              "      <td>SOUTH CAROLINA</td>\n",
              "      <td>153771870</td>\n",
              "    </tr>\n",
              "    <tr>\n",
              "      <th>...</th>\n",
              "      <td>...</td>\n",
              "      <td>...</td>\n",
              "    </tr>\n",
              "    <tr>\n",
              "      <th>25</th>\n",
              "      <td>LAKE ERIE</td>\n",
              "      <td>0</td>\n",
              "    </tr>\n",
              "    <tr>\n",
              "      <th>60</th>\n",
              "      <td>VIRGIN ISLANDS</td>\n",
              "      <td>0</td>\n",
              "    </tr>\n",
              "    <tr>\n",
              "      <th>29</th>\n",
              "      <td>LAKE ST CLAIR</td>\n",
              "      <td>0</td>\n",
              "    </tr>\n",
              "    <tr>\n",
              "      <th>30</th>\n",
              "      <td>LAKE SUPERIOR</td>\n",
              "      <td>0</td>\n",
              "    </tr>\n",
              "    <tr>\n",
              "      <th>18</th>\n",
              "      <td>HAWAII WATERS</td>\n",
              "      <td>0</td>\n",
              "    </tr>\n",
              "  </tbody>\n",
              "</table>\n",
              "<p>66 rows × 2 columns</p>\n",
              "</div>"
            ],
            "text/plain": [
              "             STATE  DAMAGE_PROPERTY\n",
              "57           TEXAS       2143740069\n",
              "44      NEW MEXICO        410924700\n",
              "38        MISSOURI        323680000\n",
              "40        NEBRASKA        235079799\n",
              "54  SOUTH CAROLINA        153771870\n",
              "..             ...              ...\n",
              "25       LAKE ERIE                0\n",
              "60  VIRGIN ISLANDS                0\n",
              "29   LAKE ST CLAIR                0\n",
              "30   LAKE SUPERIOR                0\n",
              "18   HAWAII WATERS                0\n",
              "\n",
              "[66 rows x 2 columns]"
            ]
          },
          "metadata": {
            "tags": []
          },
          "execution_count": 43
        }
      ]
    },
    {
      "cell_type": "code",
      "metadata": {
        "id": "KScsywA3mdeN",
        "colab_type": "code",
        "colab": {}
      },
      "source": [
        "df2015['STATE']=df2015['STATE'].str.capitalize()"
      ],
      "execution_count": 0,
      "outputs": []
    },
    {
      "cell_type": "code",
      "metadata": {
        "id": "GBY84VaEmhRr",
        "colab_type": "code",
        "colab": {}
      },
      "source": [
        "df2015['STATE'] = df2015['STATE'].replace({'Alaska':'AK',\n",
        "        'Alabama':'AL',\n",
        "        'Arkansas':'AR',\n",
        "        'American Samoa':'AS',\n",
        "        'Arizona':'AZ',\n",
        "        'California':'CA',\n",
        "        'Colorado':'CO',\n",
        "        'Connecticut':'CT',\n",
        "        'District of columbia':'DC',\n",
        "        'Delaware':'DE',\n",
        "        'Florida':'FL',\n",
        "        'Georgia':'GA',\n",
        "        'Guam':'GU',\n",
        "        'Hawaii':'HI',\n",
        "        'Iowa':'IA',\n",
        "        'Idaho':'ID',\n",
        "         'Illinois':'IL',\n",
        "        'Indiana':'IN',\n",
        "        'Kansas':'KS',\n",
        "        'Kentucky':'KY',\n",
        "        'Louisiana':'LA',\n",
        "        'Massachusetts':'MA',\n",
        "        'Maryland':'MD',\n",
        "        'Maine':'ME',\n",
        "        'Michigan':'MI',\n",
        "        'Minnesota':'MN',\n",
        "        'Missouri':'MO',\n",
        "        'Northern mariana islands':'MP',\n",
        "        'Mississippi':'MS',\n",
        "        'Montana':'MT',\n",
        "        'National':'NA',\n",
        "        'North carolina':'NC',\n",
        "        'North dakota':'ND',\n",
        "        'Nebraska':'NE',\n",
        "        'New hampshire':'NH',\n",
        "        'New jersey':'NJ',\n",
        "        'New mexico':'NM',\n",
        "        'Nevada':'NV',\n",
        "        'New york':'NY',\n",
        "        'Ohio':'OH',\n",
        "        'Oklahoma':'OK',\n",
        "        'Oregon':'OR',\n",
        "        'Pennsylvania':'PA',\n",
        "        'Puerto rico':'PR',\n",
        "        'Rhode island':'RI',\n",
        "        'South carolina':'SC',\n",
        "        'South dakota':'SD',\n",
        "        'Tennessee':'TN',\n",
        "        'Texas':'TX',\n",
        "        'Utah':'UT',\n",
        "        'Virginia':'VA',\n",
        "        'Virgin islands':'VI',\n",
        "        'Vermont':'VT',\n",
        "        'Washington':'WA',\n",
        "        'Wisconsin':'WI',\n",
        "        'West virginia':'WV',\n",
        "        'Wyoming':'WY'}, regex=True)"
      ],
      "execution_count": 0,
      "outputs": []
    },
    {
      "cell_type": "code",
      "metadata": {
        "id": "9gZn4OKqmnGs",
        "colab_type": "code",
        "outputId": "b36ef58e-8b77-4b6c-b9ea-eb56a1ec7f64",
        "colab": {
          "base_uri": "https://localhost:8080/",
          "height": 204
        }
      },
      "source": [
        "df2015.head()"
      ],
      "execution_count": 0,
      "outputs": [
        {
          "output_type": "execute_result",
          "data": {
            "text/html": [
              "<div>\n",
              "<style scoped>\n",
              "    .dataframe tbody tr th:only-of-type {\n",
              "        vertical-align: middle;\n",
              "    }\n",
              "\n",
              "    .dataframe tbody tr th {\n",
              "        vertical-align: top;\n",
              "    }\n",
              "\n",
              "    .dataframe thead th {\n",
              "        text-align: right;\n",
              "    }\n",
              "</style>\n",
              "<table border=\"1\" class=\"dataframe\">\n",
              "  <thead>\n",
              "    <tr style=\"text-align: right;\">\n",
              "      <th></th>\n",
              "      <th>STATE</th>\n",
              "      <th>DAMAGE_PROPERTY</th>\n",
              "    </tr>\n",
              "  </thead>\n",
              "  <tbody>\n",
              "    <tr>\n",
              "      <th>0</th>\n",
              "      <td>AL</td>\n",
              "      <td>14794500</td>\n",
              "    </tr>\n",
              "    <tr>\n",
              "      <th>1</th>\n",
              "      <td>AK</td>\n",
              "      <td>26703800</td>\n",
              "    </tr>\n",
              "    <tr>\n",
              "      <th>2</th>\n",
              "      <td>American samoa</td>\n",
              "      <td>13000000</td>\n",
              "    </tr>\n",
              "    <tr>\n",
              "      <th>3</th>\n",
              "      <td>AZ</td>\n",
              "      <td>10740500</td>\n",
              "    </tr>\n",
              "    <tr>\n",
              "      <th>4</th>\n",
              "      <td>AR</td>\n",
              "      <td>18253000</td>\n",
              "    </tr>\n",
              "  </tbody>\n",
              "</table>\n",
              "</div>"
            ],
            "text/plain": [
              "            STATE  DAMAGE_PROPERTY\n",
              "0              AL         14794500\n",
              "1              AK         26703800\n",
              "2  American samoa         13000000\n",
              "3              AZ         10740500\n",
              "4              AR         18253000"
            ]
          },
          "metadata": {
            "tags": []
          },
          "execution_count": 46
        }
      ]
    },
    {
      "cell_type": "code",
      "metadata": {
        "id": "bdIQBGpImpvb",
        "colab_type": "code",
        "colab": {}
      },
      "source": [
        "mycolumn='DAMAGE_PROPERTY'\n",
        "myheading1 = f\"Wow! That's a lot of {mycolumn}!\"\n",
        "mygraphtitle = '2015 US Storm Damage Cost by State'\n",
        "mycolorscale = 'ylorrd' # Note: The error message will list possible color scales.\n",
        "mycolorbartitle = \"USD Currency\""
      ],
      "execution_count": 0,
      "outputs": []
    },
    {
      "cell_type": "code",
      "metadata": {
        "id": "0rK4NxB_mtz6",
        "colab_type": "code",
        "outputId": "f4561ca2-72b9-4926-ec92-80d71a6cfe92",
        "colab": {
          "base_uri": "https://localhost:8080/",
          "height": 817
        }
      },
      "source": [
        "fig = go.Figure(data=go.Choropleth(\n",
        "    locations=df2015['STATE'], # Spatial coordinates\n",
        "    z = df2015[mycolumn].astype(float), # Data to be color-coded\n",
        "    locationmode = 'USA-states', # set of locations match entries in `locations`\n",
        "    colorscale = mycolorscale,\n",
        "    colorbar_title = mycolorbartitle,\n",
        "))\n",
        "\n",
        "fig.update_layout(\n",
        "    title_text = mygraphtitle,\n",
        "    geo_scope='usa',\n",
        "    width=1200,\n",
        "    height=800\n",
        ")\n",
        "fig.show()"
      ],
      "execution_count": 0,
      "outputs": [
        {
          "output_type": "display_data",
          "data": {
            "text/html": [
              "<html>\n",
              "<head><meta charset=\"utf-8\" /></head>\n",
              "<body>\n",
              "    <div>\n",
              "            <script src=\"https://cdnjs.cloudflare.com/ajax/libs/mathjax/2.7.5/MathJax.js?config=TeX-AMS-MML_SVG\"></script><script type=\"text/javascript\">if (window.MathJax) {MathJax.Hub.Config({SVG: {font: \"STIX-Web\"}});}</script>\n",
              "                <script type=\"text/javascript\">window.PlotlyConfig = {MathJaxConfig: 'local'};</script>\n",
              "        <script src=\"https://cdn.plot.ly/plotly-latest.min.js\"></script>    \n",
              "            <div id=\"665f521a-e5d9-4c83-9926-9669bd3d2ded\" class=\"plotly-graph-div\" style=\"height:800px; width:1200px;\"></div>\n",
              "            <script type=\"text/javascript\">\n",
              "                \n",
              "                    window.PLOTLYENV=window.PLOTLYENV || {};\n",
              "                    \n",
              "                if (document.getElementById(\"665f521a-e5d9-4c83-9926-9669bd3d2ded\")) {\n",
              "                    Plotly.newPlot(\n",
              "                        '665f521a-e5d9-4c83-9926-9669bd3d2ded',\n",
              "                        [{\"colorbar\": {\"title\": {\"text\": \"USD Currency\"}}, \"colorscale\": [[0.0, \"rgb(255,255,204)\"], [0.125, \"rgb(255,237,160)\"], [0.25, \"rgb(254,217,118)\"], [0.375, \"rgb(254,178,76)\"], [0.5, \"rgb(253,141,60)\"], [0.625, \"rgb(252,78,42)\"], [0.75, \"rgb(227,26,28)\"], [0.875, \"rgb(189,0,38)\"], [1.0, \"rgb(128,0,38)\"]], \"locationmode\": \"USA-states\", \"locations\": [\"AL\", \"AK\", \"American samoa\", \"AZ\", \"AR\", \"Atlantic north\", \"Atlantic south\", \"CA\", \"CO\", \"CT\", \"DE\", \"DC\", \"E pacific\", \"FL\", \"GA\", \"GU\", \"Gulf of mexico\", \"HI\", \"HI waters\", \"ID\", \"IL\", \"IN\", \"IA\", \"KS\", \"KY\", \"Lake erie\", \"Lake huron\", \"Lake michigan\", \"Lake ontario\", \"Lake st clair\", \"Lake superior\", \"LA\", \"ME\", \"MD\", \"MA\", \"MI\", \"MN\", \"MS\", \"MO\", \"MT\", \"NE\", \"NV\", \"NH\", \"NJ\", \"NM\", \"NY\", \"NC\", \"ND\", \"OH\", \"OK\", \"OR\", \"PA\", \"PR\", \"RI\", \"SC\", \"SD\", \"TN\", \"TX\", \"UT\", \"VT\", \"VI\", \"VA\", \"WA\", \"WV\", \"WI\", \"WY\"], \"type\": \"choropleth\", \"z\": [14794500.0, 26703800.0, 13000000.0, 10740500.0, 18253000.0, 1500.0, 2000.0, 108526400.0, 8715100.0, 1501000.0, 545500.0, 13000.0, 15000.0, 26002900.0, 33518170.0, 37160000.0, 63000.0, 88500.0, 0.0, 8734800.0, 72346500.0, 4195600.0, 94875500.0, 27861650.0, 17231310.0, 0.0, 0.0, 10000.0, 5000.0, 0.0, 0.0, 15372999.0, 988500.0, 1687000.0, 5497500.0, 79924000.0, 5607900.0, 20230160.0, 323680000.0, 4423500.0, 235079799.0, 4645600.0, 371000.0, 65600500.0, 410924700.0, 32502250.0, 25624350.0, 7317000.0, 37622150.0, 122719900.0, 23718000.0, 20544350.0, 14300.0, 513000.0, 153771870.0, 7870000.0, 78686250.0, 2143740069.0, 2774000.0, 3553500.0, 0.0, 19018400.0, 28941510.0, 20726000.0, 8732600.0, 10352000.0]}],\n",
              "                        {\"geo\": {\"scope\": \"usa\"}, \"height\": 800, \"template\": {\"data\": {\"bar\": [{\"error_x\": {\"color\": \"#2a3f5f\"}, \"error_y\": {\"color\": \"#2a3f5f\"}, \"marker\": {\"line\": {\"color\": \"#E5ECF6\", \"width\": 0.5}}, \"type\": \"bar\"}], \"barpolar\": [{\"marker\": {\"line\": {\"color\": \"#E5ECF6\", \"width\": 0.5}}, \"type\": \"barpolar\"}], \"carpet\": [{\"aaxis\": {\"endlinecolor\": \"#2a3f5f\", \"gridcolor\": \"white\", \"linecolor\": \"white\", \"minorgridcolor\": \"white\", \"startlinecolor\": \"#2a3f5f\"}, \"baxis\": {\"endlinecolor\": \"#2a3f5f\", \"gridcolor\": \"white\", \"linecolor\": \"white\", \"minorgridcolor\": \"white\", \"startlinecolor\": \"#2a3f5f\"}, \"type\": \"carpet\"}], \"choropleth\": [{\"colorbar\": {\"outlinewidth\": 0, \"ticks\": \"\"}, \"type\": \"choropleth\"}], \"contour\": [{\"colorbar\": {\"outlinewidth\": 0, \"ticks\": \"\"}, \"colorscale\": [[0.0, \"#0d0887\"], [0.1111111111111111, \"#46039f\"], [0.2222222222222222, \"#7201a8\"], [0.3333333333333333, \"#9c179e\"], [0.4444444444444444, \"#bd3786\"], [0.5555555555555556, \"#d8576b\"], [0.6666666666666666, \"#ed7953\"], [0.7777777777777778, \"#fb9f3a\"], [0.8888888888888888, \"#fdca26\"], [1.0, \"#f0f921\"]], \"type\": \"contour\"}], \"contourcarpet\": [{\"colorbar\": {\"outlinewidth\": 0, \"ticks\": \"\"}, \"type\": \"contourcarpet\"}], \"heatmap\": [{\"colorbar\": {\"outlinewidth\": 0, \"ticks\": \"\"}, \"colorscale\": [[0.0, \"#0d0887\"], [0.1111111111111111, \"#46039f\"], [0.2222222222222222, \"#7201a8\"], [0.3333333333333333, \"#9c179e\"], [0.4444444444444444, \"#bd3786\"], [0.5555555555555556, \"#d8576b\"], [0.6666666666666666, \"#ed7953\"], [0.7777777777777778, \"#fb9f3a\"], [0.8888888888888888, \"#fdca26\"], [1.0, \"#f0f921\"]], \"type\": \"heatmap\"}], \"heatmapgl\": [{\"colorbar\": {\"outlinewidth\": 0, \"ticks\": \"\"}, \"colorscale\": [[0.0, \"#0d0887\"], [0.1111111111111111, \"#46039f\"], [0.2222222222222222, \"#7201a8\"], [0.3333333333333333, \"#9c179e\"], [0.4444444444444444, \"#bd3786\"], [0.5555555555555556, \"#d8576b\"], [0.6666666666666666, \"#ed7953\"], [0.7777777777777778, \"#fb9f3a\"], [0.8888888888888888, \"#fdca26\"], [1.0, \"#f0f921\"]], \"type\": \"heatmapgl\"}], \"histogram\": [{\"marker\": {\"colorbar\": {\"outlinewidth\": 0, \"ticks\": \"\"}}, \"type\": \"histogram\"}], \"histogram2d\": [{\"colorbar\": {\"outlinewidth\": 0, \"ticks\": \"\"}, \"colorscale\": [[0.0, \"#0d0887\"], [0.1111111111111111, \"#46039f\"], [0.2222222222222222, \"#7201a8\"], [0.3333333333333333, \"#9c179e\"], [0.4444444444444444, \"#bd3786\"], [0.5555555555555556, \"#d8576b\"], [0.6666666666666666, \"#ed7953\"], [0.7777777777777778, \"#fb9f3a\"], [0.8888888888888888, \"#fdca26\"], [1.0, \"#f0f921\"]], \"type\": \"histogram2d\"}], \"histogram2dcontour\": [{\"colorbar\": {\"outlinewidth\": 0, \"ticks\": \"\"}, \"colorscale\": [[0.0, \"#0d0887\"], [0.1111111111111111, \"#46039f\"], [0.2222222222222222, \"#7201a8\"], [0.3333333333333333, \"#9c179e\"], [0.4444444444444444, \"#bd3786\"], [0.5555555555555556, \"#d8576b\"], [0.6666666666666666, \"#ed7953\"], [0.7777777777777778, \"#fb9f3a\"], [0.8888888888888888, \"#fdca26\"], [1.0, \"#f0f921\"]], \"type\": \"histogram2dcontour\"}], \"mesh3d\": [{\"colorbar\": {\"outlinewidth\": 0, \"ticks\": \"\"}, \"type\": \"mesh3d\"}], \"parcoords\": [{\"line\": {\"colorbar\": {\"outlinewidth\": 0, \"ticks\": \"\"}}, \"type\": \"parcoords\"}], \"pie\": [{\"automargin\": true, \"type\": \"pie\"}], \"scatter\": [{\"marker\": {\"colorbar\": {\"outlinewidth\": 0, \"ticks\": \"\"}}, \"type\": \"scatter\"}], \"scatter3d\": [{\"line\": {\"colorbar\": {\"outlinewidth\": 0, \"ticks\": \"\"}}, \"marker\": {\"colorbar\": {\"outlinewidth\": 0, \"ticks\": \"\"}}, \"type\": \"scatter3d\"}], \"scattercarpet\": [{\"marker\": {\"colorbar\": {\"outlinewidth\": 0, \"ticks\": \"\"}}, \"type\": \"scattercarpet\"}], \"scattergeo\": [{\"marker\": {\"colorbar\": {\"outlinewidth\": 0, \"ticks\": \"\"}}, \"type\": \"scattergeo\"}], \"scattergl\": [{\"marker\": {\"colorbar\": {\"outlinewidth\": 0, \"ticks\": \"\"}}, \"type\": \"scattergl\"}], \"scattermapbox\": [{\"marker\": {\"colorbar\": {\"outlinewidth\": 0, \"ticks\": \"\"}}, \"type\": \"scattermapbox\"}], \"scatterpolar\": [{\"marker\": {\"colorbar\": {\"outlinewidth\": 0, \"ticks\": \"\"}}, \"type\": \"scatterpolar\"}], \"scatterpolargl\": [{\"marker\": {\"colorbar\": {\"outlinewidth\": 0, \"ticks\": \"\"}}, \"type\": \"scatterpolargl\"}], \"scatterternary\": [{\"marker\": {\"colorbar\": {\"outlinewidth\": 0, \"ticks\": \"\"}}, \"type\": \"scatterternary\"}], \"surface\": [{\"colorbar\": {\"outlinewidth\": 0, \"ticks\": \"\"}, \"colorscale\": [[0.0, \"#0d0887\"], [0.1111111111111111, \"#46039f\"], [0.2222222222222222, \"#7201a8\"], [0.3333333333333333, \"#9c179e\"], [0.4444444444444444, \"#bd3786\"], [0.5555555555555556, \"#d8576b\"], [0.6666666666666666, \"#ed7953\"], [0.7777777777777778, \"#fb9f3a\"], [0.8888888888888888, \"#fdca26\"], [1.0, \"#f0f921\"]], \"type\": \"surface\"}], \"table\": [{\"cells\": {\"fill\": {\"color\": \"#EBF0F8\"}, \"line\": {\"color\": \"white\"}}, \"header\": {\"fill\": {\"color\": \"#C8D4E3\"}, \"line\": {\"color\": \"white\"}}, \"type\": \"table\"}]}, \"layout\": {\"annotationdefaults\": {\"arrowcolor\": \"#2a3f5f\", \"arrowhead\": 0, \"arrowwidth\": 1}, \"coloraxis\": {\"colorbar\": {\"outlinewidth\": 0, \"ticks\": \"\"}}, \"colorscale\": {\"diverging\": [[0, \"#8e0152\"], [0.1, \"#c51b7d\"], [0.2, \"#de77ae\"], [0.3, \"#f1b6da\"], [0.4, \"#fde0ef\"], [0.5, \"#f7f7f7\"], [0.6, \"#e6f5d0\"], [0.7, \"#b8e186\"], [0.8, \"#7fbc41\"], [0.9, \"#4d9221\"], [1, \"#276419\"]], \"sequential\": [[0.0, \"#0d0887\"], [0.1111111111111111, \"#46039f\"], [0.2222222222222222, \"#7201a8\"], [0.3333333333333333, \"#9c179e\"], [0.4444444444444444, \"#bd3786\"], [0.5555555555555556, \"#d8576b\"], [0.6666666666666666, \"#ed7953\"], [0.7777777777777778, \"#fb9f3a\"], [0.8888888888888888, \"#fdca26\"], [1.0, \"#f0f921\"]], \"sequentialminus\": [[0.0, \"#0d0887\"], [0.1111111111111111, \"#46039f\"], [0.2222222222222222, \"#7201a8\"], [0.3333333333333333, \"#9c179e\"], [0.4444444444444444, \"#bd3786\"], [0.5555555555555556, \"#d8576b\"], [0.6666666666666666, \"#ed7953\"], [0.7777777777777778, \"#fb9f3a\"], [0.8888888888888888, \"#fdca26\"], [1.0, \"#f0f921\"]]}, \"colorway\": [\"#636efa\", \"#EF553B\", \"#00cc96\", \"#ab63fa\", \"#FFA15A\", \"#19d3f3\", \"#FF6692\", \"#B6E880\", \"#FF97FF\", \"#FECB52\"], \"font\": {\"color\": \"#2a3f5f\"}, \"geo\": {\"bgcolor\": \"white\", \"lakecolor\": \"white\", \"landcolor\": \"#E5ECF6\", \"showlakes\": true, \"showland\": true, \"subunitcolor\": \"white\"}, \"hoverlabel\": {\"align\": \"left\"}, \"hovermode\": \"closest\", \"mapbox\": {\"style\": \"light\"}, \"paper_bgcolor\": \"white\", \"plot_bgcolor\": \"#E5ECF6\", \"polar\": {\"angularaxis\": {\"gridcolor\": \"white\", \"linecolor\": \"white\", \"ticks\": \"\"}, \"bgcolor\": \"#E5ECF6\", \"radialaxis\": {\"gridcolor\": \"white\", \"linecolor\": \"white\", \"ticks\": \"\"}}, \"scene\": {\"xaxis\": {\"backgroundcolor\": \"#E5ECF6\", \"gridcolor\": \"white\", \"gridwidth\": 2, \"linecolor\": \"white\", \"showbackground\": true, \"ticks\": \"\", \"zerolinecolor\": \"white\"}, \"yaxis\": {\"backgroundcolor\": \"#E5ECF6\", \"gridcolor\": \"white\", \"gridwidth\": 2, \"linecolor\": \"white\", \"showbackground\": true, \"ticks\": \"\", \"zerolinecolor\": \"white\"}, \"zaxis\": {\"backgroundcolor\": \"#E5ECF6\", \"gridcolor\": \"white\", \"gridwidth\": 2, \"linecolor\": \"white\", \"showbackground\": true, \"ticks\": \"\", \"zerolinecolor\": \"white\"}}, \"shapedefaults\": {\"line\": {\"color\": \"#2a3f5f\"}}, \"ternary\": {\"aaxis\": {\"gridcolor\": \"white\", \"linecolor\": \"white\", \"ticks\": \"\"}, \"baxis\": {\"gridcolor\": \"white\", \"linecolor\": \"white\", \"ticks\": \"\"}, \"bgcolor\": \"#E5ECF6\", \"caxis\": {\"gridcolor\": \"white\", \"linecolor\": \"white\", \"ticks\": \"\"}}, \"title\": {\"x\": 0.05}, \"xaxis\": {\"automargin\": true, \"gridcolor\": \"white\", \"linecolor\": \"white\", \"ticks\": \"\", \"title\": {\"standoff\": 15}, \"zerolinecolor\": \"white\", \"zerolinewidth\": 2}, \"yaxis\": {\"automargin\": true, \"gridcolor\": \"white\", \"linecolor\": \"white\", \"ticks\": \"\", \"title\": {\"standoff\": 15}, \"zerolinecolor\": \"white\", \"zerolinewidth\": 2}}}, \"title\": {\"text\": \"2016 US Storm Damage Cost by State\"}, \"width\": 1200},\n",
              "                        {\"responsive\": true}\n",
              "                    ).then(function(){\n",
              "                            \n",
              "var gd = document.getElementById('665f521a-e5d9-4c83-9926-9669bd3d2ded');\n",
              "var x = new MutationObserver(function (mutations, observer) {{\n",
              "        var display = window.getComputedStyle(gd).display;\n",
              "        if (!display || display === 'none') {{\n",
              "            console.log([gd, 'removed!']);\n",
              "            Plotly.purge(gd);\n",
              "            observer.disconnect();\n",
              "        }}\n",
              "}});\n",
              "\n",
              "// Listen for the removal of the full notebook cells\n",
              "var notebookContainer = gd.closest('#notebook-container');\n",
              "if (notebookContainer) {{\n",
              "    x.observe(notebookContainer, {childList: true});\n",
              "}}\n",
              "\n",
              "// Listen for the clearing of the current output cell\n",
              "var outputEl = gd.closest('.output');\n",
              "if (outputEl) {{\n",
              "    x.observe(outputEl, {childList: true});\n",
              "}}\n",
              "\n",
              "                        })\n",
              "                };\n",
              "                \n",
              "            </script>\n",
              "        </div>\n",
              "</body>\n",
              "</html>"
            ]
          },
          "metadata": {
            "tags": []
          }
        }
      ]
    },
    {
      "cell_type": "markdown",
      "metadata": {
        "id": "Fvs1ykDNfiK7",
        "colab_type": "text"
      },
      "source": [
        "# **2016**"
      ]
    },
    {
      "cell_type": "code",
      "metadata": {
        "id": "MqX9cA9hmijk",
        "colab_type": "code",
        "colab": {}
      },
      "source": [
        "Weather_url_2016 = \"https://www1.ncdc.noaa.gov/pub/data/swdi/stormevents/csvfiles/StormEvents_details-ftp_v1.0_d2016_c20190817.csv.gz\"\n",
        "#!curl https://www1.ncdc.noaa.gov/pub/data/swdi/stormevents/csvfiles/StormEvents_details-ftp_v1.0_d2016_c20190817.csv.gz"
      ],
      "execution_count": 0,
      "outputs": []
    },
    {
      "cell_type": "code",
      "metadata": {
        "id": "w5QQQsYHmlRJ",
        "colab_type": "code",
        "outputId": "09b7f5c7-c4a9-4e96-c8ef-06b1af3919d4",
        "colab": {
          "base_uri": "https://localhost:8080/",
          "height": 34
        }
      },
      "source": [
        "weather_data_2016 = pd.read_csv(Weather_url_2016)\n",
        "weather_data_2016.shape"
      ],
      "execution_count": 0,
      "outputs": [
        {
          "output_type": "execute_result",
          "data": {
            "text/plain": [
              "(56003, 51)"
            ]
          },
          "metadata": {
            "tags": []
          },
          "execution_count": 50
        }
      ]
    },
    {
      "cell_type": "code",
      "metadata": {
        "id": "optZCIDxmqDw",
        "colab_type": "code",
        "outputId": "4fc36245-13fa-4115-8bf8-a0bd0f7ff5d2",
        "colab": {
          "base_uri": "https://localhost:8080/",
          "height": 479
        }
      },
      "source": [
        "weather_data_2016.head()"
      ],
      "execution_count": 0,
      "outputs": [
        {
          "output_type": "execute_result",
          "data": {
            "text/html": [
              "<div>\n",
              "<style scoped>\n",
              "    .dataframe tbody tr th:only-of-type {\n",
              "        vertical-align: middle;\n",
              "    }\n",
              "\n",
              "    .dataframe tbody tr th {\n",
              "        vertical-align: top;\n",
              "    }\n",
              "\n",
              "    .dataframe thead th {\n",
              "        text-align: right;\n",
              "    }\n",
              "</style>\n",
              "<table border=\"1\" class=\"dataframe\">\n",
              "  <thead>\n",
              "    <tr style=\"text-align: right;\">\n",
              "      <th></th>\n",
              "      <th>BEGIN_YEARMONTH</th>\n",
              "      <th>BEGIN_DAY</th>\n",
              "      <th>BEGIN_TIME</th>\n",
              "      <th>END_YEARMONTH</th>\n",
              "      <th>END_DAY</th>\n",
              "      <th>END_TIME</th>\n",
              "      <th>EPISODE_ID</th>\n",
              "      <th>EVENT_ID</th>\n",
              "      <th>STATE</th>\n",
              "      <th>STATE_FIPS</th>\n",
              "      <th>YEAR</th>\n",
              "      <th>MONTH_NAME</th>\n",
              "      <th>EVENT_TYPE</th>\n",
              "      <th>CZ_TYPE</th>\n",
              "      <th>CZ_FIPS</th>\n",
              "      <th>CZ_NAME</th>\n",
              "      <th>WFO</th>\n",
              "      <th>BEGIN_DATE_TIME</th>\n",
              "      <th>CZ_TIMEZONE</th>\n",
              "      <th>END_DATE_TIME</th>\n",
              "      <th>INJURIES_DIRECT</th>\n",
              "      <th>INJURIES_INDIRECT</th>\n",
              "      <th>DEATHS_DIRECT</th>\n",
              "      <th>DEATHS_INDIRECT</th>\n",
              "      <th>DAMAGE_PROPERTY</th>\n",
              "      <th>DAMAGE_CROPS</th>\n",
              "      <th>SOURCE</th>\n",
              "      <th>MAGNITUDE</th>\n",
              "      <th>MAGNITUDE_TYPE</th>\n",
              "      <th>FLOOD_CAUSE</th>\n",
              "      <th>CATEGORY</th>\n",
              "      <th>TOR_F_SCALE</th>\n",
              "      <th>TOR_LENGTH</th>\n",
              "      <th>TOR_WIDTH</th>\n",
              "      <th>TOR_OTHER_WFO</th>\n",
              "      <th>TOR_OTHER_CZ_STATE</th>\n",
              "      <th>TOR_OTHER_CZ_FIPS</th>\n",
              "      <th>TOR_OTHER_CZ_NAME</th>\n",
              "      <th>BEGIN_RANGE</th>\n",
              "      <th>BEGIN_AZIMUTH</th>\n",
              "      <th>BEGIN_LOCATION</th>\n",
              "      <th>END_RANGE</th>\n",
              "      <th>END_AZIMUTH</th>\n",
              "      <th>END_LOCATION</th>\n",
              "      <th>BEGIN_LAT</th>\n",
              "      <th>BEGIN_LON</th>\n",
              "      <th>END_LAT</th>\n",
              "      <th>END_LON</th>\n",
              "      <th>EPISODE_NARRATIVE</th>\n",
              "      <th>EVENT_NARRATIVE</th>\n",
              "      <th>DATA_SOURCE</th>\n",
              "    </tr>\n",
              "  </thead>\n",
              "  <tbody>\n",
              "    <tr>\n",
              "      <th>0</th>\n",
              "      <td>201607</td>\n",
              "      <td>15</td>\n",
              "      <td>1715</td>\n",
              "      <td>201607</td>\n",
              "      <td>15</td>\n",
              "      <td>1715</td>\n",
              "      <td>108769</td>\n",
              "      <td>651823</td>\n",
              "      <td>SOUTH CAROLINA</td>\n",
              "      <td>45</td>\n",
              "      <td>2016</td>\n",
              "      <td>July</td>\n",
              "      <td>Heavy Rain</td>\n",
              "      <td>C</td>\n",
              "      <td>91</td>\n",
              "      <td>YORK</td>\n",
              "      <td>GSP</td>\n",
              "      <td>15-JUL-16 17:15:00</td>\n",
              "      <td>EST-5</td>\n",
              "      <td>15-JUL-16 17:15:00</td>\n",
              "      <td>0</td>\n",
              "      <td>0</td>\n",
              "      <td>0</td>\n",
              "      <td>0</td>\n",
              "      <td>2.00K</td>\n",
              "      <td>0.00K</td>\n",
              "      <td>Social Media</td>\n",
              "      <td>NaN</td>\n",
              "      <td>NaN</td>\n",
              "      <td>NaN</td>\n",
              "      <td>NaN</td>\n",
              "      <td>NaN</td>\n",
              "      <td>NaN</td>\n",
              "      <td>NaN</td>\n",
              "      <td>NaN</td>\n",
              "      <td>NaN</td>\n",
              "      <td>NaN</td>\n",
              "      <td>NaN</td>\n",
              "      <td>1.0</td>\n",
              "      <td>N</td>\n",
              "      <td>BOYD HILL</td>\n",
              "      <td>1.0</td>\n",
              "      <td>N</td>\n",
              "      <td>BOYD HILL</td>\n",
              "      <td>34.94</td>\n",
              "      <td>-81.03</td>\n",
              "      <td>34.94</td>\n",
              "      <td>-81.03</td>\n",
              "      <td>Scattered thunderstorms developed across the U...</td>\n",
              "      <td>One to two feet of deep standing water develop...</td>\n",
              "      <td>CSV</td>\n",
              "    </tr>\n",
              "    <tr>\n",
              "      <th>1</th>\n",
              "      <td>201607</td>\n",
              "      <td>15</td>\n",
              "      <td>1725</td>\n",
              "      <td>201607</td>\n",
              "      <td>15</td>\n",
              "      <td>1725</td>\n",
              "      <td>108769</td>\n",
              "      <td>651825</td>\n",
              "      <td>SOUTH CAROLINA</td>\n",
              "      <td>45</td>\n",
              "      <td>2016</td>\n",
              "      <td>July</td>\n",
              "      <td>Thunderstorm Wind</td>\n",
              "      <td>C</td>\n",
              "      <td>91</td>\n",
              "      <td>YORK</td>\n",
              "      <td>GSP</td>\n",
              "      <td>15-JUL-16 17:25:00</td>\n",
              "      <td>EST-5</td>\n",
              "      <td>15-JUL-16 17:25:00</td>\n",
              "      <td>0</td>\n",
              "      <td>0</td>\n",
              "      <td>0</td>\n",
              "      <td>0</td>\n",
              "      <td>0.00K</td>\n",
              "      <td>0.00K</td>\n",
              "      <td>NWS Employee</td>\n",
              "      <td>50.0</td>\n",
              "      <td>EG</td>\n",
              "      <td>NaN</td>\n",
              "      <td>NaN</td>\n",
              "      <td>NaN</td>\n",
              "      <td>NaN</td>\n",
              "      <td>NaN</td>\n",
              "      <td>NaN</td>\n",
              "      <td>NaN</td>\n",
              "      <td>NaN</td>\n",
              "      <td>NaN</td>\n",
              "      <td>1.0</td>\n",
              "      <td>S</td>\n",
              "      <td>FT MILL</td>\n",
              "      <td>1.0</td>\n",
              "      <td>S</td>\n",
              "      <td>FT MILL</td>\n",
              "      <td>35.01</td>\n",
              "      <td>-80.93</td>\n",
              "      <td>35.01</td>\n",
              "      <td>-80.93</td>\n",
              "      <td>Scattered thunderstorms developed across the U...</td>\n",
              "      <td>NWS Columbia relayed a report of trees blown d...</td>\n",
              "      <td>CSV</td>\n",
              "    </tr>\n",
              "    <tr>\n",
              "      <th>2</th>\n",
              "      <td>201607</td>\n",
              "      <td>16</td>\n",
              "      <td>1246</td>\n",
              "      <td>201607</td>\n",
              "      <td>16</td>\n",
              "      <td>1246</td>\n",
              "      <td>108812</td>\n",
              "      <td>651828</td>\n",
              "      <td>NORTH CAROLINA</td>\n",
              "      <td>37</td>\n",
              "      <td>2016</td>\n",
              "      <td>July</td>\n",
              "      <td>Thunderstorm Wind</td>\n",
              "      <td>C</td>\n",
              "      <td>111</td>\n",
              "      <td>MCDOWELL</td>\n",
              "      <td>GSP</td>\n",
              "      <td>16-JUL-16 12:46:00</td>\n",
              "      <td>EST-5</td>\n",
              "      <td>16-JUL-16 12:46:00</td>\n",
              "      <td>0</td>\n",
              "      <td>0</td>\n",
              "      <td>0</td>\n",
              "      <td>0</td>\n",
              "      <td>0.00K</td>\n",
              "      <td>0.00K</td>\n",
              "      <td>Broadcast Media</td>\n",
              "      <td>50.0</td>\n",
              "      <td>EG</td>\n",
              "      <td>NaN</td>\n",
              "      <td>NaN</td>\n",
              "      <td>NaN</td>\n",
              "      <td>NaN</td>\n",
              "      <td>NaN</td>\n",
              "      <td>NaN</td>\n",
              "      <td>NaN</td>\n",
              "      <td>NaN</td>\n",
              "      <td>NaN</td>\n",
              "      <td>2.0</td>\n",
              "      <td>ENE</td>\n",
              "      <td>OLD FT</td>\n",
              "      <td>2.0</td>\n",
              "      <td>ENE</td>\n",
              "      <td>OLD FT</td>\n",
              "      <td>35.64</td>\n",
              "      <td>-82.14</td>\n",
              "      <td>35.64</td>\n",
              "      <td>-82.14</td>\n",
              "      <td>Scattered thunderstorms developed near the Blu...</td>\n",
              "      <td>Media reported two trees blown down along I-40...</td>\n",
              "      <td>CSV</td>\n",
              "    </tr>\n",
              "    <tr>\n",
              "      <th>3</th>\n",
              "      <td>201607</td>\n",
              "      <td>8</td>\n",
              "      <td>1755</td>\n",
              "      <td>201607</td>\n",
              "      <td>8</td>\n",
              "      <td>1755</td>\n",
              "      <td>105872</td>\n",
              "      <td>635287</td>\n",
              "      <td>TENNESSEE</td>\n",
              "      <td>47</td>\n",
              "      <td>2016</td>\n",
              "      <td>July</td>\n",
              "      <td>Thunderstorm Wind</td>\n",
              "      <td>C</td>\n",
              "      <td>105</td>\n",
              "      <td>LOUDON</td>\n",
              "      <td>MRX</td>\n",
              "      <td>08-JUL-16 17:55:00</td>\n",
              "      <td>EST-5</td>\n",
              "      <td>08-JUL-16 17:55:00</td>\n",
              "      <td>0</td>\n",
              "      <td>0</td>\n",
              "      <td>0</td>\n",
              "      <td>0</td>\n",
              "      <td>NaN</td>\n",
              "      <td>NaN</td>\n",
              "      <td>Public</td>\n",
              "      <td>50.0</td>\n",
              "      <td>EG</td>\n",
              "      <td>NaN</td>\n",
              "      <td>NaN</td>\n",
              "      <td>NaN</td>\n",
              "      <td>NaN</td>\n",
              "      <td>NaN</td>\n",
              "      <td>NaN</td>\n",
              "      <td>NaN</td>\n",
              "      <td>NaN</td>\n",
              "      <td>NaN</td>\n",
              "      <td>1.0</td>\n",
              "      <td>W</td>\n",
              "      <td>JENA</td>\n",
              "      <td>1.0</td>\n",
              "      <td>W</td>\n",
              "      <td>JENA</td>\n",
              "      <td>35.65</td>\n",
              "      <td>-84.18</td>\n",
              "      <td>35.65</td>\n",
              "      <td>-84.18</td>\n",
              "      <td>The combination of summer heating and high low...</td>\n",
              "      <td>Numerous trees were reported down in the Green...</td>\n",
              "      <td>CSV</td>\n",
              "    </tr>\n",
              "    <tr>\n",
              "      <th>4</th>\n",
              "      <td>201607</td>\n",
              "      <td>8</td>\n",
              "      <td>1810</td>\n",
              "      <td>201607</td>\n",
              "      <td>8</td>\n",
              "      <td>1810</td>\n",
              "      <td>105872</td>\n",
              "      <td>635296</td>\n",
              "      <td>TENNESSEE</td>\n",
              "      <td>47</td>\n",
              "      <td>2016</td>\n",
              "      <td>July</td>\n",
              "      <td>Thunderstorm Wind</td>\n",
              "      <td>C</td>\n",
              "      <td>155</td>\n",
              "      <td>SEVIER</td>\n",
              "      <td>MRX</td>\n",
              "      <td>08-JUL-16 18:10:00</td>\n",
              "      <td>EST-5</td>\n",
              "      <td>08-JUL-16 18:10:00</td>\n",
              "      <td>0</td>\n",
              "      <td>0</td>\n",
              "      <td>0</td>\n",
              "      <td>0</td>\n",
              "      <td>NaN</td>\n",
              "      <td>NaN</td>\n",
              "      <td>State Official</td>\n",
              "      <td>60.0</td>\n",
              "      <td>EG</td>\n",
              "      <td>NaN</td>\n",
              "      <td>NaN</td>\n",
              "      <td>NaN</td>\n",
              "      <td>NaN</td>\n",
              "      <td>NaN</td>\n",
              "      <td>NaN</td>\n",
              "      <td>NaN</td>\n",
              "      <td>NaN</td>\n",
              "      <td>NaN</td>\n",
              "      <td>1.0</td>\n",
              "      <td>WSW</td>\n",
              "      <td>PITNER</td>\n",
              "      <td>1.0</td>\n",
              "      <td>WSW</td>\n",
              "      <td>PITNER</td>\n",
              "      <td>35.87</td>\n",
              "      <td>-83.77</td>\n",
              "      <td>35.87</td>\n",
              "      <td>-83.77</td>\n",
              "      <td>The combination of summer heating and high low...</td>\n",
              "      <td>Numerous trees were reported down in Seymour. ...</td>\n",
              "      <td>CSV</td>\n",
              "    </tr>\n",
              "  </tbody>\n",
              "</table>\n",
              "</div>"
            ],
            "text/plain": [
              "   BEGIN_YEARMONTH  ...  DATA_SOURCE\n",
              "0           201607  ...          CSV\n",
              "1           201607  ...          CSV\n",
              "2           201607  ...          CSV\n",
              "3           201607  ...          CSV\n",
              "4           201607  ...          CSV\n",
              "\n",
              "[5 rows x 51 columns]"
            ]
          },
          "metadata": {
            "tags": []
          },
          "execution_count": 51
        }
      ]
    },
    {
      "cell_type": "code",
      "metadata": {
        "id": "3BJorIMamqlB",
        "colab_type": "code",
        "colab": {}
      },
      "source": [
        "dfweather_data_2016 = weather_data_2016[['STATE','DAMAGE_PROPERTY']].copy()"
      ],
      "execution_count": 0,
      "outputs": []
    },
    {
      "cell_type": "code",
      "metadata": {
        "id": "eW9IS6DamtpA",
        "colab_type": "code",
        "colab": {}
      },
      "source": [
        "#dropping NaN values\n",
        "dfweather_data_2016 = dfweather_data_2016.dropna()"
      ],
      "execution_count": 0,
      "outputs": []
    },
    {
      "cell_type": "code",
      "metadata": {
        "id": "jOSrF5yImvKP",
        "colab_type": "code",
        "colab": {}
      },
      "source": [
        "DAMAGE_PROPERTY_2016 = dfweather_data_2016['DAMAGE_PROPERTY'].replace({'K': '*1e3', 'M': '*1e6', 'B': '1e9'}, regex=True).map(pd.eval).astype(int)"
      ],
      "execution_count": 0,
      "outputs": []
    },
    {
      "cell_type": "code",
      "metadata": {
        "id": "xSpduxaemxO_",
        "colab_type": "code",
        "colab": {}
      },
      "source": [
        "dfweather_data_2016['DAMAGE_PROPERTY'] = DAMAGE_PROPERTY_2016"
      ],
      "execution_count": 0,
      "outputs": []
    },
    {
      "cell_type": "markdown",
      "metadata": {
        "id": "AnKcyFg7nX4i",
        "colab_type": "text"
      },
      "source": [
        "**State Totals**"
      ]
    },
    {
      "cell_type": "code",
      "metadata": {
        "id": "ds1GAbLgnaYj",
        "colab_type": "code",
        "colab": {}
      },
      "source": [
        "#adds together the state totals\n",
        "newdf2016 = dfweather_data_2016.groupby(['STATE'], as_index=False).sum()"
      ],
      "execution_count": 0,
      "outputs": []
    },
    {
      "cell_type": "code",
      "metadata": {
        "id": "5hjhLpjjneTK",
        "colab_type": "code",
        "outputId": "a5cb061e-7ee8-4567-d6dd-30d818da607b",
        "colab": {
          "base_uri": "https://localhost:8080/",
          "height": 204
        }
      },
      "source": [
        "#creates a new dataframe\n",
        "df2016 = pd.DataFrame(newdf2016)\n",
        "df2016.head()"
      ],
      "execution_count": 0,
      "outputs": [
        {
          "output_type": "execute_result",
          "data": {
            "text/html": [
              "<div>\n",
              "<style scoped>\n",
              "    .dataframe tbody tr th:only-of-type {\n",
              "        vertical-align: middle;\n",
              "    }\n",
              "\n",
              "    .dataframe tbody tr th {\n",
              "        vertical-align: top;\n",
              "    }\n",
              "\n",
              "    .dataframe thead th {\n",
              "        text-align: right;\n",
              "    }\n",
              "</style>\n",
              "<table border=\"1\" class=\"dataframe\">\n",
              "  <thead>\n",
              "    <tr style=\"text-align: right;\">\n",
              "      <th></th>\n",
              "      <th>STATE</th>\n",
              "      <th>DAMAGE_PROPERTY</th>\n",
              "    </tr>\n",
              "  </thead>\n",
              "  <tbody>\n",
              "    <tr>\n",
              "      <th>0</th>\n",
              "      <td>ALABAMA</td>\n",
              "      <td>4307700</td>\n",
              "    </tr>\n",
              "    <tr>\n",
              "      <th>1</th>\n",
              "      <td>ALASKA</td>\n",
              "      <td>203000</td>\n",
              "    </tr>\n",
              "    <tr>\n",
              "      <th>2</th>\n",
              "      <td>AMERICAN SAMOA</td>\n",
              "      <td>0</td>\n",
              "    </tr>\n",
              "    <tr>\n",
              "      <th>3</th>\n",
              "      <td>ARIZONA</td>\n",
              "      <td>6297000</td>\n",
              "    </tr>\n",
              "    <tr>\n",
              "      <th>4</th>\n",
              "      <td>ARKANSAS</td>\n",
              "      <td>13382800</td>\n",
              "    </tr>\n",
              "  </tbody>\n",
              "</table>\n",
              "</div>"
            ],
            "text/plain": [
              "            STATE  DAMAGE_PROPERTY\n",
              "0         ALABAMA          4307700\n",
              "1          ALASKA           203000\n",
              "2  AMERICAN SAMOA                0\n",
              "3         ARIZONA          6297000\n",
              "4        ARKANSAS         13382800"
            ]
          },
          "metadata": {
            "tags": []
          },
          "execution_count": 57
        }
      ]
    },
    {
      "cell_type": "markdown",
      "metadata": {
        "id": "abi85Ed_njHh",
        "colab_type": "text"
      },
      "source": [
        "**Plots**"
      ]
    },
    {
      "cell_type": "code",
      "metadata": {
        "id": "HNFoOBiZnlF8",
        "colab_type": "code",
        "outputId": "4a9c20ea-a203-4b61-d1e0-99921e6c1ca4",
        "colab": {
          "base_uri": "https://localhost:8080/",
          "height": 419
        }
      },
      "source": [
        "df2016.sort_values(by='DAMAGE_PROPERTY', ascending=False)"
      ],
      "execution_count": 0,
      "outputs": [
        {
          "output_type": "execute_result",
          "data": {
            "text/html": [
              "<div>\n",
              "<style scoped>\n",
              "    .dataframe tbody tr th:only-of-type {\n",
              "        vertical-align: middle;\n",
              "    }\n",
              "\n",
              "    .dataframe tbody tr th {\n",
              "        vertical-align: top;\n",
              "    }\n",
              "\n",
              "    .dataframe thead th {\n",
              "        text-align: right;\n",
              "    }\n",
              "</style>\n",
              "<table border=\"1\" class=\"dataframe\">\n",
              "  <thead>\n",
              "    <tr style=\"text-align: right;\">\n",
              "      <th></th>\n",
              "      <th>STATE</th>\n",
              "      <th>DAMAGE_PROPERTY</th>\n",
              "    </tr>\n",
              "  </thead>\n",
              "  <tbody>\n",
              "    <tr>\n",
              "      <th>30</th>\n",
              "      <td>LOUISIANA</td>\n",
              "      <td>9205589800</td>\n",
              "    </tr>\n",
              "    <tr>\n",
              "      <th>56</th>\n",
              "      <td>TEXAS</td>\n",
              "      <td>3610540800</td>\n",
              "    </tr>\n",
              "    <tr>\n",
              "      <th>13</th>\n",
              "      <td>FLORIDA</td>\n",
              "      <td>3132700150</td>\n",
              "    </tr>\n",
              "    <tr>\n",
              "      <th>45</th>\n",
              "      <td>NORTH CAROLINA</td>\n",
              "      <td>832141298</td>\n",
              "    </tr>\n",
              "    <tr>\n",
              "      <th>53</th>\n",
              "      <td>SOUTH CAROLINA</td>\n",
              "      <td>253066400</td>\n",
              "    </tr>\n",
              "    <tr>\n",
              "      <th>...</th>\n",
              "      <td>...</td>\n",
              "      <td>...</td>\n",
              "    </tr>\n",
              "    <tr>\n",
              "      <th>12</th>\n",
              "      <td>E PACIFIC</td>\n",
              "      <td>0</td>\n",
              "    </tr>\n",
              "    <tr>\n",
              "      <th>28</th>\n",
              "      <td>LAKE ST CLAIR</td>\n",
              "      <td>0</td>\n",
              "    </tr>\n",
              "    <tr>\n",
              "      <th>18</th>\n",
              "      <td>HAWAII WATERS</td>\n",
              "      <td>0</td>\n",
              "    </tr>\n",
              "    <tr>\n",
              "      <th>27</th>\n",
              "      <td>LAKE MICHIGAN</td>\n",
              "      <td>0</td>\n",
              "    </tr>\n",
              "    <tr>\n",
              "      <th>11</th>\n",
              "      <td>DISTRICT OF COLUMBIA</td>\n",
              "      <td>0</td>\n",
              "    </tr>\n",
              "  </tbody>\n",
              "</table>\n",
              "<p>65 rows × 2 columns</p>\n",
              "</div>"
            ],
            "text/plain": [
              "                   STATE  DAMAGE_PROPERTY\n",
              "30             LOUISIANA       9205589800\n",
              "56                 TEXAS       3610540800\n",
              "13               FLORIDA       3132700150\n",
              "45        NORTH CAROLINA        832141298\n",
              "53        SOUTH CAROLINA        253066400\n",
              "..                   ...              ...\n",
              "12             E PACIFIC                0\n",
              "28         LAKE ST CLAIR                0\n",
              "18         HAWAII WATERS                0\n",
              "27         LAKE MICHIGAN                0\n",
              "11  DISTRICT OF COLUMBIA                0\n",
              "\n",
              "[65 rows x 2 columns]"
            ]
          },
          "metadata": {
            "tags": []
          },
          "execution_count": 58
        }
      ]
    },
    {
      "cell_type": "code",
      "metadata": {
        "id": "ZWxPxD4hnn5E",
        "colab_type": "code",
        "colab": {}
      },
      "source": [
        "df2016['STATE']=df2016['STATE'].str.capitalize()"
      ],
      "execution_count": 0,
      "outputs": []
    },
    {
      "cell_type": "code",
      "metadata": {
        "id": "WhtpTrSbnprr",
        "colab_type": "code",
        "colab": {}
      },
      "source": [
        "df2016['STATE'] = df2016['STATE'].replace({'Alaska':'AK',\n",
        "        'Alabama':'AL',\n",
        "        'Arkansas':'AR',\n",
        "        'American Samoa':'AS',\n",
        "        'Arizona':'AZ',\n",
        "        'California':'CA',\n",
        "        'Colorado':'CO',\n",
        "        'Connecticut':'CT',\n",
        "        'District of columbia':'DC',\n",
        "        'Delaware':'DE',\n",
        "        'Florida':'FL',\n",
        "        'Georgia':'GA',\n",
        "        'Guam':'GU',\n",
        "        'Hawaii':'HI',\n",
        "        'Iowa':'IA',\n",
        "        'Idaho':'ID',\n",
        "         'Illinois':'IL',\n",
        "        'Indiana':'IN',\n",
        "        'Kansas':'KS',\n",
        "        'Kentucky':'KY',\n",
        "        'Louisiana':'LA',\n",
        "        'Massachusetts':'MA',\n",
        "        'Maryland':'MD',\n",
        "        'Maine':'ME',\n",
        "        'Michigan':'MI',\n",
        "        'Minnesota':'MN',\n",
        "        'Missouri':'MO',\n",
        "        'Northern mariana islands':'MP',\n",
        "        'Mississippi':'MS',\n",
        "        'Montana':'MT',\n",
        "        'National':'NA',\n",
        "        'North carolina':'NC',\n",
        "        'North dakota':'ND',\n",
        "        'Nebraska':'NE',\n",
        "        'New hampshire':'NH',\n",
        "        'New jersey':'NJ',\n",
        "        'New mexico':'NM',\n",
        "        'Nevada':'NV',\n",
        "        'New york':'NY',\n",
        "        'Ohio':'OH',\n",
        "        'Oklahoma':'OK',\n",
        "        'Oregon':'OR',\n",
        "        'Pennsylvania':'PA',\n",
        "        'Puerto rico':'PR',\n",
        "        'Rhode island':'RI',\n",
        "        'South carolina':'SC',\n",
        "        'South dakota':'SD',\n",
        "        'Tennessee':'TN',\n",
        "        'Texas':'TX',\n",
        "        'Utah':'UT',\n",
        "        'Virginia':'VA',\n",
        "        'Virgin islands':'VI',\n",
        "        'Vermont':'VT',\n",
        "        'Washington':'WA',\n",
        "        'Wisconsin':'WI',\n",
        "        'West virginia':'WV',\n",
        "        'Wyoming':'WY'}, regex=True)"
      ],
      "execution_count": 0,
      "outputs": []
    },
    {
      "cell_type": "code",
      "metadata": {
        "id": "ZdD8JQzMn4yk",
        "colab_type": "code",
        "outputId": "e33e03d0-444b-4515-aad2-e99212a4f876",
        "colab": {
          "base_uri": "https://localhost:8080/",
          "height": 204
        }
      },
      "source": [
        "df2016.head()"
      ],
      "execution_count": 0,
      "outputs": [
        {
          "output_type": "execute_result",
          "data": {
            "text/html": [
              "<div>\n",
              "<style scoped>\n",
              "    .dataframe tbody tr th:only-of-type {\n",
              "        vertical-align: middle;\n",
              "    }\n",
              "\n",
              "    .dataframe tbody tr th {\n",
              "        vertical-align: top;\n",
              "    }\n",
              "\n",
              "    .dataframe thead th {\n",
              "        text-align: right;\n",
              "    }\n",
              "</style>\n",
              "<table border=\"1\" class=\"dataframe\">\n",
              "  <thead>\n",
              "    <tr style=\"text-align: right;\">\n",
              "      <th></th>\n",
              "      <th>STATE</th>\n",
              "      <th>DAMAGE_PROPERTY</th>\n",
              "    </tr>\n",
              "  </thead>\n",
              "  <tbody>\n",
              "    <tr>\n",
              "      <th>0</th>\n",
              "      <td>AL</td>\n",
              "      <td>4307700</td>\n",
              "    </tr>\n",
              "    <tr>\n",
              "      <th>1</th>\n",
              "      <td>AK</td>\n",
              "      <td>203000</td>\n",
              "    </tr>\n",
              "    <tr>\n",
              "      <th>2</th>\n",
              "      <td>American samoa</td>\n",
              "      <td>0</td>\n",
              "    </tr>\n",
              "    <tr>\n",
              "      <th>3</th>\n",
              "      <td>AZ</td>\n",
              "      <td>6297000</td>\n",
              "    </tr>\n",
              "    <tr>\n",
              "      <th>4</th>\n",
              "      <td>AR</td>\n",
              "      <td>13382800</td>\n",
              "    </tr>\n",
              "  </tbody>\n",
              "</table>\n",
              "</div>"
            ],
            "text/plain": [
              "            STATE  DAMAGE_PROPERTY\n",
              "0              AL          4307700\n",
              "1              AK           203000\n",
              "2  American samoa                0\n",
              "3              AZ          6297000\n",
              "4              AR         13382800"
            ]
          },
          "metadata": {
            "tags": []
          },
          "execution_count": 61
        }
      ]
    },
    {
      "cell_type": "code",
      "metadata": {
        "id": "pNjXjf9qn7wM",
        "colab_type": "code",
        "colab": {}
      },
      "source": [
        "mycolumn='DAMAGE_PROPERTY'\n",
        "myheading1 = f\"Wow! That's a lot of {mycolumn}!\"\n",
        "mygraphtitle = '2016 US Storm Damage Cost by State'\n",
        "mycolorscale = 'ylorrd' # Note: The error message will list possible color scales.\n",
        "mycolorbartitle = \"USD Currency\""
      ],
      "execution_count": 0,
      "outputs": []
    },
    {
      "cell_type": "code",
      "metadata": {
        "id": "Y17PsBS_n_K3",
        "colab_type": "code",
        "outputId": "2be258bd-7674-4272-90d4-3c1b0221dadf",
        "colab": {
          "base_uri": "https://localhost:8080/",
          "height": 817
        }
      },
      "source": [
        "fig = go.Figure(data=go.Choropleth(\n",
        "    locations=df2016['STATE'], # Spatial coordinates\n",
        "    z = df2016[mycolumn].astype(float), # Data to be color-coded\n",
        "    locationmode = 'USA-states', # set of locations match entries in `locations`\n",
        "    colorscale = mycolorscale,\n",
        "    colorbar_title = mycolorbartitle,\n",
        "))\n",
        "\n",
        "fig.update_layout(\n",
        "    title_text = mygraphtitle,\n",
        "    geo_scope='usa',\n",
        "    width=1200,\n",
        "    height=800\n",
        ")\n",
        "fig.show()"
      ],
      "execution_count": 0,
      "outputs": [
        {
          "output_type": "display_data",
          "data": {
            "text/html": [
              "<html>\n",
              "<head><meta charset=\"utf-8\" /></head>\n",
              "<body>\n",
              "    <div>\n",
              "            <script src=\"https://cdnjs.cloudflare.com/ajax/libs/mathjax/2.7.5/MathJax.js?config=TeX-AMS-MML_SVG\"></script><script type=\"text/javascript\">if (window.MathJax) {MathJax.Hub.Config({SVG: {font: \"STIX-Web\"}});}</script>\n",
              "                <script type=\"text/javascript\">window.PlotlyConfig = {MathJaxConfig: 'local'};</script>\n",
              "        <script src=\"https://cdn.plot.ly/plotly-latest.min.js\"></script>    \n",
              "            <div id=\"46f39a83-2d17-4d8d-b394-19c82a518e6f\" class=\"plotly-graph-div\" style=\"height:800px; width:1200px;\"></div>\n",
              "            <script type=\"text/javascript\">\n",
              "                \n",
              "                    window.PLOTLYENV=window.PLOTLYENV || {};\n",
              "                    \n",
              "                if (document.getElementById(\"46f39a83-2d17-4d8d-b394-19c82a518e6f\")) {\n",
              "                    Plotly.newPlot(\n",
              "                        '46f39a83-2d17-4d8d-b394-19c82a518e6f',\n",
              "                        [{\"colorbar\": {\"title\": {\"text\": \"USD Currency\"}}, \"colorscale\": [[0.0, \"rgb(255,255,204)\"], [0.125, \"rgb(255,237,160)\"], [0.25, \"rgb(254,217,118)\"], [0.375, \"rgb(254,178,76)\"], [0.5, \"rgb(253,141,60)\"], [0.625, \"rgb(252,78,42)\"], [0.75, \"rgb(227,26,28)\"], [0.875, \"rgb(189,0,38)\"], [1.0, \"rgb(128,0,38)\"]], \"locationmode\": \"USA-states\", \"locations\": [\"AL\", \"AK\", \"American samoa\", \"AZ\", \"AR\", \"Atlantic north\", \"Atlantic south\", \"CA\", \"CO\", \"CT\", \"DE\", \"DC\", \"E pacific\", \"FL\", \"GA\", \"GU\", \"Gulf of mexico\", \"HI\", \"HI waters\", \"ID\", \"IL\", \"IN\", \"IA\", \"KS\", \"KY\", \"Lake erie\", \"Lake huron\", \"Lake michigan\", \"Lake st clair\", \"Lake superior\", \"LA\", \"ME\", \"MD\", \"MA\", \"MI\", \"MN\", \"MS\", \"MO\", \"MT\", \"NE\", \"NV\", \"NH\", \"NJ\", \"NM\", \"NY\", \"NC\", \"ND\", \"OH\", \"OK\", \"OR\", \"PA\", \"PR\", \"RI\", \"SC\", \"SD\", \"TN\", \"TX\", \"UT\", \"VT\", \"VI\", \"VA\", \"WA\", \"WV\", \"WI\", \"WY\"], \"type\": \"choropleth\", \"z\": [4307700.0, 203000.0, 0.0, 6297000.0, 13382800.0, 0.0, 4000.0, 74157510.0, 890200.0, 1749050.0, 35030.0, 0.0, 0.0, 3132700150.0, 35251210.0, 120000.0, 15000.0, 1000.0, 0.0, 1142400.0, 23643500.0, 19459450.0, 40254100.0, 73583950.0, 19548490.0, 0.0, 0.0, 0.0, 0.0, 0.0, 9205589800.0, 1929500.0, 24455020.0, 7018700.0, 46439500.0, 16965300.0, 37193200.0, 14753500.0, 5011750.0, 32420000.0, 81087500.0, 265000.0, 3893550.0, 19438000.0, 17017250.0, 832141298.0, 87141500.0, 21265550.0, 20290600.0, 7264000.0, 60631560.0, 1047800.0, 908300.0, 253066400.0, 10548200.0, 25688010.0, 3610540800.0, 13490500.0, 3936000.0, 0.0, 94466600.0, 8431700.0, 172536500.0, 37284799.0, 3104200.0]}],\n",
              "                        {\"geo\": {\"scope\": \"usa\"}, \"height\": 800, \"template\": {\"data\": {\"bar\": [{\"error_x\": {\"color\": \"#2a3f5f\"}, \"error_y\": {\"color\": \"#2a3f5f\"}, \"marker\": {\"line\": {\"color\": \"#E5ECF6\", \"width\": 0.5}}, \"type\": \"bar\"}], \"barpolar\": [{\"marker\": {\"line\": {\"color\": \"#E5ECF6\", \"width\": 0.5}}, \"type\": \"barpolar\"}], \"carpet\": [{\"aaxis\": {\"endlinecolor\": \"#2a3f5f\", \"gridcolor\": \"white\", \"linecolor\": \"white\", \"minorgridcolor\": \"white\", \"startlinecolor\": \"#2a3f5f\"}, \"baxis\": {\"endlinecolor\": \"#2a3f5f\", \"gridcolor\": \"white\", \"linecolor\": \"white\", \"minorgridcolor\": \"white\", \"startlinecolor\": \"#2a3f5f\"}, \"type\": \"carpet\"}], \"choropleth\": [{\"colorbar\": {\"outlinewidth\": 0, \"ticks\": \"\"}, \"type\": \"choropleth\"}], \"contour\": [{\"colorbar\": {\"outlinewidth\": 0, \"ticks\": \"\"}, \"colorscale\": [[0.0, \"#0d0887\"], [0.1111111111111111, \"#46039f\"], [0.2222222222222222, \"#7201a8\"], [0.3333333333333333, \"#9c179e\"], [0.4444444444444444, \"#bd3786\"], [0.5555555555555556, \"#d8576b\"], [0.6666666666666666, \"#ed7953\"], [0.7777777777777778, \"#fb9f3a\"], [0.8888888888888888, \"#fdca26\"], [1.0, \"#f0f921\"]], \"type\": \"contour\"}], \"contourcarpet\": [{\"colorbar\": {\"outlinewidth\": 0, \"ticks\": \"\"}, \"type\": \"contourcarpet\"}], \"heatmap\": [{\"colorbar\": {\"outlinewidth\": 0, \"ticks\": \"\"}, \"colorscale\": [[0.0, \"#0d0887\"], [0.1111111111111111, \"#46039f\"], [0.2222222222222222, \"#7201a8\"], [0.3333333333333333, \"#9c179e\"], [0.4444444444444444, \"#bd3786\"], [0.5555555555555556, \"#d8576b\"], [0.6666666666666666, \"#ed7953\"], [0.7777777777777778, \"#fb9f3a\"], [0.8888888888888888, \"#fdca26\"], [1.0, \"#f0f921\"]], \"type\": \"heatmap\"}], \"heatmapgl\": [{\"colorbar\": {\"outlinewidth\": 0, \"ticks\": \"\"}, \"colorscale\": [[0.0, \"#0d0887\"], [0.1111111111111111, \"#46039f\"], [0.2222222222222222, \"#7201a8\"], [0.3333333333333333, \"#9c179e\"], [0.4444444444444444, \"#bd3786\"], [0.5555555555555556, \"#d8576b\"], [0.6666666666666666, \"#ed7953\"], [0.7777777777777778, \"#fb9f3a\"], [0.8888888888888888, \"#fdca26\"], [1.0, \"#f0f921\"]], \"type\": \"heatmapgl\"}], \"histogram\": [{\"marker\": {\"colorbar\": {\"outlinewidth\": 0, \"ticks\": \"\"}}, \"type\": \"histogram\"}], \"histogram2d\": [{\"colorbar\": {\"outlinewidth\": 0, \"ticks\": \"\"}, \"colorscale\": [[0.0, \"#0d0887\"], [0.1111111111111111, \"#46039f\"], [0.2222222222222222, \"#7201a8\"], [0.3333333333333333, \"#9c179e\"], [0.4444444444444444, \"#bd3786\"], [0.5555555555555556, \"#d8576b\"], [0.6666666666666666, \"#ed7953\"], [0.7777777777777778, \"#fb9f3a\"], [0.8888888888888888, \"#fdca26\"], [1.0, \"#f0f921\"]], \"type\": \"histogram2d\"}], \"histogram2dcontour\": [{\"colorbar\": {\"outlinewidth\": 0, \"ticks\": \"\"}, \"colorscale\": [[0.0, \"#0d0887\"], [0.1111111111111111, \"#46039f\"], [0.2222222222222222, \"#7201a8\"], [0.3333333333333333, \"#9c179e\"], [0.4444444444444444, \"#bd3786\"], [0.5555555555555556, \"#d8576b\"], [0.6666666666666666, \"#ed7953\"], [0.7777777777777778, \"#fb9f3a\"], [0.8888888888888888, \"#fdca26\"], [1.0, \"#f0f921\"]], \"type\": \"histogram2dcontour\"}], \"mesh3d\": [{\"colorbar\": {\"outlinewidth\": 0, \"ticks\": \"\"}, \"type\": \"mesh3d\"}], \"parcoords\": [{\"line\": {\"colorbar\": {\"outlinewidth\": 0, \"ticks\": \"\"}}, \"type\": \"parcoords\"}], \"pie\": [{\"automargin\": true, \"type\": \"pie\"}], \"scatter\": [{\"marker\": {\"colorbar\": {\"outlinewidth\": 0, \"ticks\": \"\"}}, \"type\": \"scatter\"}], \"scatter3d\": [{\"line\": {\"colorbar\": {\"outlinewidth\": 0, \"ticks\": \"\"}}, \"marker\": {\"colorbar\": {\"outlinewidth\": 0, \"ticks\": \"\"}}, \"type\": \"scatter3d\"}], \"scattercarpet\": [{\"marker\": {\"colorbar\": {\"outlinewidth\": 0, \"ticks\": \"\"}}, \"type\": \"scattercarpet\"}], \"scattergeo\": [{\"marker\": {\"colorbar\": {\"outlinewidth\": 0, \"ticks\": \"\"}}, \"type\": \"scattergeo\"}], \"scattergl\": [{\"marker\": {\"colorbar\": {\"outlinewidth\": 0, \"ticks\": \"\"}}, \"type\": \"scattergl\"}], \"scattermapbox\": [{\"marker\": {\"colorbar\": {\"outlinewidth\": 0, \"ticks\": \"\"}}, \"type\": \"scattermapbox\"}], \"scatterpolar\": [{\"marker\": {\"colorbar\": {\"outlinewidth\": 0, \"ticks\": \"\"}}, \"type\": \"scatterpolar\"}], \"scatterpolargl\": [{\"marker\": {\"colorbar\": {\"outlinewidth\": 0, \"ticks\": \"\"}}, \"type\": \"scatterpolargl\"}], \"scatterternary\": [{\"marker\": {\"colorbar\": {\"outlinewidth\": 0, \"ticks\": \"\"}}, \"type\": \"scatterternary\"}], \"surface\": [{\"colorbar\": {\"outlinewidth\": 0, \"ticks\": \"\"}, \"colorscale\": [[0.0, \"#0d0887\"], [0.1111111111111111, \"#46039f\"], [0.2222222222222222, \"#7201a8\"], [0.3333333333333333, \"#9c179e\"], [0.4444444444444444, \"#bd3786\"], [0.5555555555555556, \"#d8576b\"], [0.6666666666666666, \"#ed7953\"], [0.7777777777777778, \"#fb9f3a\"], [0.8888888888888888, \"#fdca26\"], [1.0, \"#f0f921\"]], \"type\": \"surface\"}], \"table\": [{\"cells\": {\"fill\": {\"color\": \"#EBF0F8\"}, \"line\": {\"color\": \"white\"}}, \"header\": {\"fill\": {\"color\": \"#C8D4E3\"}, \"line\": {\"color\": \"white\"}}, \"type\": \"table\"}]}, \"layout\": {\"annotationdefaults\": {\"arrowcolor\": \"#2a3f5f\", \"arrowhead\": 0, \"arrowwidth\": 1}, \"coloraxis\": {\"colorbar\": {\"outlinewidth\": 0, \"ticks\": \"\"}}, \"colorscale\": {\"diverging\": [[0, \"#8e0152\"], [0.1, \"#c51b7d\"], [0.2, \"#de77ae\"], [0.3, \"#f1b6da\"], [0.4, \"#fde0ef\"], [0.5, \"#f7f7f7\"], [0.6, \"#e6f5d0\"], [0.7, \"#b8e186\"], [0.8, \"#7fbc41\"], [0.9, \"#4d9221\"], [1, \"#276419\"]], \"sequential\": [[0.0, \"#0d0887\"], [0.1111111111111111, \"#46039f\"], [0.2222222222222222, \"#7201a8\"], [0.3333333333333333, \"#9c179e\"], [0.4444444444444444, \"#bd3786\"], [0.5555555555555556, \"#d8576b\"], [0.6666666666666666, \"#ed7953\"], [0.7777777777777778, \"#fb9f3a\"], [0.8888888888888888, \"#fdca26\"], [1.0, \"#f0f921\"]], \"sequentialminus\": [[0.0, \"#0d0887\"], [0.1111111111111111, \"#46039f\"], [0.2222222222222222, \"#7201a8\"], [0.3333333333333333, \"#9c179e\"], [0.4444444444444444, \"#bd3786\"], [0.5555555555555556, \"#d8576b\"], [0.6666666666666666, \"#ed7953\"], [0.7777777777777778, \"#fb9f3a\"], [0.8888888888888888, \"#fdca26\"], [1.0, \"#f0f921\"]]}, \"colorway\": [\"#636efa\", \"#EF553B\", \"#00cc96\", \"#ab63fa\", \"#FFA15A\", \"#19d3f3\", \"#FF6692\", \"#B6E880\", \"#FF97FF\", \"#FECB52\"], \"font\": {\"color\": \"#2a3f5f\"}, \"geo\": {\"bgcolor\": \"white\", \"lakecolor\": \"white\", \"landcolor\": \"#E5ECF6\", \"showlakes\": true, \"showland\": true, \"subunitcolor\": \"white\"}, \"hoverlabel\": {\"align\": \"left\"}, \"hovermode\": \"closest\", \"mapbox\": {\"style\": \"light\"}, \"paper_bgcolor\": \"white\", \"plot_bgcolor\": \"#E5ECF6\", \"polar\": {\"angularaxis\": {\"gridcolor\": \"white\", \"linecolor\": \"white\", \"ticks\": \"\"}, \"bgcolor\": \"#E5ECF6\", \"radialaxis\": {\"gridcolor\": \"white\", \"linecolor\": \"white\", \"ticks\": \"\"}}, \"scene\": {\"xaxis\": {\"backgroundcolor\": \"#E5ECF6\", \"gridcolor\": \"white\", \"gridwidth\": 2, \"linecolor\": \"white\", \"showbackground\": true, \"ticks\": \"\", \"zerolinecolor\": \"white\"}, \"yaxis\": {\"backgroundcolor\": \"#E5ECF6\", \"gridcolor\": \"white\", \"gridwidth\": 2, \"linecolor\": \"white\", \"showbackground\": true, \"ticks\": \"\", \"zerolinecolor\": \"white\"}, \"zaxis\": {\"backgroundcolor\": \"#E5ECF6\", \"gridcolor\": \"white\", \"gridwidth\": 2, \"linecolor\": \"white\", \"showbackground\": true, \"ticks\": \"\", \"zerolinecolor\": \"white\"}}, \"shapedefaults\": {\"line\": {\"color\": \"#2a3f5f\"}}, \"ternary\": {\"aaxis\": {\"gridcolor\": \"white\", \"linecolor\": \"white\", \"ticks\": \"\"}, \"baxis\": {\"gridcolor\": \"white\", \"linecolor\": \"white\", \"ticks\": \"\"}, \"bgcolor\": \"#E5ECF6\", \"caxis\": {\"gridcolor\": \"white\", \"linecolor\": \"white\", \"ticks\": \"\"}}, \"title\": {\"x\": 0.05}, \"xaxis\": {\"automargin\": true, \"gridcolor\": \"white\", \"linecolor\": \"white\", \"ticks\": \"\", \"title\": {\"standoff\": 15}, \"zerolinecolor\": \"white\", \"zerolinewidth\": 2}, \"yaxis\": {\"automargin\": true, \"gridcolor\": \"white\", \"linecolor\": \"white\", \"ticks\": \"\", \"title\": {\"standoff\": 15}, \"zerolinecolor\": \"white\", \"zerolinewidth\": 2}}}, \"title\": {\"text\": \"2016 US Storm Damage Cost by State\"}, \"width\": 1200},\n",
              "                        {\"responsive\": true}\n",
              "                    ).then(function(){\n",
              "                            \n",
              "var gd = document.getElementById('46f39a83-2d17-4d8d-b394-19c82a518e6f');\n",
              "var x = new MutationObserver(function (mutations, observer) {{\n",
              "        var display = window.getComputedStyle(gd).display;\n",
              "        if (!display || display === 'none') {{\n",
              "            console.log([gd, 'removed!']);\n",
              "            Plotly.purge(gd);\n",
              "            observer.disconnect();\n",
              "        }}\n",
              "}});\n",
              "\n",
              "// Listen for the removal of the full notebook cells\n",
              "var notebookContainer = gd.closest('#notebook-container');\n",
              "if (notebookContainer) {{\n",
              "    x.observe(notebookContainer, {childList: true});\n",
              "}}\n",
              "\n",
              "// Listen for the clearing of the current output cell\n",
              "var outputEl = gd.closest('.output');\n",
              "if (outputEl) {{\n",
              "    x.observe(outputEl, {childList: true});\n",
              "}}\n",
              "\n",
              "                        })\n",
              "                };\n",
              "                \n",
              "            </script>\n",
              "        </div>\n",
              "</body>\n",
              "</html>"
            ]
          },
          "metadata": {
            "tags": []
          }
        }
      ]
    },
    {
      "cell_type": "markdown",
      "metadata": {
        "id": "WwJ5ShSjfqCD",
        "colab_type": "text"
      },
      "source": [
        "# **2017**"
      ]
    },
    {
      "cell_type": "code",
      "metadata": {
        "id": "b9HFGiUAn-vs",
        "colab_type": "code",
        "colab": {}
      },
      "source": [
        "Weather_url_2017 = \"https://www1.ncdc.noaa.gov/pub/data/swdi/stormevents/csvfiles/StormEvents_details-ftp_v1.0_d2017_c20200121.csv.gz\"\n",
        "#!curl https://www1.ncdc.noaa.gov/pub/data/swdi/stormevents/csvfiles/StormEvents_details-ftp_v1.0_d2017_c20200121.csv.gz"
      ],
      "execution_count": 0,
      "outputs": []
    },
    {
      "cell_type": "code",
      "metadata": {
        "id": "_Y6raUVVnhcr",
        "colab_type": "code",
        "outputId": "6ce21ea7-75c5-47be-f1e9-3e8c66e60657",
        "colab": {
          "base_uri": "https://localhost:8080/",
          "height": 34
        }
      },
      "source": [
        "weather_data_2017 = pd.read_csv(Weather_url_2017)\n",
        "weather_data_2017.shape"
      ],
      "execution_count": 0,
      "outputs": [
        {
          "output_type": "execute_result",
          "data": {
            "text/plain": [
              "(57024, 51)"
            ]
          },
          "metadata": {
            "tags": []
          },
          "execution_count": 75
        }
      ]
    },
    {
      "cell_type": "code",
      "metadata": {
        "id": "CYdxoLmjnnv2",
        "colab_type": "code",
        "outputId": "d40f1773-53ab-4327-9e58-b2684f30fe28",
        "colab": {
          "base_uri": "https://localhost:8080/",
          "height": 428
        }
      },
      "source": [
        "weather_data_2017.head()"
      ],
      "execution_count": 0,
      "outputs": [
        {
          "output_type": "execute_result",
          "data": {
            "text/html": [
              "<div>\n",
              "<style scoped>\n",
              "    .dataframe tbody tr th:only-of-type {\n",
              "        vertical-align: middle;\n",
              "    }\n",
              "\n",
              "    .dataframe tbody tr th {\n",
              "        vertical-align: top;\n",
              "    }\n",
              "\n",
              "    .dataframe thead th {\n",
              "        text-align: right;\n",
              "    }\n",
              "</style>\n",
              "<table border=\"1\" class=\"dataframe\">\n",
              "  <thead>\n",
              "    <tr style=\"text-align: right;\">\n",
              "      <th></th>\n",
              "      <th>BEGIN_YEARMONTH</th>\n",
              "      <th>BEGIN_DAY</th>\n",
              "      <th>BEGIN_TIME</th>\n",
              "      <th>END_YEARMONTH</th>\n",
              "      <th>END_DAY</th>\n",
              "      <th>END_TIME</th>\n",
              "      <th>EPISODE_ID</th>\n",
              "      <th>EVENT_ID</th>\n",
              "      <th>STATE</th>\n",
              "      <th>STATE_FIPS</th>\n",
              "      <th>YEAR</th>\n",
              "      <th>MONTH_NAME</th>\n",
              "      <th>EVENT_TYPE</th>\n",
              "      <th>CZ_TYPE</th>\n",
              "      <th>CZ_FIPS</th>\n",
              "      <th>CZ_NAME</th>\n",
              "      <th>WFO</th>\n",
              "      <th>BEGIN_DATE_TIME</th>\n",
              "      <th>CZ_TIMEZONE</th>\n",
              "      <th>END_DATE_TIME</th>\n",
              "      <th>INJURIES_DIRECT</th>\n",
              "      <th>INJURIES_INDIRECT</th>\n",
              "      <th>DEATHS_DIRECT</th>\n",
              "      <th>DEATHS_INDIRECT</th>\n",
              "      <th>DAMAGE_PROPERTY</th>\n",
              "      <th>DAMAGE_CROPS</th>\n",
              "      <th>SOURCE</th>\n",
              "      <th>MAGNITUDE</th>\n",
              "      <th>MAGNITUDE_TYPE</th>\n",
              "      <th>FLOOD_CAUSE</th>\n",
              "      <th>CATEGORY</th>\n",
              "      <th>TOR_F_SCALE</th>\n",
              "      <th>TOR_LENGTH</th>\n",
              "      <th>TOR_WIDTH</th>\n",
              "      <th>TOR_OTHER_WFO</th>\n",
              "      <th>TOR_OTHER_CZ_STATE</th>\n",
              "      <th>TOR_OTHER_CZ_FIPS</th>\n",
              "      <th>TOR_OTHER_CZ_NAME</th>\n",
              "      <th>BEGIN_RANGE</th>\n",
              "      <th>BEGIN_AZIMUTH</th>\n",
              "      <th>BEGIN_LOCATION</th>\n",
              "      <th>END_RANGE</th>\n",
              "      <th>END_AZIMUTH</th>\n",
              "      <th>END_LOCATION</th>\n",
              "      <th>BEGIN_LAT</th>\n",
              "      <th>BEGIN_LON</th>\n",
              "      <th>END_LAT</th>\n",
              "      <th>END_LON</th>\n",
              "      <th>EPISODE_NARRATIVE</th>\n",
              "      <th>EVENT_NARRATIVE</th>\n",
              "      <th>DATA_SOURCE</th>\n",
              "    </tr>\n",
              "  </thead>\n",
              "  <tbody>\n",
              "    <tr>\n",
              "      <th>0</th>\n",
              "      <td>201704</td>\n",
              "      <td>6</td>\n",
              "      <td>1509</td>\n",
              "      <td>201704</td>\n",
              "      <td>6</td>\n",
              "      <td>1509</td>\n",
              "      <td>113355</td>\n",
              "      <td>678791</td>\n",
              "      <td>NEW JERSEY</td>\n",
              "      <td>34</td>\n",
              "      <td>2017</td>\n",
              "      <td>April</td>\n",
              "      <td>Thunderstorm Wind</td>\n",
              "      <td>C</td>\n",
              "      <td>15</td>\n",
              "      <td>GLOUCESTER</td>\n",
              "      <td>PHI</td>\n",
              "      <td>06-APR-17 15:09:00</td>\n",
              "      <td>EST-5</td>\n",
              "      <td>06-APR-17 15:09:00</td>\n",
              "      <td>0</td>\n",
              "      <td>0</td>\n",
              "      <td>0</td>\n",
              "      <td>0</td>\n",
              "      <td>NaN</td>\n",
              "      <td>NaN</td>\n",
              "      <td>Trained Spotter</td>\n",
              "      <td>52.0</td>\n",
              "      <td>EG</td>\n",
              "      <td>NaN</td>\n",
              "      <td>NaN</td>\n",
              "      <td>NaN</td>\n",
              "      <td>NaN</td>\n",
              "      <td>NaN</td>\n",
              "      <td>NaN</td>\n",
              "      <td>NaN</td>\n",
              "      <td>NaN</td>\n",
              "      <td>NaN</td>\n",
              "      <td>1.0</td>\n",
              "      <td>NW</td>\n",
              "      <td>FRIES MILLS</td>\n",
              "      <td>1.0</td>\n",
              "      <td>NW</td>\n",
              "      <td>FRIES MILLS</td>\n",
              "      <td>39.6600</td>\n",
              "      <td>-75.0800</td>\n",
              "      <td>39.6600</td>\n",
              "      <td>-75.0800</td>\n",
              "      <td>Low pressure tracked from the Ohio Valley into...</td>\n",
              "      <td>A couple of trees were taken down due to thund...</td>\n",
              "      <td>CSV</td>\n",
              "    </tr>\n",
              "    <tr>\n",
              "      <th>1</th>\n",
              "      <td>201704</td>\n",
              "      <td>6</td>\n",
              "      <td>930</td>\n",
              "      <td>201704</td>\n",
              "      <td>6</td>\n",
              "      <td>940</td>\n",
              "      <td>113459</td>\n",
              "      <td>679228</td>\n",
              "      <td>FLORIDA</td>\n",
              "      <td>12</td>\n",
              "      <td>2017</td>\n",
              "      <td>April</td>\n",
              "      <td>Tornado</td>\n",
              "      <td>C</td>\n",
              "      <td>71</td>\n",
              "      <td>LEE</td>\n",
              "      <td>TBW</td>\n",
              "      <td>06-APR-17 09:30:00</td>\n",
              "      <td>EST-5</td>\n",
              "      <td>06-APR-17 09:40:00</td>\n",
              "      <td>1</td>\n",
              "      <td>0</td>\n",
              "      <td>0</td>\n",
              "      <td>0</td>\n",
              "      <td>110.00K</td>\n",
              "      <td>0.00K</td>\n",
              "      <td>Emergency Manager</td>\n",
              "      <td>NaN</td>\n",
              "      <td>NaN</td>\n",
              "      <td>NaN</td>\n",
              "      <td>NaN</td>\n",
              "      <td>EF0</td>\n",
              "      <td>7.43</td>\n",
              "      <td>20.0</td>\n",
              "      <td>NaN</td>\n",
              "      <td>NaN</td>\n",
              "      <td>NaN</td>\n",
              "      <td>NaN</td>\n",
              "      <td>1.0</td>\n",
              "      <td>S</td>\n",
              "      <td>PUNTA RASSA</td>\n",
              "      <td>1.0</td>\n",
              "      <td>SW</td>\n",
              "      <td>FORT MYERS VILLAS</td>\n",
              "      <td>26.5010</td>\n",
              "      <td>-81.9980</td>\n",
              "      <td>26.5339</td>\n",
              "      <td>-81.8836</td>\n",
              "      <td>A line of thunderstorms developed along a pref...</td>\n",
              "      <td>Emergency management reported and broadcast me...</td>\n",
              "      <td>CSV</td>\n",
              "    </tr>\n",
              "    <tr>\n",
              "      <th>2</th>\n",
              "      <td>201704</td>\n",
              "      <td>5</td>\n",
              "      <td>1749</td>\n",
              "      <td>201704</td>\n",
              "      <td>5</td>\n",
              "      <td>1753</td>\n",
              "      <td>113448</td>\n",
              "      <td>679268</td>\n",
              "      <td>OHIO</td>\n",
              "      <td>39</td>\n",
              "      <td>2017</td>\n",
              "      <td>April</td>\n",
              "      <td>Thunderstorm Wind</td>\n",
              "      <td>C</td>\n",
              "      <td>57</td>\n",
              "      <td>GREENE</td>\n",
              "      <td>ILN</td>\n",
              "      <td>05-APR-17 17:49:00</td>\n",
              "      <td>EST-5</td>\n",
              "      <td>05-APR-17 17:53:00</td>\n",
              "      <td>0</td>\n",
              "      <td>0</td>\n",
              "      <td>0</td>\n",
              "      <td>0</td>\n",
              "      <td>1.00K</td>\n",
              "      <td>0.00K</td>\n",
              "      <td>Amateur Radio</td>\n",
              "      <td>50.0</td>\n",
              "      <td>EG</td>\n",
              "      <td>NaN</td>\n",
              "      <td>NaN</td>\n",
              "      <td>NaN</td>\n",
              "      <td>NaN</td>\n",
              "      <td>NaN</td>\n",
              "      <td>NaN</td>\n",
              "      <td>NaN</td>\n",
              "      <td>NaN</td>\n",
              "      <td>NaN</td>\n",
              "      <td>3.0</td>\n",
              "      <td>NE</td>\n",
              "      <td>FAIRBORN</td>\n",
              "      <td>3.0</td>\n",
              "      <td>NE</td>\n",
              "      <td>FAIRBORN</td>\n",
              "      <td>39.8500</td>\n",
              "      <td>-83.9900</td>\n",
              "      <td>39.8500</td>\n",
              "      <td>-83.9900</td>\n",
              "      <td>Showers and thunderstorms developed ahead of a...</td>\n",
              "      <td>An entire tree was uprooted in a yard on Dayto...</td>\n",
              "      <td>CSV</td>\n",
              "    </tr>\n",
              "    <tr>\n",
              "      <th>3</th>\n",
              "      <td>201704</td>\n",
              "      <td>16</td>\n",
              "      <td>1759</td>\n",
              "      <td>201704</td>\n",
              "      <td>16</td>\n",
              "      <td>1900</td>\n",
              "      <td>113697</td>\n",
              "      <td>682042</td>\n",
              "      <td>OHIO</td>\n",
              "      <td>39</td>\n",
              "      <td>2017</td>\n",
              "      <td>April</td>\n",
              "      <td>Flood</td>\n",
              "      <td>C</td>\n",
              "      <td>25</td>\n",
              "      <td>CLERMONT</td>\n",
              "      <td>ILN</td>\n",
              "      <td>16-APR-17 17:59:00</td>\n",
              "      <td>EST-5</td>\n",
              "      <td>16-APR-17 19:00:00</td>\n",
              "      <td>0</td>\n",
              "      <td>0</td>\n",
              "      <td>0</td>\n",
              "      <td>0</td>\n",
              "      <td>5.00K</td>\n",
              "      <td>0.00K</td>\n",
              "      <td>Public</td>\n",
              "      <td>NaN</td>\n",
              "      <td>NaN</td>\n",
              "      <td>Heavy Rain</td>\n",
              "      <td>NaN</td>\n",
              "      <td>NaN</td>\n",
              "      <td>NaN</td>\n",
              "      <td>NaN</td>\n",
              "      <td>NaN</td>\n",
              "      <td>NaN</td>\n",
              "      <td>NaN</td>\n",
              "      <td>NaN</td>\n",
              "      <td>1.0</td>\n",
              "      <td>NW</td>\n",
              "      <td>SUMMERSIDE</td>\n",
              "      <td>1.0</td>\n",
              "      <td>NW</td>\n",
              "      <td>SUMMERSIDE</td>\n",
              "      <td>39.1065</td>\n",
              "      <td>-84.2875</td>\n",
              "      <td>39.1061</td>\n",
              "      <td>-84.2874</td>\n",
              "      <td>Thunderstorms with very heavy rain developed a...</td>\n",
              "      <td>Garage of a home was flooded by high water.</td>\n",
              "      <td>CSV</td>\n",
              "    </tr>\n",
              "    <tr>\n",
              "      <th>4</th>\n",
              "      <td>201704</td>\n",
              "      <td>15</td>\n",
              "      <td>1550</td>\n",
              "      <td>201704</td>\n",
              "      <td>15</td>\n",
              "      <td>1550</td>\n",
              "      <td>113683</td>\n",
              "      <td>682062</td>\n",
              "      <td>NEBRASKA</td>\n",
              "      <td>31</td>\n",
              "      <td>2017</td>\n",
              "      <td>April</td>\n",
              "      <td>Hail</td>\n",
              "      <td>C</td>\n",
              "      <td>25</td>\n",
              "      <td>CASS</td>\n",
              "      <td>OAX</td>\n",
              "      <td>15-APR-17 15:50:00</td>\n",
              "      <td>CST-6</td>\n",
              "      <td>15-APR-17 15:50:00</td>\n",
              "      <td>0</td>\n",
              "      <td>0</td>\n",
              "      <td>0</td>\n",
              "      <td>0</td>\n",
              "      <td>0.00K</td>\n",
              "      <td>0.00K</td>\n",
              "      <td>Trained Spotter</td>\n",
              "      <td>1.5</td>\n",
              "      <td>NaN</td>\n",
              "      <td>NaN</td>\n",
              "      <td>NaN</td>\n",
              "      <td>NaN</td>\n",
              "      <td>NaN</td>\n",
              "      <td>NaN</td>\n",
              "      <td>NaN</td>\n",
              "      <td>NaN</td>\n",
              "      <td>NaN</td>\n",
              "      <td>NaN</td>\n",
              "      <td>2.0</td>\n",
              "      <td>ENE</td>\n",
              "      <td>COLE ARPT</td>\n",
              "      <td>2.0</td>\n",
              "      <td>ENE</td>\n",
              "      <td>COLE ARPT</td>\n",
              "      <td>40.9800</td>\n",
              "      <td>-95.8900</td>\n",
              "      <td>40.9800</td>\n",
              "      <td>-95.8900</td>\n",
              "      <td>An upper level storm system moved into Nebrask...</td>\n",
              "      <td>NaN</td>\n",
              "      <td>CSV</td>\n",
              "    </tr>\n",
              "  </tbody>\n",
              "</table>\n",
              "</div>"
            ],
            "text/plain": [
              "   BEGIN_YEARMONTH  ...  DATA_SOURCE\n",
              "0           201704  ...          CSV\n",
              "1           201704  ...          CSV\n",
              "2           201704  ...          CSV\n",
              "3           201704  ...          CSV\n",
              "4           201704  ...          CSV\n",
              "\n",
              "[5 rows x 51 columns]"
            ]
          },
          "metadata": {
            "tags": []
          },
          "execution_count": 76
        }
      ]
    },
    {
      "cell_type": "code",
      "metadata": {
        "id": "-WL_wWsfnplF",
        "colab_type": "code",
        "colab": {}
      },
      "source": [
        "dfweather_data_2017 = weather_data_2017[['STATE','DAMAGE_PROPERTY']].copy()"
      ],
      "execution_count": 0,
      "outputs": []
    },
    {
      "cell_type": "code",
      "metadata": {
        "id": "7Mq82ZgDnuNt",
        "colab_type": "code",
        "colab": {}
      },
      "source": [
        "#dropping NaN values\n",
        "dfweather_data_2017 = dfweather_data_2017.dropna()"
      ],
      "execution_count": 0,
      "outputs": []
    },
    {
      "cell_type": "code",
      "metadata": {
        "id": "uqm7ifw7ny5W",
        "colab_type": "code",
        "colab": {}
      },
      "source": [
        "DAMAGE_PROPERTY_2017 = dfweather_data_2017['DAMAGE_PROPERTY'].replace({'K': '*1e3', 'M': '*1e6', 'B': '1e9'}, regex=True).map(pd.eval).astype(int)"
      ],
      "execution_count": 0,
      "outputs": []
    },
    {
      "cell_type": "code",
      "metadata": {
        "id": "P7q-Op3Mn4UF",
        "colab_type": "code",
        "colab": {}
      },
      "source": [
        "dfweather_data_2017['DAMAGE_PROPERTY'] = DAMAGE_PROPERTY_2017"
      ],
      "execution_count": 0,
      "outputs": []
    },
    {
      "cell_type": "markdown",
      "metadata": {
        "id": "4XiiYohSt__8",
        "colab_type": "text"
      },
      "source": [
        "**State Totals**"
      ]
    },
    {
      "cell_type": "code",
      "metadata": {
        "id": "YzyvtZycuCfP",
        "colab_type": "code",
        "colab": {}
      },
      "source": [
        "#adds together the state totals\n",
        "newdf2017 = dfweather_data_2017.groupby(['STATE'], as_index=False).sum()"
      ],
      "execution_count": 0,
      "outputs": []
    },
    {
      "cell_type": "code",
      "metadata": {
        "id": "kuoP3yL2uHHe",
        "colab_type": "code",
        "outputId": "a8a03ba6-637f-4cce-aea9-b3de9917ff0a",
        "colab": {
          "base_uri": "https://localhost:8080/",
          "height": 204
        }
      },
      "source": [
        "#creates a new dataframe\n",
        "df2017 = pd.DataFrame(newdf2017)\n",
        "df2017.head()"
      ],
      "execution_count": 0,
      "outputs": [
        {
          "output_type": "execute_result",
          "data": {
            "text/html": [
              "<div>\n",
              "<style scoped>\n",
              "    .dataframe tbody tr th:only-of-type {\n",
              "        vertical-align: middle;\n",
              "    }\n",
              "\n",
              "    .dataframe tbody tr th {\n",
              "        vertical-align: top;\n",
              "    }\n",
              "\n",
              "    .dataframe thead th {\n",
              "        text-align: right;\n",
              "    }\n",
              "</style>\n",
              "<table border=\"1\" class=\"dataframe\">\n",
              "  <thead>\n",
              "    <tr style=\"text-align: right;\">\n",
              "      <th></th>\n",
              "      <th>STATE</th>\n",
              "      <th>DAMAGE_PROPERTY</th>\n",
              "    </tr>\n",
              "  </thead>\n",
              "  <tbody>\n",
              "    <tr>\n",
              "      <th>0</th>\n",
              "      <td>ALABAMA</td>\n",
              "      <td>31592800</td>\n",
              "    </tr>\n",
              "    <tr>\n",
              "      <th>1</th>\n",
              "      <td>ALASKA</td>\n",
              "      <td>6525000</td>\n",
              "    </tr>\n",
              "    <tr>\n",
              "      <th>2</th>\n",
              "      <td>AMERICAN SAMOA</td>\n",
              "      <td>447000</td>\n",
              "    </tr>\n",
              "    <tr>\n",
              "      <th>3</th>\n",
              "      <td>ARIZONA</td>\n",
              "      <td>11700300</td>\n",
              "    </tr>\n",
              "    <tr>\n",
              "      <th>4</th>\n",
              "      <td>ARKANSAS</td>\n",
              "      <td>37586000</td>\n",
              "    </tr>\n",
              "  </tbody>\n",
              "</table>\n",
              "</div>"
            ],
            "text/plain": [
              "            STATE  DAMAGE_PROPERTY\n",
              "0         ALABAMA         31592800\n",
              "1          ALASKA          6525000\n",
              "2  AMERICAN SAMOA           447000\n",
              "3         ARIZONA         11700300\n",
              "4        ARKANSAS         37586000"
            ]
          },
          "metadata": {
            "tags": []
          },
          "execution_count": 82
        }
      ]
    },
    {
      "cell_type": "markdown",
      "metadata": {
        "id": "tZRVOhMtuOSg",
        "colab_type": "text"
      },
      "source": [
        "**Plots**"
      ]
    },
    {
      "cell_type": "code",
      "metadata": {
        "id": "n2doSagkuQAO",
        "colab_type": "code",
        "outputId": "4e8fee80-fa85-4aec-8217-399d690adb67",
        "colab": {
          "base_uri": "https://localhost:8080/",
          "height": 419
        }
      },
      "source": [
        "df2017.sort_values(by='DAMAGE_PROPERTY', ascending=False)"
      ],
      "execution_count": 0,
      "outputs": [
        {
          "output_type": "execute_result",
          "data": {
            "text/html": [
              "<div>\n",
              "<style scoped>\n",
              "    .dataframe tbody tr th:only-of-type {\n",
              "        vertical-align: middle;\n",
              "    }\n",
              "\n",
              "    .dataframe tbody tr th {\n",
              "        vertical-align: top;\n",
              "    }\n",
              "\n",
              "    .dataframe thead th {\n",
              "        text-align: right;\n",
              "    }\n",
              "</style>\n",
              "<table border=\"1\" class=\"dataframe\">\n",
              "  <thead>\n",
              "    <tr style=\"text-align: right;\">\n",
              "      <th></th>\n",
              "      <th>STATE</th>\n",
              "      <th>DAMAGE_PROPERTY</th>\n",
              "    </tr>\n",
              "  </thead>\n",
              "  <tbody>\n",
              "    <tr>\n",
              "      <th>56</th>\n",
              "      <td>TEXAS</td>\n",
              "      <td>51536934600</td>\n",
              "    </tr>\n",
              "    <tr>\n",
              "      <th>51</th>\n",
              "      <td>PUERTO RICO</td>\n",
              "      <td>19028218000</td>\n",
              "    </tr>\n",
              "    <tr>\n",
              "      <th>13</th>\n",
              "      <td>FLORIDA</td>\n",
              "      <td>3922582960</td>\n",
              "    </tr>\n",
              "    <tr>\n",
              "      <th>8</th>\n",
              "      <td>COLORADO</td>\n",
              "      <td>2327483300</td>\n",
              "    </tr>\n",
              "    <tr>\n",
              "      <th>7</th>\n",
              "      <td>CALIFORNIA</td>\n",
              "      <td>866948550</td>\n",
              "    </tr>\n",
              "    <tr>\n",
              "      <th>...</th>\n",
              "      <td>...</td>\n",
              "      <td>...</td>\n",
              "    </tr>\n",
              "    <tr>\n",
              "      <th>27</th>\n",
              "      <td>LAKE MICHIGAN</td>\n",
              "      <td>0</td>\n",
              "    </tr>\n",
              "    <tr>\n",
              "      <th>18</th>\n",
              "      <td>HAWAII WATERS</td>\n",
              "      <td>0</td>\n",
              "    </tr>\n",
              "    <tr>\n",
              "      <th>25</th>\n",
              "      <td>LAKE ERIE</td>\n",
              "      <td>0</td>\n",
              "    </tr>\n",
              "    <tr>\n",
              "      <th>26</th>\n",
              "      <td>LAKE HURON</td>\n",
              "      <td>0</td>\n",
              "    </tr>\n",
              "    <tr>\n",
              "      <th>28</th>\n",
              "      <td>LAKE ST CLAIR</td>\n",
              "      <td>0</td>\n",
              "    </tr>\n",
              "  </tbody>\n",
              "</table>\n",
              "<p>65 rows × 2 columns</p>\n",
              "</div>"
            ],
            "text/plain": [
              "            STATE  DAMAGE_PROPERTY\n",
              "56          TEXAS      51536934600\n",
              "51    PUERTO RICO      19028218000\n",
              "13        FLORIDA       3922582960\n",
              "8        COLORADO       2327483300\n",
              "7      CALIFORNIA        866948550\n",
              "..            ...              ...\n",
              "27  LAKE MICHIGAN                0\n",
              "18  HAWAII WATERS                0\n",
              "25      LAKE ERIE                0\n",
              "26     LAKE HURON                0\n",
              "28  LAKE ST CLAIR                0\n",
              "\n",
              "[65 rows x 2 columns]"
            ]
          },
          "metadata": {
            "tags": []
          },
          "execution_count": 83
        }
      ]
    },
    {
      "cell_type": "code",
      "metadata": {
        "id": "1qXNG5-nuTT_",
        "colab_type": "code",
        "colab": {}
      },
      "source": [
        "df2017['STATE']=df2017['STATE'].str.capitalize()"
      ],
      "execution_count": 0,
      "outputs": []
    },
    {
      "cell_type": "code",
      "metadata": {
        "id": "NFYUkgvcuXc3",
        "colab_type": "code",
        "colab": {}
      },
      "source": [
        "df2017['STATE'] = df2017['STATE'].replace({'Alaska':'AK',\n",
        "        'Alabama':'AL',\n",
        "        'Arkansas':'AR',\n",
        "        'American Samoa':'AS',\n",
        "        'Arizona':'AZ',\n",
        "        'California':'CA',\n",
        "        'Colorado':'CO',\n",
        "        'Connecticut':'CT',\n",
        "        'District of columbia':'DC',\n",
        "        'Delaware':'DE',\n",
        "        'Florida':'FL',\n",
        "        'Georgia':'GA',\n",
        "        'Guam':'GU',\n",
        "        'Hawaii':'HI',\n",
        "        'Iowa':'IA',\n",
        "        'Idaho':'ID',\n",
        "         'Illinois':'IL',\n",
        "        'Indiana':'IN',\n",
        "        'Kansas':'KS',\n",
        "        'Kentucky':'KY',\n",
        "        'Louisiana':'LA',\n",
        "        'Massachusetts':'MA',\n",
        "        'Maryland':'MD',\n",
        "        'Maine':'ME',\n",
        "        'Michigan':'MI',\n",
        "        'Minnesota':'MN',\n",
        "        'Missouri':'MO',\n",
        "        'Northern mariana islands':'MP',\n",
        "        'Mississippi':'MS',\n",
        "        'Montana':'MT',\n",
        "        'National':'NA',\n",
        "        'North carolina':'NC',\n",
        "        'North dakota':'ND',\n",
        "        'Nebraska':'NE',\n",
        "        'New hampshire':'NH',\n",
        "        'New jersey':'NJ',\n",
        "        'New mexico':'NM',\n",
        "        'Nevada':'NV',\n",
        "        'New york':'NY',\n",
        "        'Ohio':'OH',\n",
        "        'Oklahoma':'OK',\n",
        "        'Oregon':'OR',\n",
        "        'Pennsylvania':'PA',\n",
        "        'Puerto rico':'PR',\n",
        "        'Rhode island':'RI',\n",
        "        'South carolina':'SC',\n",
        "        'South dakota':'SD',\n",
        "        'Tennessee':'TN',\n",
        "        'Texas':'TX',\n",
        "        'Utah':'UT',\n",
        "        'Virginia':'VA',\n",
        "        'Virgin islands':'VI',\n",
        "        'Vermont':'VT',\n",
        "        'Washington':'WA',\n",
        "        'Wisconsin':'WI',\n",
        "        'West virginia':'WV',\n",
        "        'Wyoming':'WY'}, regex=True)"
      ],
      "execution_count": 0,
      "outputs": []
    },
    {
      "cell_type": "code",
      "metadata": {
        "id": "n9JFP5Sfuexv",
        "colab_type": "code",
        "outputId": "6c215120-ee32-4cb0-a7ee-2464a74cf173",
        "colab": {
          "base_uri": "https://localhost:8080/",
          "height": 204
        }
      },
      "source": [
        "df2017.head()"
      ],
      "execution_count": 0,
      "outputs": [
        {
          "output_type": "execute_result",
          "data": {
            "text/html": [
              "<div>\n",
              "<style scoped>\n",
              "    .dataframe tbody tr th:only-of-type {\n",
              "        vertical-align: middle;\n",
              "    }\n",
              "\n",
              "    .dataframe tbody tr th {\n",
              "        vertical-align: top;\n",
              "    }\n",
              "\n",
              "    .dataframe thead th {\n",
              "        text-align: right;\n",
              "    }\n",
              "</style>\n",
              "<table border=\"1\" class=\"dataframe\">\n",
              "  <thead>\n",
              "    <tr style=\"text-align: right;\">\n",
              "      <th></th>\n",
              "      <th>STATE</th>\n",
              "      <th>DAMAGE_PROPERTY</th>\n",
              "    </tr>\n",
              "  </thead>\n",
              "  <tbody>\n",
              "    <tr>\n",
              "      <th>0</th>\n",
              "      <td>AL</td>\n",
              "      <td>31592800</td>\n",
              "    </tr>\n",
              "    <tr>\n",
              "      <th>1</th>\n",
              "      <td>AK</td>\n",
              "      <td>6525000</td>\n",
              "    </tr>\n",
              "    <tr>\n",
              "      <th>2</th>\n",
              "      <td>American samoa</td>\n",
              "      <td>447000</td>\n",
              "    </tr>\n",
              "    <tr>\n",
              "      <th>3</th>\n",
              "      <td>AZ</td>\n",
              "      <td>11700300</td>\n",
              "    </tr>\n",
              "    <tr>\n",
              "      <th>4</th>\n",
              "      <td>AR</td>\n",
              "      <td>37586000</td>\n",
              "    </tr>\n",
              "  </tbody>\n",
              "</table>\n",
              "</div>"
            ],
            "text/plain": [
              "            STATE  DAMAGE_PROPERTY\n",
              "0              AL         31592800\n",
              "1              AK          6525000\n",
              "2  American samoa           447000\n",
              "3              AZ         11700300\n",
              "4              AR         37586000"
            ]
          },
          "metadata": {
            "tags": []
          },
          "execution_count": 90
        }
      ]
    },
    {
      "cell_type": "code",
      "metadata": {
        "id": "nP1Li3R8uhzP",
        "colab_type": "code",
        "colab": {}
      },
      "source": [
        "mycolumn='DAMAGE_PROPERTY'\n",
        "myheading1 = f\"Wow! That's a lot of {mycolumn}!\"\n",
        "mygraphtitle = '2017 US Storm Damage Cost by State'\n",
        "mycolorscale = 'ylorrd' # Note: The error message will list possible color scales.\n",
        "mycolorbartitle = \"USD Currency\""
      ],
      "execution_count": 0,
      "outputs": []
    },
    {
      "cell_type": "code",
      "metadata": {
        "id": "4-RAST53uk23",
        "colab_type": "code",
        "outputId": "9c789fa9-d6c2-4759-b08c-73dfde35a8d5",
        "colab": {
          "base_uri": "https://localhost:8080/",
          "height": 817
        }
      },
      "source": [
        "fig = go.Figure(data=go.Choropleth(\n",
        "    locations=df2017['STATE'], # Spatial coordinates\n",
        "    z = df2017[mycolumn].astype(float), # Data to be color-coded\n",
        "    locationmode = 'USA-states', # set of locations match entries in `locations`\n",
        "    colorscale = mycolorscale,\n",
        "    colorbar_title = mycolorbartitle,\n",
        "))\n",
        "\n",
        "fig.update_layout(\n",
        "    title_text = mygraphtitle,\n",
        "    geo_scope='usa',\n",
        "    width=1200,\n",
        "    height=800\n",
        ")\n",
        "fig.show()"
      ],
      "execution_count": 0,
      "outputs": [
        {
          "output_type": "display_data",
          "data": {
            "text/html": [
              "<html>\n",
              "<head><meta charset=\"utf-8\" /></head>\n",
              "<body>\n",
              "    <div>\n",
              "            <script src=\"https://cdnjs.cloudflare.com/ajax/libs/mathjax/2.7.5/MathJax.js?config=TeX-AMS-MML_SVG\"></script><script type=\"text/javascript\">if (window.MathJax) {MathJax.Hub.Config({SVG: {font: \"STIX-Web\"}});}</script>\n",
              "                <script type=\"text/javascript\">window.PlotlyConfig = {MathJaxConfig: 'local'};</script>\n",
              "        <script src=\"https://cdn.plot.ly/plotly-latest.min.js\"></script>    \n",
              "            <div id=\"8fae394b-0837-46aa-951b-584ccafdc43e\" class=\"plotly-graph-div\" style=\"height:800px; width:1200px;\"></div>\n",
              "            <script type=\"text/javascript\">\n",
              "                \n",
              "                    window.PLOTLYENV=window.PLOTLYENV || {};\n",
              "                    \n",
              "                if (document.getElementById(\"8fae394b-0837-46aa-951b-584ccafdc43e\")) {\n",
              "                    Plotly.newPlot(\n",
              "                        '8fae394b-0837-46aa-951b-584ccafdc43e',\n",
              "                        [{\"colorbar\": {\"title\": {\"text\": \"USD Currency\"}}, \"colorscale\": [[0.0, \"rgb(255,255,204)\"], [0.125, \"rgb(255,237,160)\"], [0.25, \"rgb(254,217,118)\"], [0.375, \"rgb(254,178,76)\"], [0.5, \"rgb(253,141,60)\"], [0.625, \"rgb(252,78,42)\"], [0.75, \"rgb(227,26,28)\"], [0.875, \"rgb(189,0,38)\"], [1.0, \"rgb(128,0,38)\"]], \"locationmode\": \"USA-states\", \"locations\": [\"AL\", \"AK\", \"American samoa\", \"AZ\", \"AR\", \"Atlantic north\", \"Atlantic south\", \"CA\", \"CO\", \"CT\", \"DE\", \"DC\", \"E pacific\", \"FL\", \"GA\", \"GU\", \"Gulf of mexico\", \"HI\", \"HI waters\", \"ID\", \"IL\", \"IN\", \"IA\", \"KS\", \"KY\", \"Lake erie\", \"Lake huron\", \"Lake michigan\", \"Lake st clair\", \"Lake superior\", \"LA\", \"ME\", \"MD\", \"MA\", \"MI\", \"MN\", \"MS\", \"MO\", \"MT\", \"NE\", \"NV\", \"NH\", \"NJ\", \"NM\", \"NY\", \"NC\", \"ND\", \"OH\", \"OK\", \"OR\", \"PA\", \"PR\", \"RI\", \"SC\", \"SD\", \"TN\", \"TX\", \"UT\", \"VT\", \"VI\", \"VA\", \"WA\", \"WV\", \"WI\", \"WY\"], \"type\": \"choropleth\", \"z\": [31592800.0, 6525000.0, 447000.0, 11700300.0, 37586000.0, 5010.0, 500.0, 866948550.0, 2327483300.0, 1444750.0, 60.0, 0.0, 10.0, 3922582960.0, 449186129.0, 1000.0, 20000.0, 231000.0, 0.0, 171094200.0, 61309750.0, 15305550.0, 14312500.0, 9577200.0, 28104350.0, 0.0, 0.0, 0.0, 0.0, 10000.0, 107611100.0, 345000.0, 1103020.0, 5155400.0, 721006000.0, 19221000.0, 57070400.0, 155729000.0, 1163500.0, 35489250.0, 19951600.0, 16965000.0, 1793080.0, 18702500.0, 52191950.0, 60612450.0, 10048000.0, 70010100.0, 130013000.0, 101213000.0, 45676780.0, 19028218000.0, 161900.0, 5530380.0, 171000.0, 27245700.0, 51536934600.0, 25675000.0, 14531000.0, 500000.0, 13796600.0, 82468000.0, 6880600.0, 82841100.0, 2999000.0]}],\n",
              "                        {\"geo\": {\"scope\": \"usa\"}, \"height\": 800, \"template\": {\"data\": {\"bar\": [{\"error_x\": {\"color\": \"#2a3f5f\"}, \"error_y\": {\"color\": \"#2a3f5f\"}, \"marker\": {\"line\": {\"color\": \"#E5ECF6\", \"width\": 0.5}}, \"type\": \"bar\"}], \"barpolar\": [{\"marker\": {\"line\": {\"color\": \"#E5ECF6\", \"width\": 0.5}}, \"type\": \"barpolar\"}], \"carpet\": [{\"aaxis\": {\"endlinecolor\": \"#2a3f5f\", \"gridcolor\": \"white\", \"linecolor\": \"white\", \"minorgridcolor\": \"white\", \"startlinecolor\": \"#2a3f5f\"}, \"baxis\": {\"endlinecolor\": \"#2a3f5f\", \"gridcolor\": \"white\", \"linecolor\": \"white\", \"minorgridcolor\": \"white\", \"startlinecolor\": \"#2a3f5f\"}, \"type\": \"carpet\"}], \"choropleth\": [{\"colorbar\": {\"outlinewidth\": 0, \"ticks\": \"\"}, \"type\": \"choropleth\"}], \"contour\": [{\"colorbar\": {\"outlinewidth\": 0, \"ticks\": \"\"}, \"colorscale\": [[0.0, \"#0d0887\"], [0.1111111111111111, \"#46039f\"], [0.2222222222222222, \"#7201a8\"], [0.3333333333333333, \"#9c179e\"], [0.4444444444444444, \"#bd3786\"], [0.5555555555555556, \"#d8576b\"], [0.6666666666666666, \"#ed7953\"], [0.7777777777777778, \"#fb9f3a\"], [0.8888888888888888, \"#fdca26\"], [1.0, \"#f0f921\"]], \"type\": \"contour\"}], \"contourcarpet\": [{\"colorbar\": {\"outlinewidth\": 0, \"ticks\": \"\"}, \"type\": \"contourcarpet\"}], \"heatmap\": [{\"colorbar\": {\"outlinewidth\": 0, \"ticks\": \"\"}, \"colorscale\": [[0.0, \"#0d0887\"], [0.1111111111111111, \"#46039f\"], [0.2222222222222222, \"#7201a8\"], [0.3333333333333333, \"#9c179e\"], [0.4444444444444444, \"#bd3786\"], [0.5555555555555556, \"#d8576b\"], [0.6666666666666666, \"#ed7953\"], [0.7777777777777778, \"#fb9f3a\"], [0.8888888888888888, \"#fdca26\"], [1.0, \"#f0f921\"]], \"type\": \"heatmap\"}], \"heatmapgl\": [{\"colorbar\": {\"outlinewidth\": 0, \"ticks\": \"\"}, \"colorscale\": [[0.0, \"#0d0887\"], [0.1111111111111111, \"#46039f\"], [0.2222222222222222, \"#7201a8\"], [0.3333333333333333, \"#9c179e\"], [0.4444444444444444, \"#bd3786\"], [0.5555555555555556, \"#d8576b\"], [0.6666666666666666, \"#ed7953\"], [0.7777777777777778, \"#fb9f3a\"], [0.8888888888888888, \"#fdca26\"], [1.0, \"#f0f921\"]], \"type\": \"heatmapgl\"}], \"histogram\": [{\"marker\": {\"colorbar\": {\"outlinewidth\": 0, \"ticks\": \"\"}}, \"type\": \"histogram\"}], \"histogram2d\": [{\"colorbar\": {\"outlinewidth\": 0, \"ticks\": \"\"}, \"colorscale\": [[0.0, \"#0d0887\"], [0.1111111111111111, \"#46039f\"], [0.2222222222222222, \"#7201a8\"], [0.3333333333333333, \"#9c179e\"], [0.4444444444444444, \"#bd3786\"], [0.5555555555555556, \"#d8576b\"], [0.6666666666666666, \"#ed7953\"], [0.7777777777777778, \"#fb9f3a\"], [0.8888888888888888, \"#fdca26\"], [1.0, \"#f0f921\"]], \"type\": \"histogram2d\"}], \"histogram2dcontour\": [{\"colorbar\": {\"outlinewidth\": 0, \"ticks\": \"\"}, \"colorscale\": [[0.0, \"#0d0887\"], [0.1111111111111111, \"#46039f\"], [0.2222222222222222, \"#7201a8\"], [0.3333333333333333, \"#9c179e\"], [0.4444444444444444, \"#bd3786\"], [0.5555555555555556, \"#d8576b\"], [0.6666666666666666, \"#ed7953\"], [0.7777777777777778, \"#fb9f3a\"], [0.8888888888888888, \"#fdca26\"], [1.0, \"#f0f921\"]], \"type\": \"histogram2dcontour\"}], \"mesh3d\": [{\"colorbar\": {\"outlinewidth\": 0, \"ticks\": \"\"}, \"type\": \"mesh3d\"}], \"parcoords\": [{\"line\": {\"colorbar\": {\"outlinewidth\": 0, \"ticks\": \"\"}}, \"type\": \"parcoords\"}], \"pie\": [{\"automargin\": true, \"type\": \"pie\"}], \"scatter\": [{\"marker\": {\"colorbar\": {\"outlinewidth\": 0, \"ticks\": \"\"}}, \"type\": \"scatter\"}], \"scatter3d\": [{\"line\": {\"colorbar\": {\"outlinewidth\": 0, \"ticks\": \"\"}}, \"marker\": {\"colorbar\": {\"outlinewidth\": 0, \"ticks\": \"\"}}, \"type\": \"scatter3d\"}], \"scattercarpet\": [{\"marker\": {\"colorbar\": {\"outlinewidth\": 0, \"ticks\": \"\"}}, \"type\": \"scattercarpet\"}], \"scattergeo\": [{\"marker\": {\"colorbar\": {\"outlinewidth\": 0, \"ticks\": \"\"}}, \"type\": \"scattergeo\"}], \"scattergl\": [{\"marker\": {\"colorbar\": {\"outlinewidth\": 0, \"ticks\": \"\"}}, \"type\": \"scattergl\"}], \"scattermapbox\": [{\"marker\": {\"colorbar\": {\"outlinewidth\": 0, \"ticks\": \"\"}}, \"type\": \"scattermapbox\"}], \"scatterpolar\": [{\"marker\": {\"colorbar\": {\"outlinewidth\": 0, \"ticks\": \"\"}}, \"type\": \"scatterpolar\"}], \"scatterpolargl\": [{\"marker\": {\"colorbar\": {\"outlinewidth\": 0, \"ticks\": \"\"}}, \"type\": \"scatterpolargl\"}], \"scatterternary\": [{\"marker\": {\"colorbar\": {\"outlinewidth\": 0, \"ticks\": \"\"}}, \"type\": \"scatterternary\"}], \"surface\": [{\"colorbar\": {\"outlinewidth\": 0, \"ticks\": \"\"}, \"colorscale\": [[0.0, \"#0d0887\"], [0.1111111111111111, \"#46039f\"], [0.2222222222222222, \"#7201a8\"], [0.3333333333333333, \"#9c179e\"], [0.4444444444444444, \"#bd3786\"], [0.5555555555555556, \"#d8576b\"], [0.6666666666666666, \"#ed7953\"], [0.7777777777777778, \"#fb9f3a\"], [0.8888888888888888, \"#fdca26\"], [1.0, \"#f0f921\"]], \"type\": \"surface\"}], \"table\": [{\"cells\": {\"fill\": {\"color\": \"#EBF0F8\"}, \"line\": {\"color\": \"white\"}}, \"header\": {\"fill\": {\"color\": \"#C8D4E3\"}, \"line\": {\"color\": \"white\"}}, \"type\": \"table\"}]}, \"layout\": {\"annotationdefaults\": {\"arrowcolor\": \"#2a3f5f\", \"arrowhead\": 0, \"arrowwidth\": 1}, \"coloraxis\": {\"colorbar\": {\"outlinewidth\": 0, \"ticks\": \"\"}}, \"colorscale\": {\"diverging\": [[0, \"#8e0152\"], [0.1, \"#c51b7d\"], [0.2, \"#de77ae\"], [0.3, \"#f1b6da\"], [0.4, \"#fde0ef\"], [0.5, \"#f7f7f7\"], [0.6, \"#e6f5d0\"], [0.7, \"#b8e186\"], [0.8, \"#7fbc41\"], [0.9, \"#4d9221\"], [1, \"#276419\"]], \"sequential\": [[0.0, \"#0d0887\"], [0.1111111111111111, \"#46039f\"], [0.2222222222222222, \"#7201a8\"], [0.3333333333333333, \"#9c179e\"], [0.4444444444444444, \"#bd3786\"], [0.5555555555555556, \"#d8576b\"], [0.6666666666666666, \"#ed7953\"], [0.7777777777777778, \"#fb9f3a\"], [0.8888888888888888, \"#fdca26\"], [1.0, \"#f0f921\"]], \"sequentialminus\": [[0.0, \"#0d0887\"], [0.1111111111111111, \"#46039f\"], [0.2222222222222222, \"#7201a8\"], [0.3333333333333333, \"#9c179e\"], [0.4444444444444444, \"#bd3786\"], [0.5555555555555556, \"#d8576b\"], [0.6666666666666666, \"#ed7953\"], [0.7777777777777778, \"#fb9f3a\"], [0.8888888888888888, \"#fdca26\"], [1.0, \"#f0f921\"]]}, \"colorway\": [\"#636efa\", \"#EF553B\", \"#00cc96\", \"#ab63fa\", \"#FFA15A\", \"#19d3f3\", \"#FF6692\", \"#B6E880\", \"#FF97FF\", \"#FECB52\"], \"font\": {\"color\": \"#2a3f5f\"}, \"geo\": {\"bgcolor\": \"white\", \"lakecolor\": \"white\", \"landcolor\": \"#E5ECF6\", \"showlakes\": true, \"showland\": true, \"subunitcolor\": \"white\"}, \"hoverlabel\": {\"align\": \"left\"}, \"hovermode\": \"closest\", \"mapbox\": {\"style\": \"light\"}, \"paper_bgcolor\": \"white\", \"plot_bgcolor\": \"#E5ECF6\", \"polar\": {\"angularaxis\": {\"gridcolor\": \"white\", \"linecolor\": \"white\", \"ticks\": \"\"}, \"bgcolor\": \"#E5ECF6\", \"radialaxis\": {\"gridcolor\": \"white\", \"linecolor\": \"white\", \"ticks\": \"\"}}, \"scene\": {\"xaxis\": {\"backgroundcolor\": \"#E5ECF6\", \"gridcolor\": \"white\", \"gridwidth\": 2, \"linecolor\": \"white\", \"showbackground\": true, \"ticks\": \"\", \"zerolinecolor\": \"white\"}, \"yaxis\": {\"backgroundcolor\": \"#E5ECF6\", \"gridcolor\": \"white\", \"gridwidth\": 2, \"linecolor\": \"white\", \"showbackground\": true, \"ticks\": \"\", \"zerolinecolor\": \"white\"}, \"zaxis\": {\"backgroundcolor\": \"#E5ECF6\", \"gridcolor\": \"white\", \"gridwidth\": 2, \"linecolor\": \"white\", \"showbackground\": true, \"ticks\": \"\", \"zerolinecolor\": \"white\"}}, \"shapedefaults\": {\"line\": {\"color\": \"#2a3f5f\"}}, \"ternary\": {\"aaxis\": {\"gridcolor\": \"white\", \"linecolor\": \"white\", \"ticks\": \"\"}, \"baxis\": {\"gridcolor\": \"white\", \"linecolor\": \"white\", \"ticks\": \"\"}, \"bgcolor\": \"#E5ECF6\", \"caxis\": {\"gridcolor\": \"white\", \"linecolor\": \"white\", \"ticks\": \"\"}}, \"title\": {\"x\": 0.05}, \"xaxis\": {\"automargin\": true, \"gridcolor\": \"white\", \"linecolor\": \"white\", \"ticks\": \"\", \"title\": {\"standoff\": 15}, \"zerolinecolor\": \"white\", \"zerolinewidth\": 2}, \"yaxis\": {\"automargin\": true, \"gridcolor\": \"white\", \"linecolor\": \"white\", \"ticks\": \"\", \"title\": {\"standoff\": 15}, \"zerolinecolor\": \"white\", \"zerolinewidth\": 2}}}, \"title\": {\"text\": \"2017 US Storm Damage Cost by State\"}, \"width\": 1200},\n",
              "                        {\"responsive\": true}\n",
              "                    ).then(function(){\n",
              "                            \n",
              "var gd = document.getElementById('8fae394b-0837-46aa-951b-584ccafdc43e');\n",
              "var x = new MutationObserver(function (mutations, observer) {{\n",
              "        var display = window.getComputedStyle(gd).display;\n",
              "        if (!display || display === 'none') {{\n",
              "            console.log([gd, 'removed!']);\n",
              "            Plotly.purge(gd);\n",
              "            observer.disconnect();\n",
              "        }}\n",
              "}});\n",
              "\n",
              "// Listen for the removal of the full notebook cells\n",
              "var notebookContainer = gd.closest('#notebook-container');\n",
              "if (notebookContainer) {{\n",
              "    x.observe(notebookContainer, {childList: true});\n",
              "}}\n",
              "\n",
              "// Listen for the clearing of the current output cell\n",
              "var outputEl = gd.closest('.output');\n",
              "if (outputEl) {{\n",
              "    x.observe(outputEl, {childList: true});\n",
              "}}\n",
              "\n",
              "                        })\n",
              "                };\n",
              "                \n",
              "            </script>\n",
              "        </div>\n",
              "</body>\n",
              "</html>"
            ]
          },
          "metadata": {
            "tags": []
          }
        }
      ]
    },
    {
      "cell_type": "markdown",
      "metadata": {
        "id": "cPzJW7icfr6D",
        "colab_type": "text"
      },
      "source": [
        "# **2018**"
      ]
    },
    {
      "cell_type": "code",
      "metadata": {
        "id": "t28jFsKcpIhs",
        "colab_type": "code",
        "colab": {}
      },
      "source": [
        "Weather_url_2018 = \"https://www1.ncdc.noaa.gov/pub/data/swdi/stormevents/csvfiles/StormEvents_details-ftp_v1.0_d2018_c20200219.csv.gz\"\n",
        "#!curl https://www1.ncdc.noaa.gov/pub/data/swdi/stormevents/csvfiles/StormEvents_details-ftp_v1.0_d2018_c20200219.csv.gz"
      ],
      "execution_count": 0,
      "outputs": []
    },
    {
      "cell_type": "code",
      "metadata": {
        "id": "BWulbf0DpMCx",
        "colab_type": "code",
        "outputId": "6f0f1b86-5047-4f54-dad1-b5f2416cde6c",
        "colab": {
          "base_uri": "https://localhost:8080/",
          "height": 34
        }
      },
      "source": [
        "weather_data_2018 = pd.read_csv(Weather_url_2018)\n",
        "weather_data_2018.shape"
      ],
      "execution_count": 4,
      "outputs": [
        {
          "output_type": "execute_result",
          "data": {
            "text/plain": [
              "(62675, 51)"
            ]
          },
          "metadata": {
            "tags": []
          },
          "execution_count": 4
        }
      ]
    },
    {
      "cell_type": "code",
      "metadata": {
        "id": "ldXK6TK4pQlp",
        "colab_type": "code",
        "outputId": "36a4c429-1c61-4de0-c506-6e45bdc62c90",
        "colab": {
          "base_uri": "https://localhost:8080/",
          "height": 428
        }
      },
      "source": [
        "weather_data_2018.head()"
      ],
      "execution_count": 5,
      "outputs": [
        {
          "output_type": "execute_result",
          "data": {
            "text/html": [
              "<div>\n",
              "<style scoped>\n",
              "    .dataframe tbody tr th:only-of-type {\n",
              "        vertical-align: middle;\n",
              "    }\n",
              "\n",
              "    .dataframe tbody tr th {\n",
              "        vertical-align: top;\n",
              "    }\n",
              "\n",
              "    .dataframe thead th {\n",
              "        text-align: right;\n",
              "    }\n",
              "</style>\n",
              "<table border=\"1\" class=\"dataframe\">\n",
              "  <thead>\n",
              "    <tr style=\"text-align: right;\">\n",
              "      <th></th>\n",
              "      <th>BEGIN_YEARMONTH</th>\n",
              "      <th>BEGIN_DAY</th>\n",
              "      <th>BEGIN_TIME</th>\n",
              "      <th>END_YEARMONTH</th>\n",
              "      <th>END_DAY</th>\n",
              "      <th>END_TIME</th>\n",
              "      <th>EPISODE_ID</th>\n",
              "      <th>EVENT_ID</th>\n",
              "      <th>STATE</th>\n",
              "      <th>STATE_FIPS</th>\n",
              "      <th>YEAR</th>\n",
              "      <th>MONTH_NAME</th>\n",
              "      <th>EVENT_TYPE</th>\n",
              "      <th>CZ_TYPE</th>\n",
              "      <th>CZ_FIPS</th>\n",
              "      <th>CZ_NAME</th>\n",
              "      <th>WFO</th>\n",
              "      <th>BEGIN_DATE_TIME</th>\n",
              "      <th>CZ_TIMEZONE</th>\n",
              "      <th>END_DATE_TIME</th>\n",
              "      <th>INJURIES_DIRECT</th>\n",
              "      <th>INJURIES_INDIRECT</th>\n",
              "      <th>DEATHS_DIRECT</th>\n",
              "      <th>DEATHS_INDIRECT</th>\n",
              "      <th>DAMAGE_PROPERTY</th>\n",
              "      <th>DAMAGE_CROPS</th>\n",
              "      <th>SOURCE</th>\n",
              "      <th>MAGNITUDE</th>\n",
              "      <th>MAGNITUDE_TYPE</th>\n",
              "      <th>FLOOD_CAUSE</th>\n",
              "      <th>CATEGORY</th>\n",
              "      <th>TOR_F_SCALE</th>\n",
              "      <th>TOR_LENGTH</th>\n",
              "      <th>TOR_WIDTH</th>\n",
              "      <th>TOR_OTHER_WFO</th>\n",
              "      <th>TOR_OTHER_CZ_STATE</th>\n",
              "      <th>TOR_OTHER_CZ_FIPS</th>\n",
              "      <th>TOR_OTHER_CZ_NAME</th>\n",
              "      <th>BEGIN_RANGE</th>\n",
              "      <th>BEGIN_AZIMUTH</th>\n",
              "      <th>BEGIN_LOCATION</th>\n",
              "      <th>END_RANGE</th>\n",
              "      <th>END_AZIMUTH</th>\n",
              "      <th>END_LOCATION</th>\n",
              "      <th>BEGIN_LAT</th>\n",
              "      <th>BEGIN_LON</th>\n",
              "      <th>END_LAT</th>\n",
              "      <th>END_LON</th>\n",
              "      <th>EPISODE_NARRATIVE</th>\n",
              "      <th>EVENT_NARRATIVE</th>\n",
              "      <th>DATA_SOURCE</th>\n",
              "    </tr>\n",
              "  </thead>\n",
              "  <tbody>\n",
              "    <tr>\n",
              "      <th>0</th>\n",
              "      <td>201806</td>\n",
              "      <td>6</td>\n",
              "      <td>1810</td>\n",
              "      <td>201806</td>\n",
              "      <td>6</td>\n",
              "      <td>1810</td>\n",
              "      <td>125578</td>\n",
              "      <td>753161</td>\n",
              "      <td>NEBRASKA</td>\n",
              "      <td>31</td>\n",
              "      <td>2018</td>\n",
              "      <td>June</td>\n",
              "      <td>Hail</td>\n",
              "      <td>C</td>\n",
              "      <td>69</td>\n",
              "      <td>GARDEN</td>\n",
              "      <td>LBF</td>\n",
              "      <td>06-JUN-18 18:10:00</td>\n",
              "      <td>MST-7</td>\n",
              "      <td>06-JUN-18 18:10:00</td>\n",
              "      <td>0</td>\n",
              "      <td>0</td>\n",
              "      <td>0</td>\n",
              "      <td>0</td>\n",
              "      <td>0.00K</td>\n",
              "      <td>0.00K</td>\n",
              "      <td>Public</td>\n",
              "      <td>1.00</td>\n",
              "      <td>NaN</td>\n",
              "      <td>NaN</td>\n",
              "      <td>NaN</td>\n",
              "      <td>NaN</td>\n",
              "      <td>NaN</td>\n",
              "      <td>NaN</td>\n",
              "      <td>NaN</td>\n",
              "      <td>NaN</td>\n",
              "      <td>NaN</td>\n",
              "      <td>NaN</td>\n",
              "      <td>36.0</td>\n",
              "      <td>N</td>\n",
              "      <td>OSHKOSH</td>\n",
              "      <td>36.0</td>\n",
              "      <td>N</td>\n",
              "      <td>OSHKOSH</td>\n",
              "      <td>41.9300</td>\n",
              "      <td>-102.2100</td>\n",
              "      <td>41.9300</td>\n",
              "      <td>-102.2100</td>\n",
              "      <td>Severe storms developed in the Nebraska Panhan...</td>\n",
              "      <td>Hail predominately penny size with some quarte...</td>\n",
              "      <td>CSV</td>\n",
              "    </tr>\n",
              "    <tr>\n",
              "      <th>1</th>\n",
              "      <td>201806</td>\n",
              "      <td>6</td>\n",
              "      <td>1741</td>\n",
              "      <td>201806</td>\n",
              "      <td>6</td>\n",
              "      <td>1741</td>\n",
              "      <td>125578</td>\n",
              "      <td>753160</td>\n",
              "      <td>NEBRASKA</td>\n",
              "      <td>31</td>\n",
              "      <td>2018</td>\n",
              "      <td>June</td>\n",
              "      <td>Hail</td>\n",
              "      <td>C</td>\n",
              "      <td>161</td>\n",
              "      <td>SHERIDAN</td>\n",
              "      <td>LBF</td>\n",
              "      <td>06-JUN-18 17:41:00</td>\n",
              "      <td>MST-7</td>\n",
              "      <td>06-JUN-18 17:41:00</td>\n",
              "      <td>0</td>\n",
              "      <td>0</td>\n",
              "      <td>0</td>\n",
              "      <td>0</td>\n",
              "      <td>0.00K</td>\n",
              "      <td>0.00K</td>\n",
              "      <td>Trained Spotter</td>\n",
              "      <td>1.25</td>\n",
              "      <td>NaN</td>\n",
              "      <td>NaN</td>\n",
              "      <td>NaN</td>\n",
              "      <td>NaN</td>\n",
              "      <td>NaN</td>\n",
              "      <td>NaN</td>\n",
              "      <td>NaN</td>\n",
              "      <td>NaN</td>\n",
              "      <td>NaN</td>\n",
              "      <td>NaN</td>\n",
              "      <td>1.0</td>\n",
              "      <td>NW</td>\n",
              "      <td>BINGHAM</td>\n",
              "      <td>1.0</td>\n",
              "      <td>NW</td>\n",
              "      <td>BINGHAM</td>\n",
              "      <td>42.0300</td>\n",
              "      <td>-102.1000</td>\n",
              "      <td>42.0300</td>\n",
              "      <td>-102.1000</td>\n",
              "      <td>Severe storms developed in the Nebraska Panhan...</td>\n",
              "      <td>Hail mainly quarter size with some half dollar...</td>\n",
              "      <td>CSV</td>\n",
              "    </tr>\n",
              "    <tr>\n",
              "      <th>2</th>\n",
              "      <td>201806</td>\n",
              "      <td>30</td>\n",
              "      <td>2330</td>\n",
              "      <td>201806</td>\n",
              "      <td>30</td>\n",
              "      <td>2332</td>\n",
              "      <td>125988</td>\n",
              "      <td>755273</td>\n",
              "      <td>VERMONT</td>\n",
              "      <td>50</td>\n",
              "      <td>2018</td>\n",
              "      <td>June</td>\n",
              "      <td>Thunderstorm Wind</td>\n",
              "      <td>C</td>\n",
              "      <td>11</td>\n",
              "      <td>FRANKLIN</td>\n",
              "      <td>BTV</td>\n",
              "      <td>30-JUN-18 23:30:00</td>\n",
              "      <td>EST-5</td>\n",
              "      <td>30-JUN-18 23:32:00</td>\n",
              "      <td>0</td>\n",
              "      <td>0</td>\n",
              "      <td>0</td>\n",
              "      <td>0</td>\n",
              "      <td>15.00K</td>\n",
              "      <td>0.00K</td>\n",
              "      <td>Park/Forest Service</td>\n",
              "      <td>60.00</td>\n",
              "      <td>EG</td>\n",
              "      <td>NaN</td>\n",
              "      <td>NaN</td>\n",
              "      <td>NaN</td>\n",
              "      <td>NaN</td>\n",
              "      <td>NaN</td>\n",
              "      <td>NaN</td>\n",
              "      <td>NaN</td>\n",
              "      <td>NaN</td>\n",
              "      <td>NaN</td>\n",
              "      <td>3.0</td>\n",
              "      <td>WSW</td>\n",
              "      <td>WEST BERKSHIRE</td>\n",
              "      <td>3.0</td>\n",
              "      <td>WSW</td>\n",
              "      <td>WEST BERKSHIRE</td>\n",
              "      <td>44.9565</td>\n",
              "      <td>-72.8699</td>\n",
              "      <td>44.9565</td>\n",
              "      <td>-72.8699</td>\n",
              "      <td>Vermont and northern NY influenced by heat rid...</td>\n",
              "      <td>Numerous trees downed by thunderstorm winds.</td>\n",
              "      <td>CSV</td>\n",
              "    </tr>\n",
              "    <tr>\n",
              "      <th>3</th>\n",
              "      <td>201806</td>\n",
              "      <td>30</td>\n",
              "      <td>2345</td>\n",
              "      <td>201806</td>\n",
              "      <td>30</td>\n",
              "      <td>2345</td>\n",
              "      <td>125988</td>\n",
              "      <td>755929</td>\n",
              "      <td>VERMONT</td>\n",
              "      <td>50</td>\n",
              "      <td>2018</td>\n",
              "      <td>June</td>\n",
              "      <td>Thunderstorm Wind</td>\n",
              "      <td>C</td>\n",
              "      <td>15</td>\n",
              "      <td>LAMOILLE</td>\n",
              "      <td>BTV</td>\n",
              "      <td>30-JUN-18 23:45:00</td>\n",
              "      <td>EST-5</td>\n",
              "      <td>30-JUN-18 23:45:00</td>\n",
              "      <td>0</td>\n",
              "      <td>0</td>\n",
              "      <td>0</td>\n",
              "      <td>0</td>\n",
              "      <td>10.00K</td>\n",
              "      <td>0.00K</td>\n",
              "      <td>Public</td>\n",
              "      <td>55.00</td>\n",
              "      <td>EG</td>\n",
              "      <td>NaN</td>\n",
              "      <td>NaN</td>\n",
              "      <td>NaN</td>\n",
              "      <td>NaN</td>\n",
              "      <td>NaN</td>\n",
              "      <td>NaN</td>\n",
              "      <td>NaN</td>\n",
              "      <td>NaN</td>\n",
              "      <td>NaN</td>\n",
              "      <td>0.0</td>\n",
              "      <td>NE</td>\n",
              "      <td>BELVIDERE JCT</td>\n",
              "      <td>0.0</td>\n",
              "      <td>NE</td>\n",
              "      <td>BELVIDERE JCT</td>\n",
              "      <td>44.7316</td>\n",
              "      <td>-72.7474</td>\n",
              "      <td>44.7316</td>\n",
              "      <td>-72.7474</td>\n",
              "      <td>Vermont and northern NY influenced by heat rid...</td>\n",
              "      <td>At least half dozen trees downed or snapped al...</td>\n",
              "      <td>CSV</td>\n",
              "    </tr>\n",
              "    <tr>\n",
              "      <th>4</th>\n",
              "      <td>201806</td>\n",
              "      <td>6</td>\n",
              "      <td>1824</td>\n",
              "      <td>201806</td>\n",
              "      <td>6</td>\n",
              "      <td>1824</td>\n",
              "      <td>125578</td>\n",
              "      <td>753163</td>\n",
              "      <td>NEBRASKA</td>\n",
              "      <td>31</td>\n",
              "      <td>2018</td>\n",
              "      <td>June</td>\n",
              "      <td>Tornado</td>\n",
              "      <td>C</td>\n",
              "      <td>135</td>\n",
              "      <td>PERKINS</td>\n",
              "      <td>LBF</td>\n",
              "      <td>06-JUN-18 18:24:00</td>\n",
              "      <td>MST-7</td>\n",
              "      <td>06-JUN-18 18:24:00</td>\n",
              "      <td>0</td>\n",
              "      <td>0</td>\n",
              "      <td>0</td>\n",
              "      <td>0</td>\n",
              "      <td>0.00K</td>\n",
              "      <td>0.00K</td>\n",
              "      <td>NWS Storm Survey</td>\n",
              "      <td>NaN</td>\n",
              "      <td>NaN</td>\n",
              "      <td>NaN</td>\n",
              "      <td>NaN</td>\n",
              "      <td>EF0</td>\n",
              "      <td>0.1</td>\n",
              "      <td>10.0</td>\n",
              "      <td>NaN</td>\n",
              "      <td>NaN</td>\n",
              "      <td>NaN</td>\n",
              "      <td>NaN</td>\n",
              "      <td>5.0</td>\n",
              "      <td>NW</td>\n",
              "      <td>GRANT</td>\n",
              "      <td>5.0</td>\n",
              "      <td>NW</td>\n",
              "      <td>GRANT</td>\n",
              "      <td>40.9000</td>\n",
              "      <td>-101.7900</td>\n",
              "      <td>40.9000</td>\n",
              "      <td>-101.7900</td>\n",
              "      <td>Severe storms developed in the Nebraska Panhan...</td>\n",
              "      <td>Tornado briefly touched down in a field 5 mile...</td>\n",
              "      <td>CSV</td>\n",
              "    </tr>\n",
              "  </tbody>\n",
              "</table>\n",
              "</div>"
            ],
            "text/plain": [
              "   BEGIN_YEARMONTH  ...  DATA_SOURCE\n",
              "0           201806  ...          CSV\n",
              "1           201806  ...          CSV\n",
              "2           201806  ...          CSV\n",
              "3           201806  ...          CSV\n",
              "4           201806  ...          CSV\n",
              "\n",
              "[5 rows x 51 columns]"
            ]
          },
          "metadata": {
            "tags": []
          },
          "execution_count": 5
        }
      ]
    },
    {
      "cell_type": "code",
      "metadata": {
        "id": "KUWH5Q48pXDN",
        "colab_type": "code",
        "colab": {}
      },
      "source": [
        "dfweather_data_2018 = weather_data_2018[['STATE','DAMAGE_PROPERTY']].copy()"
      ],
      "execution_count": 0,
      "outputs": []
    },
    {
      "cell_type": "code",
      "metadata": {
        "id": "h8odKMRNpa0K",
        "colab_type": "code",
        "colab": {}
      },
      "source": [
        "#dropping NaN values\n",
        "dfweather_data_2018 = dfweather_data_2018.dropna()"
      ],
      "execution_count": 0,
      "outputs": []
    },
    {
      "cell_type": "code",
      "metadata": {
        "id": "rcKN9lB6pfEx",
        "colab_type": "code",
        "colab": {}
      },
      "source": [
        "DAMAGE_PROPERTY_2018 = dfweather_data_2018['DAMAGE_PROPERTY'].replace({'K': '*1e3', 'M': '*1e6', 'B': '1e9'}, regex=True).map(pd.eval).astype(int)"
      ],
      "execution_count": 0,
      "outputs": []
    },
    {
      "cell_type": "code",
      "metadata": {
        "id": "PHm2rwgRpjbq",
        "colab_type": "code",
        "colab": {}
      },
      "source": [
        "dfweather_data_2018['DAMAGE_PROPERTY'] = DAMAGE_PROPERTY_2018"
      ],
      "execution_count": 0,
      "outputs": []
    },
    {
      "cell_type": "code",
      "metadata": {
        "id": "BNhL7uEU058C",
        "colab_type": "code",
        "outputId": "b6a87d87-69e5-4487-a81c-bb05166ee191",
        "colab": {
          "base_uri": "https://localhost:8080/",
          "height": 34
        }
      },
      "source": [
        "Texas2018 = dfweather_data_2018[dfweather_data_2018['STATE'].str.match('TEXAS')]\n",
        "Texas2018['DAMAGE_PROPERTY'].sum()"
      ],
      "execution_count": 10,
      "outputs": [
        {
          "output_type": "execute_result",
          "data": {
            "text/plain": [
              "338081250"
            ]
          },
          "metadata": {
            "tags": []
          },
          "execution_count": 10
        }
      ]
    },
    {
      "cell_type": "markdown",
      "metadata": {
        "id": "-1pstyXKyYLU",
        "colab_type": "text"
      },
      "source": [
        "**State Totals**"
      ]
    },
    {
      "cell_type": "code",
      "metadata": {
        "id": "IJ8-2Cl0ybzB",
        "colab_type": "code",
        "colab": {}
      },
      "source": [
        "#adds together the state totals\n",
        "newdf2018 = dfweather_data_2018.groupby(['STATE'], as_index=False).sum()"
      ],
      "execution_count": 0,
      "outputs": []
    },
    {
      "cell_type": "code",
      "metadata": {
        "id": "01YlM0obyguh",
        "colab_type": "code",
        "outputId": "3d5fb89e-d34e-4d26-9a0c-a67174fa0e59",
        "colab": {
          "base_uri": "https://localhost:8080/",
          "height": 204
        }
      },
      "source": [
        "#creates a new dataframe\n",
        "df2018 = pd.DataFrame(newdf2018)\n",
        "df2018.head()"
      ],
      "execution_count": 12,
      "outputs": [
        {
          "output_type": "execute_result",
          "data": {
            "text/html": [
              "<div>\n",
              "<style scoped>\n",
              "    .dataframe tbody tr th:only-of-type {\n",
              "        vertical-align: middle;\n",
              "    }\n",
              "\n",
              "    .dataframe tbody tr th {\n",
              "        vertical-align: top;\n",
              "    }\n",
              "\n",
              "    .dataframe thead th {\n",
              "        text-align: right;\n",
              "    }\n",
              "</style>\n",
              "<table border=\"1\" class=\"dataframe\">\n",
              "  <thead>\n",
              "    <tr style=\"text-align: right;\">\n",
              "      <th></th>\n",
              "      <th>STATE</th>\n",
              "      <th>DAMAGE_PROPERTY</th>\n",
              "    </tr>\n",
              "  </thead>\n",
              "  <tbody>\n",
              "    <tr>\n",
              "      <th>0</th>\n",
              "      <td>ALABAMA</td>\n",
              "      <td>8340450</td>\n",
              "    </tr>\n",
              "    <tr>\n",
              "      <th>1</th>\n",
              "      <td>ALASKA</td>\n",
              "      <td>3589000</td>\n",
              "    </tr>\n",
              "    <tr>\n",
              "      <th>2</th>\n",
              "      <td>AMERICAN SAMOA</td>\n",
              "      <td>50137000</td>\n",
              "    </tr>\n",
              "    <tr>\n",
              "      <th>3</th>\n",
              "      <td>ARIZONA</td>\n",
              "      <td>67453000</td>\n",
              "    </tr>\n",
              "    <tr>\n",
              "      <th>4</th>\n",
              "      <td>ARKANSAS</td>\n",
              "      <td>19823000</td>\n",
              "    </tr>\n",
              "  </tbody>\n",
              "</table>\n",
              "</div>"
            ],
            "text/plain": [
              "            STATE  DAMAGE_PROPERTY\n",
              "0         ALABAMA          8340450\n",
              "1          ALASKA          3589000\n",
              "2  AMERICAN SAMOA         50137000\n",
              "3         ARIZONA         67453000\n",
              "4        ARKANSAS         19823000"
            ]
          },
          "metadata": {
            "tags": []
          },
          "execution_count": 12
        }
      ]
    },
    {
      "cell_type": "code",
      "metadata": {
        "id": "DN57SAvk13jg",
        "colab_type": "code",
        "outputId": "800103b2-7e32-4520-bcee-9a00025acb1d",
        "colab": {
          "base_uri": "https://localhost:8080/",
          "height": 51
        }
      },
      "source": [
        "print(df2018[df2018['STATE'].str.match('TEXAS')])"
      ],
      "execution_count": 13,
      "outputs": [
        {
          "output_type": "stream",
          "text": [
            "    STATE  DAMAGE_PROPERTY\n",
            "58  TEXAS        338081250\n"
          ],
          "name": "stdout"
        }
      ]
    },
    {
      "cell_type": "markdown",
      "metadata": {
        "id": "lXpzyLWuylyC",
        "colab_type": "text"
      },
      "source": [
        "**Plots**"
      ]
    },
    {
      "cell_type": "code",
      "metadata": {
        "id": "rhVvsid2yoJB",
        "colab_type": "code",
        "outputId": "16c3d10b-fc3e-48e7-855a-302767be1bce",
        "colab": {
          "base_uri": "https://localhost:8080/",
          "height": 419
        }
      },
      "source": [
        "df2018.sort_values(by='DAMAGE_PROPERTY', ascending=True)"
      ],
      "execution_count": 14,
      "outputs": [
        {
          "output_type": "execute_result",
          "data": {
            "text/html": [
              "<div>\n",
              "<style scoped>\n",
              "    .dataframe tbody tr th:only-of-type {\n",
              "        vertical-align: middle;\n",
              "    }\n",
              "\n",
              "    .dataframe tbody tr th {\n",
              "        vertical-align: top;\n",
              "    }\n",
              "\n",
              "    .dataframe thead th {\n",
              "        text-align: right;\n",
              "    }\n",
              "</style>\n",
              "<table border=\"1\" class=\"dataframe\">\n",
              "  <thead>\n",
              "    <tr style=\"text-align: right;\">\n",
              "      <th></th>\n",
              "      <th>STATE</th>\n",
              "      <th>DAMAGE_PROPERTY</th>\n",
              "    </tr>\n",
              "  </thead>\n",
              "  <tbody>\n",
              "    <tr>\n",
              "      <th>25</th>\n",
              "      <td>LAKE ERIE</td>\n",
              "      <td>0</td>\n",
              "    </tr>\n",
              "    <tr>\n",
              "      <th>18</th>\n",
              "      <td>HAWAII WATERS</td>\n",
              "      <td>0</td>\n",
              "    </tr>\n",
              "    <tr>\n",
              "      <th>61</th>\n",
              "      <td>VIRGIN ISLANDS</td>\n",
              "      <td>0</td>\n",
              "    </tr>\n",
              "    <tr>\n",
              "      <th>6</th>\n",
              "      <td>ATLANTIC SOUTH</td>\n",
              "      <td>0</td>\n",
              "    </tr>\n",
              "    <tr>\n",
              "      <th>56</th>\n",
              "      <td>ST LAWRENCE R</td>\n",
              "      <td>0</td>\n",
              "    </tr>\n",
              "    <tr>\n",
              "      <th>...</th>\n",
              "      <td>...</td>\n",
              "      <td>...</td>\n",
              "    </tr>\n",
              "    <tr>\n",
              "      <th>8</th>\n",
              "      <td>COLORADO</td>\n",
              "      <td>669220000</td>\n",
              "    </tr>\n",
              "    <tr>\n",
              "      <th>14</th>\n",
              "      <td>GEORGIA</td>\n",
              "      <td>1545984010</td>\n",
              "    </tr>\n",
              "    <tr>\n",
              "      <th>46</th>\n",
              "      <td>NORTH CAROLINA</td>\n",
              "      <td>2024526458</td>\n",
              "    </tr>\n",
              "    <tr>\n",
              "      <th>13</th>\n",
              "      <td>FLORIDA</td>\n",
              "      <td>4209301160</td>\n",
              "    </tr>\n",
              "    <tr>\n",
              "      <th>7</th>\n",
              "      <td>CALIFORNIA</td>\n",
              "      <td>19235667900</td>\n",
              "    </tr>\n",
              "  </tbody>\n",
              "</table>\n",
              "<p>67 rows × 2 columns</p>\n",
              "</div>"
            ],
            "text/plain": [
              "             STATE  DAMAGE_PROPERTY\n",
              "25       LAKE ERIE                0\n",
              "18   HAWAII WATERS                0\n",
              "61  VIRGIN ISLANDS                0\n",
              "6   ATLANTIC SOUTH                0\n",
              "56   ST LAWRENCE R                0\n",
              "..             ...              ...\n",
              "8         COLORADO        669220000\n",
              "14         GEORGIA       1545984010\n",
              "46  NORTH CAROLINA       2024526458\n",
              "13         FLORIDA       4209301160\n",
              "7       CALIFORNIA      19235667900\n",
              "\n",
              "[67 rows x 2 columns]"
            ]
          },
          "metadata": {
            "tags": []
          },
          "execution_count": 14
        }
      ]
    },
    {
      "cell_type": "code",
      "metadata": {
        "id": "sooc2C_KyrvY",
        "colab_type": "code",
        "colab": {}
      },
      "source": [
        "df2018['STATE']=df2018['STATE'].str.capitalize()"
      ],
      "execution_count": 0,
      "outputs": []
    },
    {
      "cell_type": "code",
      "metadata": {
        "id": "qcnJqZMDyxhx",
        "colab_type": "code",
        "colab": {}
      },
      "source": [
        "df2018['STATE'] = df2018['STATE'].replace({'Alaska':'AK',\n",
        "        'Alabama':'AL',\n",
        "        'Arkansas':'AR',\n",
        "        'American Samoa':'AS',\n",
        "        'Arizona':'AZ',\n",
        "        'California':'CA',\n",
        "        'Colorado':'CO',\n",
        "        'Connecticut':'CT',\n",
        "        'District of columbia':'DC',\n",
        "        'Delaware':'DE',\n",
        "        'Florida':'FL',\n",
        "        'Georgia':'GA',\n",
        "        'Guam':'GU',\n",
        "        'Hawaii':'HI',\n",
        "        'Iowa':'IA',\n",
        "        'Idaho':'ID',\n",
        "         'Illinois':'IL',\n",
        "        'Indiana':'IN',\n",
        "        'Kansas':'KS',\n",
        "        'Kentucky':'KY',\n",
        "        'Louisiana':'LA',\n",
        "        'Massachusetts':'MA',\n",
        "        'Maryland':'MD',\n",
        "        'Maine':'ME',\n",
        "        'Michigan':'MI',\n",
        "        'Minnesota':'MN',\n",
        "        'Missouri':'MO',\n",
        "        'Northern mariana islands':'MP',\n",
        "        'Mississippi':'MS',\n",
        "        'Montana':'MT',\n",
        "        'National':'NA',\n",
        "        'North carolina':'NC',\n",
        "        'North dakota':'ND',\n",
        "        'Nebraska':'NE',\n",
        "        'New hampshire':'NH',\n",
        "        'New jersey':'NJ',\n",
        "        'New mexico':'NM',\n",
        "        'Nevada':'NV',\n",
        "        'New york':'NY',\n",
        "        'Ohio':'OH',\n",
        "        'Oklahoma':'OK',\n",
        "        'Oregon':'OR',\n",
        "        'Pennsylvania':'PA',\n",
        "        'Puerto rico':'PR',\n",
        "        'Rhode island':'RI',\n",
        "        'South carolina':'SC',\n",
        "        'South dakota':'SD',\n",
        "        'Tennessee':'TN',\n",
        "        'Texas':'TX',\n",
        "        'Utah':'UT',\n",
        "        'Virginia':'VA',\n",
        "        'Virgin islands':'VI',\n",
        "        'Vermont':'VT',\n",
        "        'Washington':'WA',\n",
        "        'Wisconsin':'WI',\n",
        "        'West virginia':'WV',\n",
        "        'Wyoming':'WY'}, regex=True)"
      ],
      "execution_count": 0,
      "outputs": []
    },
    {
      "cell_type": "code",
      "metadata": {
        "id": "GuH4IZPMy5ra",
        "colab_type": "code",
        "outputId": "64b947d8-f60e-49d7-fd81-fc944efef150",
        "colab": {
          "base_uri": "https://localhost:8080/",
          "height": 204
        }
      },
      "source": [
        "df2018.head()"
      ],
      "execution_count": 17,
      "outputs": [
        {
          "output_type": "execute_result",
          "data": {
            "text/html": [
              "<div>\n",
              "<style scoped>\n",
              "    .dataframe tbody tr th:only-of-type {\n",
              "        vertical-align: middle;\n",
              "    }\n",
              "\n",
              "    .dataframe tbody tr th {\n",
              "        vertical-align: top;\n",
              "    }\n",
              "\n",
              "    .dataframe thead th {\n",
              "        text-align: right;\n",
              "    }\n",
              "</style>\n",
              "<table border=\"1\" class=\"dataframe\">\n",
              "  <thead>\n",
              "    <tr style=\"text-align: right;\">\n",
              "      <th></th>\n",
              "      <th>STATE</th>\n",
              "      <th>DAMAGE_PROPERTY</th>\n",
              "    </tr>\n",
              "  </thead>\n",
              "  <tbody>\n",
              "    <tr>\n",
              "      <th>0</th>\n",
              "      <td>AL</td>\n",
              "      <td>8340450</td>\n",
              "    </tr>\n",
              "    <tr>\n",
              "      <th>1</th>\n",
              "      <td>AK</td>\n",
              "      <td>3589000</td>\n",
              "    </tr>\n",
              "    <tr>\n",
              "      <th>2</th>\n",
              "      <td>American samoa</td>\n",
              "      <td>50137000</td>\n",
              "    </tr>\n",
              "    <tr>\n",
              "      <th>3</th>\n",
              "      <td>AZ</td>\n",
              "      <td>67453000</td>\n",
              "    </tr>\n",
              "    <tr>\n",
              "      <th>4</th>\n",
              "      <td>AR</td>\n",
              "      <td>19823000</td>\n",
              "    </tr>\n",
              "  </tbody>\n",
              "</table>\n",
              "</div>"
            ],
            "text/plain": [
              "            STATE  DAMAGE_PROPERTY\n",
              "0              AL          8340450\n",
              "1              AK          3589000\n",
              "2  American samoa         50137000\n",
              "3              AZ         67453000\n",
              "4              AR         19823000"
            ]
          },
          "metadata": {
            "tags": []
          },
          "execution_count": 17
        }
      ]
    },
    {
      "cell_type": "code",
      "metadata": {
        "id": "KNNzMnfn2MPd",
        "colab_type": "code",
        "outputId": "47decdf0-bbf1-4dbe-83e3-ab3217f06766",
        "colab": {
          "base_uri": "https://localhost:8080/",
          "height": 51
        }
      },
      "source": [
        "print(df2018[df2018['STATE'].str.match('TX')])"
      ],
      "execution_count": 18,
      "outputs": [
        {
          "output_type": "stream",
          "text": [
            "   STATE  DAMAGE_PROPERTY\n",
            "58    TX        338081250\n"
          ],
          "name": "stdout"
        }
      ]
    },
    {
      "cell_type": "code",
      "metadata": {
        "id": "Rt6y_M6my97E",
        "colab_type": "code",
        "colab": {}
      },
      "source": [
        "mycolumn='DAMAGE_PROPERTY'\n",
        "myheading1 = f\"Wow! That's a lot of {mycolumn}!\"\n",
        "mygraphtitle = '2018 US Storm Damage Cost by State'\n",
        "mycolorscale = 'ylorrd' # Note: The error message will list possible color scales.\n",
        "mycolorbartitle = \"USD Currency\""
      ],
      "execution_count": 0,
      "outputs": []
    },
    {
      "cell_type": "code",
      "metadata": {
        "id": "EgytijtIzIiS",
        "colab_type": "code",
        "outputId": "95ad16bf-e73e-4be7-eecd-7f3119e900f3",
        "colab": {
          "base_uri": "https://localhost:8080/",
          "height": 817
        }
      },
      "source": [
        "fig = go.Figure(data=go.Choropleth(\n",
        "    locations=df2018['STATE'], # Spatial coordinates\n",
        "    z = df2018[mycolumn].astype(float), # Data to be color-coded\n",
        "    locationmode = 'USA-states', # set of locations match entries in `locations`\n",
        "    colorscale = mycolorscale,\n",
        "    colorbar_title = mycolorbartitle,\n",
        "))\n",
        "\n",
        "fig.update_layout(\n",
        "    title_text = mygraphtitle,\n",
        "    geo_scope='usa',\n",
        "    width=1200,\n",
        "    height=800\n",
        ")\n",
        "fig.show()"
      ],
      "execution_count": 20,
      "outputs": [
        {
          "output_type": "display_data",
          "data": {
            "text/html": [
              "<html>\n",
              "<head><meta charset=\"utf-8\" /></head>\n",
              "<body>\n",
              "    <div>\n",
              "            <script src=\"https://cdnjs.cloudflare.com/ajax/libs/mathjax/2.7.5/MathJax.js?config=TeX-AMS-MML_SVG\"></script><script type=\"text/javascript\">if (window.MathJax) {MathJax.Hub.Config({SVG: {font: \"STIX-Web\"}});}</script>\n",
              "                <script type=\"text/javascript\">window.PlotlyConfig = {MathJaxConfig: 'local'};</script>\n",
              "        <script src=\"https://cdn.plot.ly/plotly-latest.min.js\"></script>    \n",
              "            <div id=\"efb90476-900c-49f9-a972-1033d675e7a6\" class=\"plotly-graph-div\" style=\"height:800px; width:1200px;\"></div>\n",
              "            <script type=\"text/javascript\">\n",
              "                \n",
              "                    window.PLOTLYENV=window.PLOTLYENV || {};\n",
              "                    \n",
              "                if (document.getElementById(\"efb90476-900c-49f9-a972-1033d675e7a6\")) {\n",
              "                    Plotly.newPlot(\n",
              "                        'efb90476-900c-49f9-a972-1033d675e7a6',\n",
              "                        [{\"colorbar\": {\"title\": {\"text\": \"USD Currency\"}}, \"colorscale\": [[0.0, \"rgb(255,255,204)\"], [0.125, \"rgb(255,237,160)\"], [0.25, \"rgb(254,217,118)\"], [0.375, \"rgb(254,178,76)\"], [0.5, \"rgb(253,141,60)\"], [0.625, \"rgb(252,78,42)\"], [0.75, \"rgb(227,26,28)\"], [0.875, \"rgb(189,0,38)\"], [1.0, \"rgb(128,0,38)\"]], \"locationmode\": \"USA-states\", \"locations\": [\"AL\", \"AK\", \"American samoa\", \"AZ\", \"AR\", \"Atlantic north\", \"Atlantic south\", \"CA\", \"CO\", \"CT\", \"DE\", \"DC\", \"E pacific\", \"FL\", \"GA\", \"GU\", \"Gulf of mexico\", \"HI\", \"HI waters\", \"ID\", \"IL\", \"IN\", \"IA\", \"KS\", \"KY\", \"Lake erie\", \"Lake huron\", \"Lake michigan\", \"Lake ontario\", \"Lake st clair\", \"Lake superior\", \"LA\", \"ME\", \"MD\", \"MA\", \"MI\", \"MN\", \"MS\", \"MO\", \"MT\", \"NE\", \"NV\", \"NH\", \"NJ\", \"NM\", \"NY\", \"NC\", \"ND\", \"OH\", \"OK\", \"OR\", \"PA\", \"PR\", \"RI\", \"SC\", \"SD\", \"St lawrence r\", \"TN\", \"TX\", \"UT\", \"VT\", \"VI\", \"VA\", \"WA\", \"WV\", \"WI\", \"WY\"], \"type\": \"choropleth\", \"z\": [8340450.0, 3589000.0, 50137000.0, 67453000.0, 19823000.0, 4000.0, 0.0, 19235667900.0, 669220000.0, 7944600.0, 0.0, 3000.0, 100000.0, 4209301160.0, 1545984010.0, 7700000.0, 29000.0, 28445000.0, 0.0, 43245850.0, 143710000.0, 14940500.0, 346347000.0, 37156300.0, 30164550.0, 0.0, 0.0, 15000.0, 0.0, 0.0, 0.0, 18184000.0, 7660000.0, 72336600.0, 9568000.0, 201517500.0, 44738000.0, 28399200.0, 9264000.0, 10593000.0, 21799500.0, 16759000.0, 3445000.0, 4142000.0, 8105000.0, 14544250.0, 2024526458.0, 25106000.0, 15891050.0, 4675000.0, 1231200.0, 30648500.0, 9500.0, 1153000.0, 5914550.0, 5179000.0, 0.0, 21365200.0, 338081250.0, 55025000.0, 5054000.0, 0.0, 93634598.0, 141834760.0, 6733000.0, 181952659.0, 10196000.0]}],\n",
              "                        {\"geo\": {\"scope\": \"usa\"}, \"height\": 800, \"template\": {\"data\": {\"bar\": [{\"error_x\": {\"color\": \"#2a3f5f\"}, \"error_y\": {\"color\": \"#2a3f5f\"}, \"marker\": {\"line\": {\"color\": \"#E5ECF6\", \"width\": 0.5}}, \"type\": \"bar\"}], \"barpolar\": [{\"marker\": {\"line\": {\"color\": \"#E5ECF6\", \"width\": 0.5}}, \"type\": \"barpolar\"}], \"carpet\": [{\"aaxis\": {\"endlinecolor\": \"#2a3f5f\", \"gridcolor\": \"white\", \"linecolor\": \"white\", \"minorgridcolor\": \"white\", \"startlinecolor\": \"#2a3f5f\"}, \"baxis\": {\"endlinecolor\": \"#2a3f5f\", \"gridcolor\": \"white\", \"linecolor\": \"white\", \"minorgridcolor\": \"white\", \"startlinecolor\": \"#2a3f5f\"}, \"type\": \"carpet\"}], \"choropleth\": [{\"colorbar\": {\"outlinewidth\": 0, \"ticks\": \"\"}, \"type\": \"choropleth\"}], \"contour\": [{\"colorbar\": {\"outlinewidth\": 0, \"ticks\": \"\"}, \"colorscale\": [[0.0, \"#0d0887\"], [0.1111111111111111, \"#46039f\"], [0.2222222222222222, \"#7201a8\"], [0.3333333333333333, \"#9c179e\"], [0.4444444444444444, \"#bd3786\"], [0.5555555555555556, \"#d8576b\"], [0.6666666666666666, \"#ed7953\"], [0.7777777777777778, \"#fb9f3a\"], [0.8888888888888888, \"#fdca26\"], [1.0, \"#f0f921\"]], \"type\": \"contour\"}], \"contourcarpet\": [{\"colorbar\": {\"outlinewidth\": 0, \"ticks\": \"\"}, \"type\": \"contourcarpet\"}], \"heatmap\": [{\"colorbar\": {\"outlinewidth\": 0, \"ticks\": \"\"}, \"colorscale\": [[0.0, \"#0d0887\"], [0.1111111111111111, \"#46039f\"], [0.2222222222222222, \"#7201a8\"], [0.3333333333333333, \"#9c179e\"], [0.4444444444444444, \"#bd3786\"], [0.5555555555555556, \"#d8576b\"], [0.6666666666666666, \"#ed7953\"], [0.7777777777777778, \"#fb9f3a\"], [0.8888888888888888, \"#fdca26\"], [1.0, \"#f0f921\"]], \"type\": \"heatmap\"}], \"heatmapgl\": [{\"colorbar\": {\"outlinewidth\": 0, \"ticks\": \"\"}, \"colorscale\": [[0.0, \"#0d0887\"], [0.1111111111111111, \"#46039f\"], [0.2222222222222222, \"#7201a8\"], [0.3333333333333333, \"#9c179e\"], [0.4444444444444444, \"#bd3786\"], [0.5555555555555556, \"#d8576b\"], [0.6666666666666666, \"#ed7953\"], [0.7777777777777778, \"#fb9f3a\"], [0.8888888888888888, \"#fdca26\"], [1.0, \"#f0f921\"]], \"type\": \"heatmapgl\"}], \"histogram\": [{\"marker\": {\"colorbar\": {\"outlinewidth\": 0, \"ticks\": \"\"}}, \"type\": \"histogram\"}], \"histogram2d\": [{\"colorbar\": {\"outlinewidth\": 0, \"ticks\": \"\"}, \"colorscale\": [[0.0, \"#0d0887\"], [0.1111111111111111, \"#46039f\"], [0.2222222222222222, \"#7201a8\"], [0.3333333333333333, \"#9c179e\"], [0.4444444444444444, \"#bd3786\"], [0.5555555555555556, \"#d8576b\"], [0.6666666666666666, \"#ed7953\"], [0.7777777777777778, \"#fb9f3a\"], [0.8888888888888888, \"#fdca26\"], [1.0, \"#f0f921\"]], \"type\": \"histogram2d\"}], \"histogram2dcontour\": [{\"colorbar\": {\"outlinewidth\": 0, \"ticks\": \"\"}, \"colorscale\": [[0.0, \"#0d0887\"], [0.1111111111111111, \"#46039f\"], [0.2222222222222222, \"#7201a8\"], [0.3333333333333333, \"#9c179e\"], [0.4444444444444444, \"#bd3786\"], [0.5555555555555556, \"#d8576b\"], [0.6666666666666666, \"#ed7953\"], [0.7777777777777778, \"#fb9f3a\"], [0.8888888888888888, \"#fdca26\"], [1.0, \"#f0f921\"]], \"type\": \"histogram2dcontour\"}], \"mesh3d\": [{\"colorbar\": {\"outlinewidth\": 0, \"ticks\": \"\"}, \"type\": \"mesh3d\"}], \"parcoords\": [{\"line\": {\"colorbar\": {\"outlinewidth\": 0, \"ticks\": \"\"}}, \"type\": \"parcoords\"}], \"pie\": [{\"automargin\": true, \"type\": \"pie\"}], \"scatter\": [{\"marker\": {\"colorbar\": {\"outlinewidth\": 0, \"ticks\": \"\"}}, \"type\": \"scatter\"}], \"scatter3d\": [{\"line\": {\"colorbar\": {\"outlinewidth\": 0, \"ticks\": \"\"}}, \"marker\": {\"colorbar\": {\"outlinewidth\": 0, \"ticks\": \"\"}}, \"type\": \"scatter3d\"}], \"scattercarpet\": [{\"marker\": {\"colorbar\": {\"outlinewidth\": 0, \"ticks\": \"\"}}, \"type\": \"scattercarpet\"}], \"scattergeo\": [{\"marker\": {\"colorbar\": {\"outlinewidth\": 0, \"ticks\": \"\"}}, \"type\": \"scattergeo\"}], \"scattergl\": [{\"marker\": {\"colorbar\": {\"outlinewidth\": 0, \"ticks\": \"\"}}, \"type\": \"scattergl\"}], \"scattermapbox\": [{\"marker\": {\"colorbar\": {\"outlinewidth\": 0, \"ticks\": \"\"}}, \"type\": \"scattermapbox\"}], \"scatterpolar\": [{\"marker\": {\"colorbar\": {\"outlinewidth\": 0, \"ticks\": \"\"}}, \"type\": \"scatterpolar\"}], \"scatterpolargl\": [{\"marker\": {\"colorbar\": {\"outlinewidth\": 0, \"ticks\": \"\"}}, \"type\": \"scatterpolargl\"}], \"scatterternary\": [{\"marker\": {\"colorbar\": {\"outlinewidth\": 0, \"ticks\": \"\"}}, \"type\": \"scatterternary\"}], \"surface\": [{\"colorbar\": {\"outlinewidth\": 0, \"ticks\": \"\"}, \"colorscale\": [[0.0, \"#0d0887\"], [0.1111111111111111, \"#46039f\"], [0.2222222222222222, \"#7201a8\"], [0.3333333333333333, \"#9c179e\"], [0.4444444444444444, \"#bd3786\"], [0.5555555555555556, \"#d8576b\"], [0.6666666666666666, \"#ed7953\"], [0.7777777777777778, \"#fb9f3a\"], [0.8888888888888888, \"#fdca26\"], [1.0, \"#f0f921\"]], \"type\": \"surface\"}], \"table\": [{\"cells\": {\"fill\": {\"color\": \"#EBF0F8\"}, \"line\": {\"color\": \"white\"}}, \"header\": {\"fill\": {\"color\": \"#C8D4E3\"}, \"line\": {\"color\": \"white\"}}, \"type\": \"table\"}]}, \"layout\": {\"annotationdefaults\": {\"arrowcolor\": \"#2a3f5f\", \"arrowhead\": 0, \"arrowwidth\": 1}, \"coloraxis\": {\"colorbar\": {\"outlinewidth\": 0, \"ticks\": \"\"}}, \"colorscale\": {\"diverging\": [[0, \"#8e0152\"], [0.1, \"#c51b7d\"], [0.2, \"#de77ae\"], [0.3, \"#f1b6da\"], [0.4, \"#fde0ef\"], [0.5, \"#f7f7f7\"], [0.6, \"#e6f5d0\"], [0.7, \"#b8e186\"], [0.8, \"#7fbc41\"], [0.9, \"#4d9221\"], [1, \"#276419\"]], \"sequential\": [[0.0, \"#0d0887\"], [0.1111111111111111, \"#46039f\"], [0.2222222222222222, \"#7201a8\"], [0.3333333333333333, \"#9c179e\"], [0.4444444444444444, \"#bd3786\"], [0.5555555555555556, \"#d8576b\"], [0.6666666666666666, \"#ed7953\"], [0.7777777777777778, \"#fb9f3a\"], [0.8888888888888888, \"#fdca26\"], [1.0, \"#f0f921\"]], \"sequentialminus\": [[0.0, \"#0d0887\"], [0.1111111111111111, \"#46039f\"], [0.2222222222222222, \"#7201a8\"], [0.3333333333333333, \"#9c179e\"], [0.4444444444444444, \"#bd3786\"], [0.5555555555555556, \"#d8576b\"], [0.6666666666666666, \"#ed7953\"], [0.7777777777777778, \"#fb9f3a\"], [0.8888888888888888, \"#fdca26\"], [1.0, \"#f0f921\"]]}, \"colorway\": [\"#636efa\", \"#EF553B\", \"#00cc96\", \"#ab63fa\", \"#FFA15A\", \"#19d3f3\", \"#FF6692\", \"#B6E880\", \"#FF97FF\", \"#FECB52\"], \"font\": {\"color\": \"#2a3f5f\"}, \"geo\": {\"bgcolor\": \"white\", \"lakecolor\": \"white\", \"landcolor\": \"#E5ECF6\", \"showlakes\": true, \"showland\": true, \"subunitcolor\": \"white\"}, \"hoverlabel\": {\"align\": \"left\"}, \"hovermode\": \"closest\", \"mapbox\": {\"style\": \"light\"}, \"paper_bgcolor\": \"white\", \"plot_bgcolor\": \"#E5ECF6\", \"polar\": {\"angularaxis\": {\"gridcolor\": \"white\", \"linecolor\": \"white\", \"ticks\": \"\"}, \"bgcolor\": \"#E5ECF6\", \"radialaxis\": {\"gridcolor\": \"white\", \"linecolor\": \"white\", \"ticks\": \"\"}}, \"scene\": {\"xaxis\": {\"backgroundcolor\": \"#E5ECF6\", \"gridcolor\": \"white\", \"gridwidth\": 2, \"linecolor\": \"white\", \"showbackground\": true, \"ticks\": \"\", \"zerolinecolor\": \"white\"}, \"yaxis\": {\"backgroundcolor\": \"#E5ECF6\", \"gridcolor\": \"white\", \"gridwidth\": 2, \"linecolor\": \"white\", \"showbackground\": true, \"ticks\": \"\", \"zerolinecolor\": \"white\"}, \"zaxis\": {\"backgroundcolor\": \"#E5ECF6\", \"gridcolor\": \"white\", \"gridwidth\": 2, \"linecolor\": \"white\", \"showbackground\": true, \"ticks\": \"\", \"zerolinecolor\": \"white\"}}, \"shapedefaults\": {\"line\": {\"color\": \"#2a3f5f\"}}, \"ternary\": {\"aaxis\": {\"gridcolor\": \"white\", \"linecolor\": \"white\", \"ticks\": \"\"}, \"baxis\": {\"gridcolor\": \"white\", \"linecolor\": \"white\", \"ticks\": \"\"}, \"bgcolor\": \"#E5ECF6\", \"caxis\": {\"gridcolor\": \"white\", \"linecolor\": \"white\", \"ticks\": \"\"}}, \"title\": {\"x\": 0.05}, \"xaxis\": {\"automargin\": true, \"gridcolor\": \"white\", \"linecolor\": \"white\", \"ticks\": \"\", \"title\": {\"standoff\": 15}, \"zerolinecolor\": \"white\", \"zerolinewidth\": 2}, \"yaxis\": {\"automargin\": true, \"gridcolor\": \"white\", \"linecolor\": \"white\", \"ticks\": \"\", \"title\": {\"standoff\": 15}, \"zerolinecolor\": \"white\", \"zerolinewidth\": 2}}}, \"title\": {\"text\": \"2018 US Storm Damage Cost by State\"}, \"width\": 1200},\n",
              "                        {\"responsive\": true}\n",
              "                    ).then(function(){\n",
              "                            \n",
              "var gd = document.getElementById('efb90476-900c-49f9-a972-1033d675e7a6');\n",
              "var x = new MutationObserver(function (mutations, observer) {{\n",
              "        var display = window.getComputedStyle(gd).display;\n",
              "        if (!display || display === 'none') {{\n",
              "            console.log([gd, 'removed!']);\n",
              "            Plotly.purge(gd);\n",
              "            observer.disconnect();\n",
              "        }}\n",
              "}});\n",
              "\n",
              "// Listen for the removal of the full notebook cells\n",
              "var notebookContainer = gd.closest('#notebook-container');\n",
              "if (notebookContainer) {{\n",
              "    x.observe(notebookContainer, {childList: true});\n",
              "}}\n",
              "\n",
              "// Listen for the clearing of the current output cell\n",
              "var outputEl = gd.closest('.output');\n",
              "if (outputEl) {{\n",
              "    x.observe(outputEl, {childList: true});\n",
              "}}\n",
              "\n",
              "                        })\n",
              "                };\n",
              "                \n",
              "            </script>\n",
              "        </div>\n",
              "</body>\n",
              "</html>"
            ]
          },
          "metadata": {
            "tags": []
          }
        }
      ]
    },
    {
      "cell_type": "markdown",
      "metadata": {
        "id": "oG6zcQpcft6j",
        "colab_type": "text"
      },
      "source": [
        "# **2019**"
      ]
    },
    {
      "cell_type": "code",
      "metadata": {
        "id": "JLcipo7ep_6F",
        "colab_type": "code",
        "colab": {}
      },
      "source": [
        "Weather_url_2019 = \"https://www1.ncdc.noaa.gov/pub/data/swdi/stormevents/csvfiles/StormEvents_details-ftp_v1.0_d2019_c20200219.csv.gz\"\n",
        "#!curl https://www1.ncdc.noaa.gov/pub/data/swdi/stormevents/csvfiles/StormEvents_details-ftp_v1.0_d2019_c20200219.csv.gz"
      ],
      "execution_count": 0,
      "outputs": []
    },
    {
      "cell_type": "code",
      "metadata": {
        "id": "PAZyQRaQsHsQ",
        "colab_type": "code",
        "outputId": "a920b480-2d57-4a8c-e07e-ceaf47adc4d4",
        "colab": {
          "base_uri": "https://localhost:8080/",
          "height": 34
        }
      },
      "source": [
        "weather_data_2019 = pd.read_csv(Weather_url_2019)\n",
        "weather_data_2019.shape"
      ],
      "execution_count": 0,
      "outputs": [
        {
          "output_type": "execute_result",
          "data": {
            "text/plain": [
              "(64439, 51)"
            ]
          },
          "metadata": {
            "tags": []
          },
          "execution_count": 161
        }
      ]
    },
    {
      "cell_type": "code",
      "metadata": {
        "id": "l1oCnLWPsMVk",
        "colab_type": "code",
        "outputId": "94d6038c-c4d1-40f6-b7ae-d8e528d84d15",
        "colab": {
          "base_uri": "https://localhost:8080/",
          "height": 428
        }
      },
      "source": [
        "weather_data_2019.head()"
      ],
      "execution_count": 0,
      "outputs": [
        {
          "output_type": "execute_result",
          "data": {
            "text/html": [
              "<div>\n",
              "<style scoped>\n",
              "    .dataframe tbody tr th:only-of-type {\n",
              "        vertical-align: middle;\n",
              "    }\n",
              "\n",
              "    .dataframe tbody tr th {\n",
              "        vertical-align: top;\n",
              "    }\n",
              "\n",
              "    .dataframe thead th {\n",
              "        text-align: right;\n",
              "    }\n",
              "</style>\n",
              "<table border=\"1\" class=\"dataframe\">\n",
              "  <thead>\n",
              "    <tr style=\"text-align: right;\">\n",
              "      <th></th>\n",
              "      <th>BEGIN_YEARMONTH</th>\n",
              "      <th>BEGIN_DAY</th>\n",
              "      <th>BEGIN_TIME</th>\n",
              "      <th>END_YEARMONTH</th>\n",
              "      <th>END_DAY</th>\n",
              "      <th>END_TIME</th>\n",
              "      <th>EPISODE_ID</th>\n",
              "      <th>EVENT_ID</th>\n",
              "      <th>STATE</th>\n",
              "      <th>STATE_FIPS</th>\n",
              "      <th>YEAR</th>\n",
              "      <th>MONTH_NAME</th>\n",
              "      <th>EVENT_TYPE</th>\n",
              "      <th>CZ_TYPE</th>\n",
              "      <th>CZ_FIPS</th>\n",
              "      <th>CZ_NAME</th>\n",
              "      <th>WFO</th>\n",
              "      <th>BEGIN_DATE_TIME</th>\n",
              "      <th>CZ_TIMEZONE</th>\n",
              "      <th>END_DATE_TIME</th>\n",
              "      <th>INJURIES_DIRECT</th>\n",
              "      <th>INJURIES_INDIRECT</th>\n",
              "      <th>DEATHS_DIRECT</th>\n",
              "      <th>DEATHS_INDIRECT</th>\n",
              "      <th>DAMAGE_PROPERTY</th>\n",
              "      <th>DAMAGE_CROPS</th>\n",
              "      <th>SOURCE</th>\n",
              "      <th>MAGNITUDE</th>\n",
              "      <th>MAGNITUDE_TYPE</th>\n",
              "      <th>FLOOD_CAUSE</th>\n",
              "      <th>CATEGORY</th>\n",
              "      <th>TOR_F_SCALE</th>\n",
              "      <th>TOR_LENGTH</th>\n",
              "      <th>TOR_WIDTH</th>\n",
              "      <th>TOR_OTHER_WFO</th>\n",
              "      <th>TOR_OTHER_CZ_STATE</th>\n",
              "      <th>TOR_OTHER_CZ_FIPS</th>\n",
              "      <th>TOR_OTHER_CZ_NAME</th>\n",
              "      <th>BEGIN_RANGE</th>\n",
              "      <th>BEGIN_AZIMUTH</th>\n",
              "      <th>BEGIN_LOCATION</th>\n",
              "      <th>END_RANGE</th>\n",
              "      <th>END_AZIMUTH</th>\n",
              "      <th>END_LOCATION</th>\n",
              "      <th>BEGIN_LAT</th>\n",
              "      <th>BEGIN_LON</th>\n",
              "      <th>END_LAT</th>\n",
              "      <th>END_LON</th>\n",
              "      <th>EPISODE_NARRATIVE</th>\n",
              "      <th>EVENT_NARRATIVE</th>\n",
              "      <th>DATA_SOURCE</th>\n",
              "    </tr>\n",
              "  </thead>\n",
              "  <tbody>\n",
              "    <tr>\n",
              "      <th>0</th>\n",
              "      <td>201905</td>\n",
              "      <td>9</td>\n",
              "      <td>1554</td>\n",
              "      <td>201905</td>\n",
              "      <td>9</td>\n",
              "      <td>1830</td>\n",
              "      <td>137295</td>\n",
              "      <td>824116</td>\n",
              "      <td>TEXAS</td>\n",
              "      <td>48</td>\n",
              "      <td>2019</td>\n",
              "      <td>May</td>\n",
              "      <td>Flash Flood</td>\n",
              "      <td>C</td>\n",
              "      <td>29</td>\n",
              "      <td>BEXAR</td>\n",
              "      <td>EWX</td>\n",
              "      <td>09-MAY-19 15:54:00</td>\n",
              "      <td>CST-6</td>\n",
              "      <td>09-MAY-19 18:30:00</td>\n",
              "      <td>0</td>\n",
              "      <td>0</td>\n",
              "      <td>0</td>\n",
              "      <td>0</td>\n",
              "      <td>0.00K</td>\n",
              "      <td>0.00K</td>\n",
              "      <td>Law Enforcement</td>\n",
              "      <td>NaN</td>\n",
              "      <td>NaN</td>\n",
              "      <td>Heavy Rain</td>\n",
              "      <td>NaN</td>\n",
              "      <td>NaN</td>\n",
              "      <td>NaN</td>\n",
              "      <td>NaN</td>\n",
              "      <td>NaN</td>\n",
              "      <td>NaN</td>\n",
              "      <td>NaN</td>\n",
              "      <td>NaN</td>\n",
              "      <td>8.0</td>\n",
              "      <td>N</td>\n",
              "      <td>LEON SPGS</td>\n",
              "      <td>7.0</td>\n",
              "      <td>NNE</td>\n",
              "      <td>SAN GERONIMO</td>\n",
              "      <td>29.7898</td>\n",
              "      <td>-98.6406</td>\n",
              "      <td>29.7158</td>\n",
              "      <td>-98.7744</td>\n",
              "      <td>Thunderstorms developed along a cold front as ...</td>\n",
              "      <td>Thunderstorms produced heavy rain that led to ...</td>\n",
              "      <td>CSV</td>\n",
              "    </tr>\n",
              "    <tr>\n",
              "      <th>1</th>\n",
              "      <td>201907</td>\n",
              "      <td>15</td>\n",
              "      <td>1640</td>\n",
              "      <td>201907</td>\n",
              "      <td>15</td>\n",
              "      <td>1641</td>\n",
              "      <td>140217</td>\n",
              "      <td>843354</td>\n",
              "      <td>MINNESOTA</td>\n",
              "      <td>27</td>\n",
              "      <td>2019</td>\n",
              "      <td>July</td>\n",
              "      <td>Thunderstorm Wind</td>\n",
              "      <td>C</td>\n",
              "      <td>115</td>\n",
              "      <td>PINE</td>\n",
              "      <td>DLH</td>\n",
              "      <td>15-JUL-19 16:40:00</td>\n",
              "      <td>CST-6</td>\n",
              "      <td>15-JUL-19 16:41:00</td>\n",
              "      <td>0</td>\n",
              "      <td>0</td>\n",
              "      <td>0</td>\n",
              "      <td>0</td>\n",
              "      <td>0.00K</td>\n",
              "      <td>0.00K</td>\n",
              "      <td>Trained Spotter</td>\n",
              "      <td>50.0</td>\n",
              "      <td>EG</td>\n",
              "      <td>NaN</td>\n",
              "      <td>NaN</td>\n",
              "      <td>NaN</td>\n",
              "      <td>NaN</td>\n",
              "      <td>NaN</td>\n",
              "      <td>NaN</td>\n",
              "      <td>NaN</td>\n",
              "      <td>NaN</td>\n",
              "      <td>NaN</td>\n",
              "      <td>5.0</td>\n",
              "      <td>E</td>\n",
              "      <td>ROCK CREEK</td>\n",
              "      <td>5.0</td>\n",
              "      <td>E</td>\n",
              "      <td>ROCK CREEK</td>\n",
              "      <td>45.7700</td>\n",
              "      <td>-92.8700</td>\n",
              "      <td>45.7700</td>\n",
              "      <td>-92.8700</td>\n",
              "      <td>An area of low pressure over southern Manitoba...</td>\n",
              "      <td>A 14-inch tree fell due to the winds and damag...</td>\n",
              "      <td>CSV</td>\n",
              "    </tr>\n",
              "    <tr>\n",
              "      <th>2</th>\n",
              "      <td>201910</td>\n",
              "      <td>20</td>\n",
              "      <td>2223</td>\n",
              "      <td>201910</td>\n",
              "      <td>20</td>\n",
              "      <td>2223</td>\n",
              "      <td>142648</td>\n",
              "      <td>861581</td>\n",
              "      <td>TEXAS</td>\n",
              "      <td>48</td>\n",
              "      <td>2019</td>\n",
              "      <td>October</td>\n",
              "      <td>Thunderstorm Wind</td>\n",
              "      <td>C</td>\n",
              "      <td>467</td>\n",
              "      <td>VAN ZANDT</td>\n",
              "      <td>FWD</td>\n",
              "      <td>20-OCT-19 22:23:00</td>\n",
              "      <td>CST-6</td>\n",
              "      <td>20-OCT-19 22:23:00</td>\n",
              "      <td>0</td>\n",
              "      <td>0</td>\n",
              "      <td>0</td>\n",
              "      <td>0</td>\n",
              "      <td>0.00K</td>\n",
              "      <td>0.00K</td>\n",
              "      <td>Trained Spotter</td>\n",
              "      <td>58.0</td>\n",
              "      <td>MG</td>\n",
              "      <td>NaN</td>\n",
              "      <td>NaN</td>\n",
              "      <td>NaN</td>\n",
              "      <td>NaN</td>\n",
              "      <td>NaN</td>\n",
              "      <td>NaN</td>\n",
              "      <td>NaN</td>\n",
              "      <td>NaN</td>\n",
              "      <td>NaN</td>\n",
              "      <td>1.0</td>\n",
              "      <td>N</td>\n",
              "      <td>EDGEWOOD</td>\n",
              "      <td>1.0</td>\n",
              "      <td>N</td>\n",
              "      <td>EDGEWOOD</td>\n",
              "      <td>32.7100</td>\n",
              "      <td>-95.8800</td>\n",
              "      <td>32.7100</td>\n",
              "      <td>-95.8800</td>\n",
              "      <td>Thunderstorms erupted across the DFW Metroplex...</td>\n",
              "      <td>A trained spotter measured a wind gust of 67 M...</td>\n",
              "      <td>CSV</td>\n",
              "    </tr>\n",
              "    <tr>\n",
              "      <th>3</th>\n",
              "      <td>201910</td>\n",
              "      <td>20</td>\n",
              "      <td>2312</td>\n",
              "      <td>201910</td>\n",
              "      <td>20</td>\n",
              "      <td>2312</td>\n",
              "      <td>142648</td>\n",
              "      <td>861584</td>\n",
              "      <td>TEXAS</td>\n",
              "      <td>48</td>\n",
              "      <td>2019</td>\n",
              "      <td>October</td>\n",
              "      <td>Thunderstorm Wind</td>\n",
              "      <td>C</td>\n",
              "      <td>439</td>\n",
              "      <td>TARRANT</td>\n",
              "      <td>FWD</td>\n",
              "      <td>20-OCT-19 23:12:00</td>\n",
              "      <td>CST-6</td>\n",
              "      <td>20-OCT-19 23:12:00</td>\n",
              "      <td>0</td>\n",
              "      <td>0</td>\n",
              "      <td>0</td>\n",
              "      <td>0</td>\n",
              "      <td>0.00K</td>\n",
              "      <td>0.00K</td>\n",
              "      <td>Law Enforcement</td>\n",
              "      <td>56.0</td>\n",
              "      <td>MG</td>\n",
              "      <td>NaN</td>\n",
              "      <td>NaN</td>\n",
              "      <td>NaN</td>\n",
              "      <td>NaN</td>\n",
              "      <td>NaN</td>\n",
              "      <td>NaN</td>\n",
              "      <td>NaN</td>\n",
              "      <td>NaN</td>\n",
              "      <td>NaN</td>\n",
              "      <td>5.0</td>\n",
              "      <td>WSW</td>\n",
              "      <td>AZLE</td>\n",
              "      <td>5.0</td>\n",
              "      <td>WSW</td>\n",
              "      <td>AZLE</td>\n",
              "      <td>32.8700</td>\n",
              "      <td>-97.6100</td>\n",
              "      <td>32.8700</td>\n",
              "      <td>-97.6100</td>\n",
              "      <td>Thunderstorms erupted across the DFW Metroplex...</td>\n",
              "      <td>The local police department reported a wind gu...</td>\n",
              "      <td>CSV</td>\n",
              "    </tr>\n",
              "    <tr>\n",
              "      <th>4</th>\n",
              "      <td>201910</td>\n",
              "      <td>20</td>\n",
              "      <td>2236</td>\n",
              "      <td>201910</td>\n",
              "      <td>20</td>\n",
              "      <td>2236</td>\n",
              "      <td>142648</td>\n",
              "      <td>861582</td>\n",
              "      <td>TEXAS</td>\n",
              "      <td>48</td>\n",
              "      <td>2019</td>\n",
              "      <td>October</td>\n",
              "      <td>Thunderstorm Wind</td>\n",
              "      <td>C</td>\n",
              "      <td>363</td>\n",
              "      <td>PALO PINTO</td>\n",
              "      <td>FWD</td>\n",
              "      <td>20-OCT-19 22:36:00</td>\n",
              "      <td>CST-6</td>\n",
              "      <td>20-OCT-19 22:36:00</td>\n",
              "      <td>0</td>\n",
              "      <td>0</td>\n",
              "      <td>0</td>\n",
              "      <td>0</td>\n",
              "      <td>0.00K</td>\n",
              "      <td>0.00K</td>\n",
              "      <td>ASOS</td>\n",
              "      <td>65.0</td>\n",
              "      <td>MG</td>\n",
              "      <td>NaN</td>\n",
              "      <td>NaN</td>\n",
              "      <td>NaN</td>\n",
              "      <td>NaN</td>\n",
              "      <td>NaN</td>\n",
              "      <td>NaN</td>\n",
              "      <td>NaN</td>\n",
              "      <td>NaN</td>\n",
              "      <td>NaN</td>\n",
              "      <td>0.0</td>\n",
              "      <td>N</td>\n",
              "      <td>MINERAL WELLS</td>\n",
              "      <td>0.0</td>\n",
              "      <td>N</td>\n",
              "      <td>MINERAL WELLS</td>\n",
              "      <td>32.8000</td>\n",
              "      <td>-98.1000</td>\n",
              "      <td>32.8000</td>\n",
              "      <td>-98.1000</td>\n",
              "      <td>Thunderstorms erupted across the DFW Metroplex...</td>\n",
              "      <td>A wind gust of 75 MPH was measured by the Auto...</td>\n",
              "      <td>CSV</td>\n",
              "    </tr>\n",
              "  </tbody>\n",
              "</table>\n",
              "</div>"
            ],
            "text/plain": [
              "   BEGIN_YEARMONTH  ...  DATA_SOURCE\n",
              "0           201905  ...          CSV\n",
              "1           201907  ...          CSV\n",
              "2           201910  ...          CSV\n",
              "3           201910  ...          CSV\n",
              "4           201910  ...          CSV\n",
              "\n",
              "[5 rows x 51 columns]"
            ]
          },
          "metadata": {
            "tags": []
          },
          "execution_count": 162
        }
      ]
    },
    {
      "cell_type": "code",
      "metadata": {
        "id": "zBu04gZUsNlL",
        "colab_type": "code",
        "colab": {}
      },
      "source": [
        "dfweather_data_2019 = weather_data_2019[['STATE','DAMAGE_PROPERTY']].copy()"
      ],
      "execution_count": 0,
      "outputs": []
    },
    {
      "cell_type": "code",
      "metadata": {
        "id": "W4H78kDFsT6M",
        "colab_type": "code",
        "colab": {}
      },
      "source": [
        "#dropping NaN values\n",
        "dfweather_data_2019 = dfweather_data_2019.dropna()"
      ],
      "execution_count": 0,
      "outputs": []
    },
    {
      "cell_type": "code",
      "metadata": {
        "id": "xOl3WosqsX-y",
        "colab_type": "code",
        "colab": {}
      },
      "source": [
        "DAMAGE_PROPERTY_2019 = dfweather_data_2019['DAMAGE_PROPERTY'].replace({'K': '*1e3', 'M': '*1e6', 'B': '1e9'}, regex=True).map(pd.eval).astype(int)"
      ],
      "execution_count": 0,
      "outputs": []
    },
    {
      "cell_type": "code",
      "metadata": {
        "id": "o0C9_ELqsb2U",
        "colab_type": "code",
        "colab": {}
      },
      "source": [
        "dfweather_data_2019['DAMAGE_PROPERTY'] = DAMAGE_PROPERTY_2019"
      ],
      "execution_count": 0,
      "outputs": []
    },
    {
      "cell_type": "markdown",
      "metadata": {
        "id": "5uNrVTdd3y40",
        "colab_type": "text"
      },
      "source": [
        "**State Totals**"
      ]
    },
    {
      "cell_type": "code",
      "metadata": {
        "id": "R1CCWCws34FX",
        "colab_type": "code",
        "colab": {}
      },
      "source": [
        "#adds together the state totals\n",
        "newdf2019 = dfweather_data_2019.groupby(['STATE'], as_index=False).sum()"
      ],
      "execution_count": 0,
      "outputs": []
    },
    {
      "cell_type": "code",
      "metadata": {
        "id": "jqmbHP-Y5BQ6",
        "colab_type": "code",
        "outputId": "51063a1e-712e-41fd-8a8e-d23b1f437c08",
        "colab": {
          "base_uri": "https://localhost:8080/",
          "height": 204
        }
      },
      "source": [
        "#creates a new dataframe\n",
        "df2019 = pd.DataFrame(newdf2019)\n",
        "df2019.head()"
      ],
      "execution_count": 0,
      "outputs": [
        {
          "output_type": "execute_result",
          "data": {
            "text/html": [
              "<div>\n",
              "<style scoped>\n",
              "    .dataframe tbody tr th:only-of-type {\n",
              "        vertical-align: middle;\n",
              "    }\n",
              "\n",
              "    .dataframe tbody tr th {\n",
              "        vertical-align: top;\n",
              "    }\n",
              "\n",
              "    .dataframe thead th {\n",
              "        text-align: right;\n",
              "    }\n",
              "</style>\n",
              "<table border=\"1\" class=\"dataframe\">\n",
              "  <thead>\n",
              "    <tr style=\"text-align: right;\">\n",
              "      <th></th>\n",
              "      <th>STATE</th>\n",
              "      <th>DAMAGE_PROPERTY</th>\n",
              "    </tr>\n",
              "  </thead>\n",
              "  <tbody>\n",
              "    <tr>\n",
              "      <th>0</th>\n",
              "      <td>ALABAMA</td>\n",
              "      <td>940000</td>\n",
              "    </tr>\n",
              "    <tr>\n",
              "      <th>1</th>\n",
              "      <td>ALASKA</td>\n",
              "      <td>7333000</td>\n",
              "    </tr>\n",
              "    <tr>\n",
              "      <th>2</th>\n",
              "      <td>AMERICAN SAMOA</td>\n",
              "      <td>45000</td>\n",
              "    </tr>\n",
              "    <tr>\n",
              "      <th>3</th>\n",
              "      <td>ARIZONA</td>\n",
              "      <td>15052500</td>\n",
              "    </tr>\n",
              "    <tr>\n",
              "      <th>4</th>\n",
              "      <td>ARKANSAS</td>\n",
              "      <td>24698500</td>\n",
              "    </tr>\n",
              "  </tbody>\n",
              "</table>\n",
              "</div>"
            ],
            "text/plain": [
              "            STATE  DAMAGE_PROPERTY\n",
              "0         ALABAMA           940000\n",
              "1          ALASKA          7333000\n",
              "2  AMERICAN SAMOA            45000\n",
              "3         ARIZONA         15052500\n",
              "4        ARKANSAS         24698500"
            ]
          },
          "metadata": {
            "tags": []
          },
          "execution_count": 168
        }
      ]
    },
    {
      "cell_type": "markdown",
      "metadata": {
        "id": "DLiToj775HtI",
        "colab_type": "text"
      },
      "source": [
        "**Plots**"
      ]
    },
    {
      "cell_type": "code",
      "metadata": {
        "id": "HmEXyegg5Kyj",
        "colab_type": "code",
        "outputId": "31e3cdae-d223-4d35-ddab-403d3cc94721",
        "colab": {
          "base_uri": "https://localhost:8080/",
          "height": 419
        }
      },
      "source": [
        "df2019.sort_values(by='DAMAGE_PROPERTY', ascending=False)"
      ],
      "execution_count": 0,
      "outputs": [
        {
          "output_type": "execute_result",
          "data": {
            "text/html": [
              "<div>\n",
              "<style scoped>\n",
              "    .dataframe tbody tr th:only-of-type {\n",
              "        vertical-align: middle;\n",
              "    }\n",
              "\n",
              "    .dataframe tbody tr th {\n",
              "        vertical-align: top;\n",
              "    }\n",
              "\n",
              "    .dataframe thead th {\n",
              "        text-align: right;\n",
              "    }\n",
              "</style>\n",
              "<table border=\"1\" class=\"dataframe\">\n",
              "  <thead>\n",
              "    <tr style=\"text-align: right;\">\n",
              "      <th></th>\n",
              "      <th>STATE</th>\n",
              "      <th>DAMAGE_PROPERTY</th>\n",
              "    </tr>\n",
              "  </thead>\n",
              "  <tbody>\n",
              "    <tr>\n",
              "      <th>56</th>\n",
              "      <td>TEXAS</td>\n",
              "      <td>3093746900</td>\n",
              "    </tr>\n",
              "    <tr>\n",
              "      <th>47</th>\n",
              "      <td>OHIO</td>\n",
              "      <td>690880900</td>\n",
              "    </tr>\n",
              "    <tr>\n",
              "      <th>39</th>\n",
              "      <td>NEBRASKA</td>\n",
              "      <td>640944500</td>\n",
              "    </tr>\n",
              "    <tr>\n",
              "      <th>37</th>\n",
              "      <td>MISSOURI</td>\n",
              "      <td>222409500</td>\n",
              "    </tr>\n",
              "    <tr>\n",
              "      <th>34</th>\n",
              "      <td>MICHIGAN</td>\n",
              "      <td>202851000</td>\n",
              "    </tr>\n",
              "    <tr>\n",
              "      <th>...</th>\n",
              "      <td>...</td>\n",
              "      <td>...</td>\n",
              "    </tr>\n",
              "    <tr>\n",
              "      <th>28</th>\n",
              "      <td>LAKE ST CLAIR</td>\n",
              "      <td>0</td>\n",
              "    </tr>\n",
              "    <tr>\n",
              "      <th>27</th>\n",
              "      <td>LAKE ONTARIO</td>\n",
              "      <td>0</td>\n",
              "    </tr>\n",
              "    <tr>\n",
              "      <th>12</th>\n",
              "      <td>E PACIFIC</td>\n",
              "      <td>0</td>\n",
              "    </tr>\n",
              "    <tr>\n",
              "      <th>17</th>\n",
              "      <td>HAWAII WATERS</td>\n",
              "      <td>0</td>\n",
              "    </tr>\n",
              "    <tr>\n",
              "      <th>10</th>\n",
              "      <td>DELAWARE</td>\n",
              "      <td>0</td>\n",
              "    </tr>\n",
              "  </tbody>\n",
              "</table>\n",
              "<p>65 rows × 2 columns</p>\n",
              "</div>"
            ],
            "text/plain": [
              "            STATE  DAMAGE_PROPERTY\n",
              "56          TEXAS       3093746900\n",
              "47           OHIO        690880900\n",
              "39       NEBRASKA        640944500\n",
              "37       MISSOURI        222409500\n",
              "34       MICHIGAN        202851000\n",
              "..            ...              ...\n",
              "28  LAKE ST CLAIR                0\n",
              "27   LAKE ONTARIO                0\n",
              "12      E PACIFIC                0\n",
              "17  HAWAII WATERS                0\n",
              "10       DELAWARE                0\n",
              "\n",
              "[65 rows x 2 columns]"
            ]
          },
          "metadata": {
            "tags": []
          },
          "execution_count": 169
        }
      ]
    },
    {
      "cell_type": "code",
      "metadata": {
        "id": "vDtLZBTY5OI4",
        "colab_type": "code",
        "colab": {}
      },
      "source": [
        "df2019['STATE']=df2019['STATE'].str.capitalize()"
      ],
      "execution_count": 0,
      "outputs": []
    },
    {
      "cell_type": "code",
      "metadata": {
        "id": "tw0qkAJG5R2L",
        "colab_type": "code",
        "colab": {}
      },
      "source": [
        "df2019['STATE'] = df2019['STATE'].replace({'Alaska':'AK',\n",
        "        'Alabama':'AL',\n",
        "        'Arkansas':'AR',\n",
        "        'American Samoa':'AS',\n",
        "        'Arizona':'AZ',\n",
        "        'California':'CA',\n",
        "        'Colorado':'CO',\n",
        "        'Connecticut':'CT',\n",
        "        'District of columbia':'DC',\n",
        "        'Delaware':'DE',\n",
        "        'Florida':'FL',\n",
        "        'Georgia':'GA',\n",
        "        'Guam':'GU',\n",
        "        'Hawaii':'HI',\n",
        "        'Iowa':'IA',\n",
        "        'Idaho':'ID',\n",
        "         'Illinois':'IL',\n",
        "        'Indiana':'IN',\n",
        "        'Kansas':'KS',\n",
        "        'Kentucky':'KY',\n",
        "        'Louisiana':'LA',\n",
        "        'Massachusetts':'MA',\n",
        "        'Maryland':'MD',\n",
        "        'Maine':'ME',\n",
        "        'Michigan':'MI',\n",
        "        'Minnesota':'MN',\n",
        "        'Missouri':'MO',\n",
        "        'Northern mariana islands':'MP',\n",
        "        'Mississippi':'MS',\n",
        "        'Montana':'MT',\n",
        "        'National':'NA',\n",
        "        'North carolina':'NC',\n",
        "        'North dakota':'ND',\n",
        "        'Nebraska':'NE',\n",
        "        'New hampshire':'NH',\n",
        "        'New jersey':'NJ',\n",
        "        'New mexico':'NM',\n",
        "        'Nevada':'NV',\n",
        "        'New york':'NY',\n",
        "        'Ohio':'OH',\n",
        "        'Oklahoma':'OK',\n",
        "        'Oregon':'OR',\n",
        "        'Pennsylvania':'PA',\n",
        "        'Puerto rico':'PR',\n",
        "        'Rhode island':'RI',\n",
        "        'South carolina':'SC',\n",
        "        'South dakota':'SD',\n",
        "        'Tennessee':'TN',\n",
        "        'Texas':'TX',\n",
        "        'Utah':'UT',\n",
        "        'Virginia':'VA',\n",
        "        'Virgin islands':'VI',\n",
        "        'Vermont':'VT',\n",
        "        'Washington':'WA',\n",
        "        'Wisconsin':'WI',\n",
        "        'West virginia':'WV',\n",
        "        'Wyoming':'WY'}, regex=True)"
      ],
      "execution_count": 0,
      "outputs": []
    },
    {
      "cell_type": "code",
      "metadata": {
        "id": "xHGTfSfT5Zr6",
        "colab_type": "code",
        "outputId": "1728e430-c5bb-49ec-9553-9dd1c178d64f",
        "colab": {
          "base_uri": "https://localhost:8080/",
          "height": 204
        }
      },
      "source": [
        "df2019.head()"
      ],
      "execution_count": 0,
      "outputs": [
        {
          "output_type": "execute_result",
          "data": {
            "text/html": [
              "<div>\n",
              "<style scoped>\n",
              "    .dataframe tbody tr th:only-of-type {\n",
              "        vertical-align: middle;\n",
              "    }\n",
              "\n",
              "    .dataframe tbody tr th {\n",
              "        vertical-align: top;\n",
              "    }\n",
              "\n",
              "    .dataframe thead th {\n",
              "        text-align: right;\n",
              "    }\n",
              "</style>\n",
              "<table border=\"1\" class=\"dataframe\">\n",
              "  <thead>\n",
              "    <tr style=\"text-align: right;\">\n",
              "      <th></th>\n",
              "      <th>STATE</th>\n",
              "      <th>DAMAGE_PROPERTY</th>\n",
              "    </tr>\n",
              "  </thead>\n",
              "  <tbody>\n",
              "    <tr>\n",
              "      <th>0</th>\n",
              "      <td>AL</td>\n",
              "      <td>940000</td>\n",
              "    </tr>\n",
              "    <tr>\n",
              "      <th>1</th>\n",
              "      <td>AK</td>\n",
              "      <td>7333000</td>\n",
              "    </tr>\n",
              "    <tr>\n",
              "      <th>2</th>\n",
              "      <td>American samoa</td>\n",
              "      <td>45000</td>\n",
              "    </tr>\n",
              "    <tr>\n",
              "      <th>3</th>\n",
              "      <td>AZ</td>\n",
              "      <td>15052500</td>\n",
              "    </tr>\n",
              "    <tr>\n",
              "      <th>4</th>\n",
              "      <td>AR</td>\n",
              "      <td>24698500</td>\n",
              "    </tr>\n",
              "  </tbody>\n",
              "</table>\n",
              "</div>"
            ],
            "text/plain": [
              "            STATE  DAMAGE_PROPERTY\n",
              "0              AL           940000\n",
              "1              AK          7333000\n",
              "2  American samoa            45000\n",
              "3              AZ         15052500\n",
              "4              AR         24698500"
            ]
          },
          "metadata": {
            "tags": []
          },
          "execution_count": 172
        }
      ]
    },
    {
      "cell_type": "code",
      "metadata": {
        "id": "_CVLB8QQ5dMz",
        "colab_type": "code",
        "colab": {}
      },
      "source": [
        "mycolumn='DAMAGE_PROPERTY'\n",
        "myheading1 = f\"Wow! That's a lot of {mycolumn}!\"\n",
        "mygraphtitle = '2019 US Storm Damage Cost by State'\n",
        "mycolorscale = 'ylorrd' # Note: The error message will list possible color scales.\n",
        "mycolorbartitle = \"USD Currency\""
      ],
      "execution_count": 0,
      "outputs": []
    },
    {
      "cell_type": "code",
      "metadata": {
        "id": "xOIzfQgI5gcN",
        "colab_type": "code",
        "outputId": "daf7b727-cfc8-43ec-e686-b2fd11a4dc5b",
        "colab": {
          "base_uri": "https://localhost:8080/",
          "height": 817
        }
      },
      "source": [
        "fig = go.Figure(data=go.Choropleth(\n",
        "    locations=df2019['STATE'], # Spatial coordinates\n",
        "    z = df2019[mycolumn].astype(float), # Data to be color-coded\n",
        "    locationmode = 'USA-states', # set of locations match entries in `locations`\n",
        "    colorscale = mycolorscale,\n",
        "    colorbar_title = mycolorbartitle,\n",
        "))\n",
        "\n",
        "fig.update_layout(\n",
        "    title_text = mygraphtitle,\n",
        "    geo_scope='usa',\n",
        "    width=1200,\n",
        "    height=800\n",
        ")\n",
        "fig.show()"
      ],
      "execution_count": 0,
      "outputs": [
        {
          "output_type": "display_data",
          "data": {
            "text/html": [
              "<html>\n",
              "<head><meta charset=\"utf-8\" /></head>\n",
              "<body>\n",
              "    <div>\n",
              "            <script src=\"https://cdnjs.cloudflare.com/ajax/libs/mathjax/2.7.5/MathJax.js?config=TeX-AMS-MML_SVG\"></script><script type=\"text/javascript\">if (window.MathJax) {MathJax.Hub.Config({SVG: {font: \"STIX-Web\"}});}</script>\n",
              "                <script type=\"text/javascript\">window.PlotlyConfig = {MathJaxConfig: 'local'};</script>\n",
              "        <script src=\"https://cdn.plot.ly/plotly-latest.min.js\"></script>    \n",
              "            <div id=\"9f6bda23-d0c1-43c8-8c2e-99963a0d60f5\" class=\"plotly-graph-div\" style=\"height:800px; width:1200px;\"></div>\n",
              "            <script type=\"text/javascript\">\n",
              "                \n",
              "                    window.PLOTLYENV=window.PLOTLYENV || {};\n",
              "                    \n",
              "                if (document.getElementById(\"9f6bda23-d0c1-43c8-8c2e-99963a0d60f5\")) {\n",
              "                    Plotly.newPlot(\n",
              "                        '9f6bda23-d0c1-43c8-8c2e-99963a0d60f5',\n",
              "                        [{\"colorbar\": {\"title\": {\"text\": \"USD Currency\"}}, \"colorscale\": [[0.0, \"rgb(255,255,204)\"], [0.125, \"rgb(255,237,160)\"], [0.25, \"rgb(254,217,118)\"], [0.375, \"rgb(254,178,76)\"], [0.5, \"rgb(253,141,60)\"], [0.625, \"rgb(252,78,42)\"], [0.75, \"rgb(227,26,28)\"], [0.875, \"rgb(189,0,38)\"], [1.0, \"rgb(128,0,38)\"]], \"locationmode\": \"USA-states\", \"locations\": [\"AL\", \"AK\", \"American samoa\", \"AZ\", \"AR\", \"Atlantic north\", \"Atlantic south\", \"CA\", \"CO\", \"CT\", \"DE\", \"DC\", \"E pacific\", \"FL\", \"GA\", \"Gulf of mexico\", \"HI\", \"HI waters\", \"ID\", \"IL\", \"IN\", \"IA\", \"KS\", \"KY\", \"Lake erie\", \"Lake huron\", \"Lake michigan\", \"Lake ontario\", \"Lake st clair\", \"Lake superior\", \"LA\", \"ME\", \"MD\", \"MA\", \"MI\", \"MN\", \"MS\", \"MO\", \"MT\", \"NE\", \"NV\", \"NH\", \"NJ\", \"NM\", \"NY\", \"NC\", \"ND\", \"OH\", \"OK\", \"OR\", \"PA\", \"PR\", \"RI\", \"SC\", \"SD\", \"TN\", \"TX\", \"UT\", \"VT\", \"VI\", \"VA\", \"WA\", \"WV\", \"WI\", \"WY\"], \"type\": \"choropleth\", \"z\": [940000.0, 7333000.0, 45000.0, 15052500.0, 24698500.0, 111000.0, 10.0, 142177100.0, 1218800.0, 753000.0, 0.0, 500000.0, 0.0, 27580430.0, 20207990.0, 5500.0, 219000.0, 0.0, 8032000.0, 47049500.0, 8351150.0, 86038499.0, 36979100.0, 13184300.0, 5000.0, 0.0, 665000.0, 0.0, 0.0, 0.0, 161002000.0, 40000.0, 2264000.0, 10570150.0, 202851000.0, 24117000.0, 50182400.0, 222409500.0, 3960000.0, 640944500.0, 418000.0, 2980000.0, 934000.0, 16283000.0, 93080000.0, 149241600.0, 12494000.0, 690880900.0, 14782400.0, 37055000.0, 31529000.0, 151000.0, 137700.0, 1920690.0, 124524949.0, 122562330.0, 3093746900.0, 5000.0, 9050000.0, 0.0, 7147200.0, 4928400.0, 8020100.0, 20234600.0, 1329500.0]}],\n",
              "                        {\"geo\": {\"scope\": \"usa\"}, \"height\": 800, \"template\": {\"data\": {\"bar\": [{\"error_x\": {\"color\": \"#2a3f5f\"}, \"error_y\": {\"color\": \"#2a3f5f\"}, \"marker\": {\"line\": {\"color\": \"#E5ECF6\", \"width\": 0.5}}, \"type\": \"bar\"}], \"barpolar\": [{\"marker\": {\"line\": {\"color\": \"#E5ECF6\", \"width\": 0.5}}, \"type\": \"barpolar\"}], \"carpet\": [{\"aaxis\": {\"endlinecolor\": \"#2a3f5f\", \"gridcolor\": \"white\", \"linecolor\": \"white\", \"minorgridcolor\": \"white\", \"startlinecolor\": \"#2a3f5f\"}, \"baxis\": {\"endlinecolor\": \"#2a3f5f\", \"gridcolor\": \"white\", \"linecolor\": \"white\", \"minorgridcolor\": \"white\", \"startlinecolor\": \"#2a3f5f\"}, \"type\": \"carpet\"}], \"choropleth\": [{\"colorbar\": {\"outlinewidth\": 0, \"ticks\": \"\"}, \"type\": \"choropleth\"}], \"contour\": [{\"colorbar\": {\"outlinewidth\": 0, \"ticks\": \"\"}, \"colorscale\": [[0.0, \"#0d0887\"], [0.1111111111111111, \"#46039f\"], [0.2222222222222222, \"#7201a8\"], [0.3333333333333333, \"#9c179e\"], [0.4444444444444444, \"#bd3786\"], [0.5555555555555556, \"#d8576b\"], [0.6666666666666666, \"#ed7953\"], [0.7777777777777778, \"#fb9f3a\"], [0.8888888888888888, \"#fdca26\"], [1.0, \"#f0f921\"]], \"type\": \"contour\"}], \"contourcarpet\": [{\"colorbar\": {\"outlinewidth\": 0, \"ticks\": \"\"}, \"type\": \"contourcarpet\"}], \"heatmap\": [{\"colorbar\": {\"outlinewidth\": 0, \"ticks\": \"\"}, \"colorscale\": [[0.0, \"#0d0887\"], [0.1111111111111111, \"#46039f\"], [0.2222222222222222, \"#7201a8\"], [0.3333333333333333, \"#9c179e\"], [0.4444444444444444, \"#bd3786\"], [0.5555555555555556, \"#d8576b\"], [0.6666666666666666, \"#ed7953\"], [0.7777777777777778, \"#fb9f3a\"], [0.8888888888888888, \"#fdca26\"], [1.0, \"#f0f921\"]], \"type\": \"heatmap\"}], \"heatmapgl\": [{\"colorbar\": {\"outlinewidth\": 0, \"ticks\": \"\"}, \"colorscale\": [[0.0, \"#0d0887\"], [0.1111111111111111, \"#46039f\"], [0.2222222222222222, \"#7201a8\"], [0.3333333333333333, \"#9c179e\"], [0.4444444444444444, \"#bd3786\"], [0.5555555555555556, \"#d8576b\"], [0.6666666666666666, \"#ed7953\"], [0.7777777777777778, \"#fb9f3a\"], [0.8888888888888888, \"#fdca26\"], [1.0, \"#f0f921\"]], \"type\": \"heatmapgl\"}], \"histogram\": [{\"marker\": {\"colorbar\": {\"outlinewidth\": 0, \"ticks\": \"\"}}, \"type\": \"histogram\"}], \"histogram2d\": [{\"colorbar\": {\"outlinewidth\": 0, \"ticks\": \"\"}, \"colorscale\": [[0.0, \"#0d0887\"], [0.1111111111111111, \"#46039f\"], [0.2222222222222222, \"#7201a8\"], [0.3333333333333333, \"#9c179e\"], [0.4444444444444444, \"#bd3786\"], [0.5555555555555556, \"#d8576b\"], [0.6666666666666666, \"#ed7953\"], [0.7777777777777778, \"#fb9f3a\"], [0.8888888888888888, \"#fdca26\"], [1.0, \"#f0f921\"]], \"type\": \"histogram2d\"}], \"histogram2dcontour\": [{\"colorbar\": {\"outlinewidth\": 0, \"ticks\": \"\"}, \"colorscale\": [[0.0, \"#0d0887\"], [0.1111111111111111, \"#46039f\"], [0.2222222222222222, \"#7201a8\"], [0.3333333333333333, \"#9c179e\"], [0.4444444444444444, \"#bd3786\"], [0.5555555555555556, \"#d8576b\"], [0.6666666666666666, \"#ed7953\"], [0.7777777777777778, \"#fb9f3a\"], [0.8888888888888888, \"#fdca26\"], [1.0, \"#f0f921\"]], \"type\": \"histogram2dcontour\"}], \"mesh3d\": [{\"colorbar\": {\"outlinewidth\": 0, \"ticks\": \"\"}, \"type\": \"mesh3d\"}], \"parcoords\": [{\"line\": {\"colorbar\": {\"outlinewidth\": 0, \"ticks\": \"\"}}, \"type\": \"parcoords\"}], \"pie\": [{\"automargin\": true, \"type\": \"pie\"}], \"scatter\": [{\"marker\": {\"colorbar\": {\"outlinewidth\": 0, \"ticks\": \"\"}}, \"type\": \"scatter\"}], \"scatter3d\": [{\"line\": {\"colorbar\": {\"outlinewidth\": 0, \"ticks\": \"\"}}, \"marker\": {\"colorbar\": {\"outlinewidth\": 0, \"ticks\": \"\"}}, \"type\": \"scatter3d\"}], \"scattercarpet\": [{\"marker\": {\"colorbar\": {\"outlinewidth\": 0, \"ticks\": \"\"}}, \"type\": \"scattercarpet\"}], \"scattergeo\": [{\"marker\": {\"colorbar\": {\"outlinewidth\": 0, \"ticks\": \"\"}}, \"type\": \"scattergeo\"}], \"scattergl\": [{\"marker\": {\"colorbar\": {\"outlinewidth\": 0, \"ticks\": \"\"}}, \"type\": \"scattergl\"}], \"scattermapbox\": [{\"marker\": {\"colorbar\": {\"outlinewidth\": 0, \"ticks\": \"\"}}, \"type\": \"scattermapbox\"}], \"scatterpolar\": [{\"marker\": {\"colorbar\": {\"outlinewidth\": 0, \"ticks\": \"\"}}, \"type\": \"scatterpolar\"}], \"scatterpolargl\": [{\"marker\": {\"colorbar\": {\"outlinewidth\": 0, \"ticks\": \"\"}}, \"type\": \"scatterpolargl\"}], \"scatterternary\": [{\"marker\": {\"colorbar\": {\"outlinewidth\": 0, \"ticks\": \"\"}}, \"type\": \"scatterternary\"}], \"surface\": [{\"colorbar\": {\"outlinewidth\": 0, \"ticks\": \"\"}, \"colorscale\": [[0.0, \"#0d0887\"], [0.1111111111111111, \"#46039f\"], [0.2222222222222222, \"#7201a8\"], [0.3333333333333333, \"#9c179e\"], [0.4444444444444444, \"#bd3786\"], [0.5555555555555556, \"#d8576b\"], [0.6666666666666666, \"#ed7953\"], [0.7777777777777778, \"#fb9f3a\"], [0.8888888888888888, \"#fdca26\"], [1.0, \"#f0f921\"]], \"type\": \"surface\"}], \"table\": [{\"cells\": {\"fill\": {\"color\": \"#EBF0F8\"}, \"line\": {\"color\": \"white\"}}, \"header\": {\"fill\": {\"color\": \"#C8D4E3\"}, \"line\": {\"color\": \"white\"}}, \"type\": \"table\"}]}, \"layout\": {\"annotationdefaults\": {\"arrowcolor\": \"#2a3f5f\", \"arrowhead\": 0, \"arrowwidth\": 1}, \"coloraxis\": {\"colorbar\": {\"outlinewidth\": 0, \"ticks\": \"\"}}, \"colorscale\": {\"diverging\": [[0, \"#8e0152\"], [0.1, \"#c51b7d\"], [0.2, \"#de77ae\"], [0.3, \"#f1b6da\"], [0.4, \"#fde0ef\"], [0.5, \"#f7f7f7\"], [0.6, \"#e6f5d0\"], [0.7, \"#b8e186\"], [0.8, \"#7fbc41\"], [0.9, \"#4d9221\"], [1, \"#276419\"]], \"sequential\": [[0.0, \"#0d0887\"], [0.1111111111111111, \"#46039f\"], [0.2222222222222222, \"#7201a8\"], [0.3333333333333333, \"#9c179e\"], [0.4444444444444444, \"#bd3786\"], [0.5555555555555556, \"#d8576b\"], [0.6666666666666666, \"#ed7953\"], [0.7777777777777778, \"#fb9f3a\"], [0.8888888888888888, \"#fdca26\"], [1.0, \"#f0f921\"]], \"sequentialminus\": [[0.0, \"#0d0887\"], [0.1111111111111111, \"#46039f\"], [0.2222222222222222, \"#7201a8\"], [0.3333333333333333, \"#9c179e\"], [0.4444444444444444, \"#bd3786\"], [0.5555555555555556, \"#d8576b\"], [0.6666666666666666, \"#ed7953\"], [0.7777777777777778, \"#fb9f3a\"], [0.8888888888888888, \"#fdca26\"], [1.0, \"#f0f921\"]]}, \"colorway\": [\"#636efa\", \"#EF553B\", \"#00cc96\", \"#ab63fa\", \"#FFA15A\", \"#19d3f3\", \"#FF6692\", \"#B6E880\", \"#FF97FF\", \"#FECB52\"], \"font\": {\"color\": \"#2a3f5f\"}, \"geo\": {\"bgcolor\": \"white\", \"lakecolor\": \"white\", \"landcolor\": \"#E5ECF6\", \"showlakes\": true, \"showland\": true, \"subunitcolor\": \"white\"}, \"hoverlabel\": {\"align\": \"left\"}, \"hovermode\": \"closest\", \"mapbox\": {\"style\": \"light\"}, \"paper_bgcolor\": \"white\", \"plot_bgcolor\": \"#E5ECF6\", \"polar\": {\"angularaxis\": {\"gridcolor\": \"white\", \"linecolor\": \"white\", \"ticks\": \"\"}, \"bgcolor\": \"#E5ECF6\", \"radialaxis\": {\"gridcolor\": \"white\", \"linecolor\": \"white\", \"ticks\": \"\"}}, \"scene\": {\"xaxis\": {\"backgroundcolor\": \"#E5ECF6\", \"gridcolor\": \"white\", \"gridwidth\": 2, \"linecolor\": \"white\", \"showbackground\": true, \"ticks\": \"\", \"zerolinecolor\": \"white\"}, \"yaxis\": {\"backgroundcolor\": \"#E5ECF6\", \"gridcolor\": \"white\", \"gridwidth\": 2, \"linecolor\": \"white\", \"showbackground\": true, \"ticks\": \"\", \"zerolinecolor\": \"white\"}, \"zaxis\": {\"backgroundcolor\": \"#E5ECF6\", \"gridcolor\": \"white\", \"gridwidth\": 2, \"linecolor\": \"white\", \"showbackground\": true, \"ticks\": \"\", \"zerolinecolor\": \"white\"}}, \"shapedefaults\": {\"line\": {\"color\": \"#2a3f5f\"}}, \"ternary\": {\"aaxis\": {\"gridcolor\": \"white\", \"linecolor\": \"white\", \"ticks\": \"\"}, \"baxis\": {\"gridcolor\": \"white\", \"linecolor\": \"white\", \"ticks\": \"\"}, \"bgcolor\": \"#E5ECF6\", \"caxis\": {\"gridcolor\": \"white\", \"linecolor\": \"white\", \"ticks\": \"\"}}, \"title\": {\"x\": 0.05}, \"xaxis\": {\"automargin\": true, \"gridcolor\": \"white\", \"linecolor\": \"white\", \"ticks\": \"\", \"title\": {\"standoff\": 15}, \"zerolinecolor\": \"white\", \"zerolinewidth\": 2}, \"yaxis\": {\"automargin\": true, \"gridcolor\": \"white\", \"linecolor\": \"white\", \"ticks\": \"\", \"title\": {\"standoff\": 15}, \"zerolinecolor\": \"white\", \"zerolinewidth\": 2}}}, \"title\": {\"text\": \"2019 US Storm Damage Cost by State\"}, \"width\": 1200},\n",
              "                        {\"responsive\": true}\n",
              "                    ).then(function(){\n",
              "                            \n",
              "var gd = document.getElementById('9f6bda23-d0c1-43c8-8c2e-99963a0d60f5');\n",
              "var x = new MutationObserver(function (mutations, observer) {{\n",
              "        var display = window.getComputedStyle(gd).display;\n",
              "        if (!display || display === 'none') {{\n",
              "            console.log([gd, 'removed!']);\n",
              "            Plotly.purge(gd);\n",
              "            observer.disconnect();\n",
              "        }}\n",
              "}});\n",
              "\n",
              "// Listen for the removal of the full notebook cells\n",
              "var notebookContainer = gd.closest('#notebook-container');\n",
              "if (notebookContainer) {{\n",
              "    x.observe(notebookContainer, {childList: true});\n",
              "}}\n",
              "\n",
              "// Listen for the clearing of the current output cell\n",
              "var outputEl = gd.closest('.output');\n",
              "if (outputEl) {{\n",
              "    x.observe(outputEl, {childList: true});\n",
              "}}\n",
              "\n",
              "                        })\n",
              "                };\n",
              "                \n",
              "            </script>\n",
              "        </div>\n",
              "</body>\n",
              "</html>"
            ]
          },
          "metadata": {
            "tags": []
          }
        }
      ]
    },
    {
      "cell_type": "markdown",
      "metadata": {
        "id": "2Prk8BeE6XxX",
        "colab_type": "text"
      },
      "source": [
        "# **Comparing years together**"
      ]
    },
    {
      "cell_type": "code",
      "metadata": {
        "id": "H43MIPbr6ntO",
        "colab_type": "code",
        "colab": {}
      },
      "source": [
        ""
      ],
      "execution_count": 0,
      "outputs": []
    },
    {
      "cell_type": "markdown",
      "metadata": {
        "id": "NJ1d-Y6834oZ",
        "colab_type": "text"
      },
      "source": [
        "# **Helper code**"
      ]
    },
    {
      "cell_type": "code",
      "metadata": {
        "id": "YIjetN5dEFN9",
        "colab_type": "code",
        "outputId": "2054ce54-110b-404f-f19f-1e24c1f311b2",
        "colab": {
          "base_uri": "https://localhost:8080/",
          "height": 34
        }
      },
      "source": [
        "#indivually calculates the sum for a state if you want to double check to make sure an idivual state has the right numbers\n",
        "Texas2018 = dfweather_data_2018[dfweather_data_2018['STATE'].str.match('TEXAS')]\n",
        "Texas2018['DAMAGE_PROPERTY'].sum()"
      ],
      "execution_count": 0,
      "outputs": [
        {
          "output_type": "execute_result",
          "data": {
            "text/plain": [
              "338081250"
            ]
          },
          "metadata": {
            "tags": []
          },
          "execution_count": 151
        }
      ]
    },
    {
      "cell_type": "code",
      "metadata": {
        "id": "yc5ckw4_Jzzp",
        "colab_type": "code",
        "colab": {}
      },
      "source": [
        "Texas2018 = dfweather_data_2018[dfweather_data_2018['STATE'].str.match('TEXAS')]\n",
        "damageTotalTexas = Texas2018['DAMAGE_PROPERTY'].sum()"
      ],
      "execution_count": 0,
      "outputs": []
    },
    {
      "cell_type": "code",
      "metadata": {
        "id": "ssJzjqEfG9T2",
        "colab_type": "code",
        "outputId": "cb49c879-e8a7-4cf4-fb40-46360e11467b",
        "colab": {
          "base_uri": "https://localhost:8080/",
          "height": 34
        }
      },
      "source": [
        "Alabama2019 = dfweather_data_2019[dfweather_data_2019['STATE'].str.match('ALABAMA')]\n",
        "Alabama2019['DAMAGE_PROPERTY'].sum()"
      ],
      "execution_count": 0,
      "outputs": [
        {
          "output_type": "execute_result",
          "data": {
            "text/plain": [
              "940000"
            ]
          },
          "metadata": {
            "tags": []
          },
          "execution_count": 141
        }
      ]
    },
    {
      "cell_type": "code",
      "metadata": {
        "id": "Ks82afeZJUK4",
        "colab_type": "code",
        "colab": {}
      },
      "source": [
        "Alabama2018 = dfweather_data_2018[dfweather_data_2018['STATE'].str.match('ALABAMA')]\n",
        "damageTotalAlabama = Alabama2018['DAMAGE_PROPERTY'].sum()"
      ],
      "execution_count": 0,
      "outputs": []
    },
    {
      "cell_type": "code",
      "metadata": {
        "id": "W1wjxeF3q-AY",
        "colab_type": "code",
        "outputId": "44541e27-9d63-458d-9df6-0ff71c97e844",
        "colab": {
          "base_uri": "https://localhost:8080/",
          "height": 34
        }
      },
      "source": [
        "VERMONT2019 = dfweather_data_2019[dfweather_data_2019['STATE'].str.match('VERMONT')]\n",
        "VERMONT2019['DAMAGE_PROPERTY'].sum()"
      ],
      "execution_count": 0,
      "outputs": [
        {
          "output_type": "execute_result",
          "data": {
            "text/plain": [
              "9050000"
            ]
          },
          "metadata": {
            "tags": []
          },
          "execution_count": 199
        }
      ]
    },
    {
      "cell_type": "code",
      "metadata": {
        "id": "csVWC1DIMkkJ",
        "colab_type": "code",
        "colab": {}
      },
      "source": [
        "VERMONT2018 = dfweather_data_2018[dfweather_data_2018['STATE'].str.match('VERMONT')]\n",
        "damageTotalVermont = VERMONT2018['DAMAGE_PROPERTY'].sum()"
      ],
      "execution_count": 0,
      "outputs": []
    },
    {
      "cell_type": "code",
      "metadata": {
        "id": "dW8EG-LlvpAc",
        "colab_type": "code",
        "outputId": "e884bed0-1270-40eb-96ab-bbb01242a0d9",
        "colab": {
          "base_uri": "https://localhost:8080/",
          "height": 142
        }
      },
      "source": [
        "#adding results into a dataframe\n",
        "new2018df = {'State':['Vermont', 'Alabama', 'Texas'], 'Damage(USD)':[damageTotalVermont, damageTotalAlabama, damageTotalTexas]}\n",
        "df = pd.DataFrame(new2018df)\n",
        "df"
      ],
      "execution_count": 0,
      "outputs": [
        {
          "output_type": "execute_result",
          "data": {
            "text/html": [
              "<div>\n",
              "<style scoped>\n",
              "    .dataframe tbody tr th:only-of-type {\n",
              "        vertical-align: middle;\n",
              "    }\n",
              "\n",
              "    .dataframe tbody tr th {\n",
              "        vertical-align: top;\n",
              "    }\n",
              "\n",
              "    .dataframe thead th {\n",
              "        text-align: right;\n",
              "    }\n",
              "</style>\n",
              "<table border=\"1\" class=\"dataframe\">\n",
              "  <thead>\n",
              "    <tr style=\"text-align: right;\">\n",
              "      <th></th>\n",
              "      <th>State</th>\n",
              "      <th>Damage(USD)</th>\n",
              "    </tr>\n",
              "  </thead>\n",
              "  <tbody>\n",
              "    <tr>\n",
              "      <th>0</th>\n",
              "      <td>Vermont</td>\n",
              "      <td>5054000</td>\n",
              "    </tr>\n",
              "    <tr>\n",
              "      <th>1</th>\n",
              "      <td>Alabama</td>\n",
              "      <td>8340450</td>\n",
              "    </tr>\n",
              "    <tr>\n",
              "      <th>2</th>\n",
              "      <td>Texas</td>\n",
              "      <td>338081250</td>\n",
              "    </tr>\n",
              "  </tbody>\n",
              "</table>\n",
              "</div>"
            ],
            "text/plain": [
              "     State  Damage(USD)\n",
              "0  Vermont      5054000\n",
              "1  Alabama      8340450\n",
              "2    Texas    338081250"
            ]
          },
          "metadata": {
            "tags": []
          },
          "execution_count": 207
        }
      ]
    },
    {
      "cell_type": "code",
      "metadata": {
        "id": "mmYAGma6kWDT",
        "colab_type": "code",
        "colab": {}
      },
      "source": [
        "def sort_states(StateData, DamageData):\n",
        "  Texas = StateData.str.match('TEXAS')\n",
        "  Alabama = StateData.str.match('ALABAMA')\n",
        "  if StateData == Texas:\n",
        "    print(DamageData.sum())\n",
        "  elif StateData == Alabama:\n",
        "    print(DamageData.sum())\n",
        "  else:\n",
        "    print(\"not applicable\")\n",
        "  \n",
        "  return"
      ],
      "execution_count": 0,
      "outputs": []
    },
    {
      "cell_type": "code",
      "metadata": {
        "id": "yG8lXMw_jhEv",
        "colab_type": "code",
        "outputId": "b702dc24-3e09-4f52-d386-3fe11876d45d",
        "colab": {
          "base_uri": "https://localhost:8080/",
          "height": 340
        }
      },
      "source": [
        "StateData = dfweather_data_2018['STATE']\n",
        "DamageData = dfweather_data_2018['DAMAGE_PROPERTY']\n",
        "sort_states(StateData, DamageData)"
      ],
      "execution_count": 0,
      "outputs": [
        {
          "output_type": "error",
          "ename": "ValueError",
          "evalue": "ignored",
          "traceback": [
            "\u001b[0;31m---------------------------------------------------------------------------\u001b[0m",
            "\u001b[0;31mValueError\u001b[0m                                Traceback (most recent call last)",
            "\u001b[0;32m<ipython-input-198-dcb2c98574ec>\u001b[0m in \u001b[0;36m<module>\u001b[0;34m()\u001b[0m\n\u001b[1;32m      1\u001b[0m \u001b[0mStateData\u001b[0m \u001b[0;34m=\u001b[0m \u001b[0mdfweather_data_2018\u001b[0m\u001b[0;34m[\u001b[0m\u001b[0;34m'STATE'\u001b[0m\u001b[0;34m]\u001b[0m\u001b[0;34m\u001b[0m\u001b[0;34m\u001b[0m\u001b[0m\n\u001b[1;32m      2\u001b[0m \u001b[0mDamageData\u001b[0m \u001b[0;34m=\u001b[0m \u001b[0mdfweather_data_2018\u001b[0m\u001b[0;34m[\u001b[0m\u001b[0;34m'DAMAGE_PROPERTY'\u001b[0m\u001b[0;34m]\u001b[0m\u001b[0;34m\u001b[0m\u001b[0;34m\u001b[0m\u001b[0m\n\u001b[0;32m----> 3\u001b[0;31m \u001b[0msort_states\u001b[0m\u001b[0;34m(\u001b[0m\u001b[0mStateData\u001b[0m\u001b[0;34m,\u001b[0m \u001b[0mDamageData\u001b[0m\u001b[0;34m)\u001b[0m\u001b[0;34m\u001b[0m\u001b[0;34m\u001b[0m\u001b[0m\n\u001b[0m",
            "\u001b[0;32m<ipython-input-197-946365010640>\u001b[0m in \u001b[0;36msort_states\u001b[0;34m(StateData, DamageData)\u001b[0m\n\u001b[1;32m      2\u001b[0m   \u001b[0mTexas\u001b[0m \u001b[0;34m=\u001b[0m \u001b[0mStateData\u001b[0m\u001b[0;34m.\u001b[0m\u001b[0mstr\u001b[0m\u001b[0;34m.\u001b[0m\u001b[0mmatch\u001b[0m\u001b[0;34m(\u001b[0m\u001b[0;34m'TEXAS'\u001b[0m\u001b[0;34m)\u001b[0m\u001b[0;34m\u001b[0m\u001b[0;34m\u001b[0m\u001b[0m\n\u001b[1;32m      3\u001b[0m   \u001b[0mAlabama\u001b[0m \u001b[0;34m=\u001b[0m \u001b[0mStateData\u001b[0m\u001b[0;34m.\u001b[0m\u001b[0mstr\u001b[0m\u001b[0;34m.\u001b[0m\u001b[0mmatch\u001b[0m\u001b[0;34m(\u001b[0m\u001b[0;34m'ALABAMA'\u001b[0m\u001b[0;34m)\u001b[0m\u001b[0;34m\u001b[0m\u001b[0;34m\u001b[0m\u001b[0m\n\u001b[0;32m----> 4\u001b[0;31m   \u001b[0;32mif\u001b[0m \u001b[0mStateData\u001b[0m \u001b[0;34m==\u001b[0m \u001b[0mTexas\u001b[0m\u001b[0;34m:\u001b[0m\u001b[0;34m\u001b[0m\u001b[0;34m\u001b[0m\u001b[0m\n\u001b[0m\u001b[1;32m      5\u001b[0m     \u001b[0mprint\u001b[0m\u001b[0;34m(\u001b[0m\u001b[0mDamageData\u001b[0m\u001b[0;34m.\u001b[0m\u001b[0msum\u001b[0m\u001b[0;34m(\u001b[0m\u001b[0;34m)\u001b[0m\u001b[0;34m)\u001b[0m\u001b[0;34m\u001b[0m\u001b[0;34m\u001b[0m\u001b[0m\n\u001b[1;32m      6\u001b[0m   \u001b[0;32melif\u001b[0m \u001b[0mStateData\u001b[0m \u001b[0;34m==\u001b[0m \u001b[0mAlabama\u001b[0m\u001b[0;34m:\u001b[0m\u001b[0;34m\u001b[0m\u001b[0;34m\u001b[0m\u001b[0m\n",
            "\u001b[0;32m/usr/local/lib/python3.6/dist-packages/pandas/core/generic.py\u001b[0m in \u001b[0;36m__nonzero__\u001b[0;34m(self)\u001b[0m\n\u001b[1;32m   1553\u001b[0m             \u001b[0;34m\"The truth value of a {0} is ambiguous. \"\u001b[0m\u001b[0;34m\u001b[0m\u001b[0;34m\u001b[0m\u001b[0m\n\u001b[1;32m   1554\u001b[0m             \"Use a.empty, a.bool(), a.item(), a.any() or a.all().\".format(\n\u001b[0;32m-> 1555\u001b[0;31m                 \u001b[0mself\u001b[0m\u001b[0;34m.\u001b[0m\u001b[0m__class__\u001b[0m\u001b[0;34m.\u001b[0m\u001b[0m__name__\u001b[0m\u001b[0;34m\u001b[0m\u001b[0;34m\u001b[0m\u001b[0m\n\u001b[0m\u001b[1;32m   1556\u001b[0m             )\n\u001b[1;32m   1557\u001b[0m         )\n",
            "\u001b[0;31mValueError\u001b[0m: The truth value of a Series is ambiguous. Use a.empty, a.bool(), a.item(), a.any() or a.all()."
          ]
        }
      ]
    },
    {
      "cell_type": "code",
      "metadata": {
        "id": "AUjHYnrrCvsZ",
        "colab_type": "code",
        "outputId": "22104818-6a89-4323-898b-fac280710556",
        "colab": {
          "base_uri": "https://localhost:8080/",
          "height": 669
        }
      },
      "source": [
        "dfweather_data_2019.sort_values('STATE',ascending=True)\n",
        "dfweather_data_2019.head(20)"
      ],
      "execution_count": 0,
      "outputs": [
        {
          "output_type": "execute_result",
          "data": {
            "text/html": [
              "<div>\n",
              "<style scoped>\n",
              "    .dataframe tbody tr th:only-of-type {\n",
              "        vertical-align: middle;\n",
              "    }\n",
              "\n",
              "    .dataframe tbody tr th {\n",
              "        vertical-align: top;\n",
              "    }\n",
              "\n",
              "    .dataframe thead th {\n",
              "        text-align: right;\n",
              "    }\n",
              "</style>\n",
              "<table border=\"1\" class=\"dataframe\">\n",
              "  <thead>\n",
              "    <tr style=\"text-align: right;\">\n",
              "      <th></th>\n",
              "      <th>STATE</th>\n",
              "      <th>DAMAGE_PROPERTY</th>\n",
              "    </tr>\n",
              "  </thead>\n",
              "  <tbody>\n",
              "    <tr>\n",
              "      <th>0</th>\n",
              "      <td>TEXAS</td>\n",
              "      <td>0</td>\n",
              "    </tr>\n",
              "    <tr>\n",
              "      <th>1</th>\n",
              "      <td>MINNESOTA</td>\n",
              "      <td>0</td>\n",
              "    </tr>\n",
              "    <tr>\n",
              "      <th>2</th>\n",
              "      <td>TEXAS</td>\n",
              "      <td>0</td>\n",
              "    </tr>\n",
              "    <tr>\n",
              "      <th>3</th>\n",
              "      <td>TEXAS</td>\n",
              "      <td>0</td>\n",
              "    </tr>\n",
              "    <tr>\n",
              "      <th>4</th>\n",
              "      <td>TEXAS</td>\n",
              "      <td>0</td>\n",
              "    </tr>\n",
              "    <tr>\n",
              "      <th>5</th>\n",
              "      <td>TEXAS</td>\n",
              "      <td>10000000</td>\n",
              "    </tr>\n",
              "    <tr>\n",
              "      <th>6</th>\n",
              "      <td>VERMONT</td>\n",
              "      <td>0</td>\n",
              "    </tr>\n",
              "    <tr>\n",
              "      <th>7</th>\n",
              "      <td>NEW YORK</td>\n",
              "      <td>5000</td>\n",
              "    </tr>\n",
              "    <tr>\n",
              "      <th>8</th>\n",
              "      <td>ATLANTIC SOUTH</td>\n",
              "      <td>0</td>\n",
              "    </tr>\n",
              "    <tr>\n",
              "      <th>9</th>\n",
              "      <td>ATLANTIC SOUTH</td>\n",
              "      <td>0</td>\n",
              "    </tr>\n",
              "    <tr>\n",
              "      <th>10</th>\n",
              "      <td>ATLANTIC SOUTH</td>\n",
              "      <td>0</td>\n",
              "    </tr>\n",
              "    <tr>\n",
              "      <th>11</th>\n",
              "      <td>FLORIDA</td>\n",
              "      <td>0</td>\n",
              "    </tr>\n",
              "    <tr>\n",
              "      <th>13</th>\n",
              "      <td>ARKANSAS</td>\n",
              "      <td>0</td>\n",
              "    </tr>\n",
              "    <tr>\n",
              "      <th>14</th>\n",
              "      <td>ARKANSAS</td>\n",
              "      <td>0</td>\n",
              "    </tr>\n",
              "    <tr>\n",
              "      <th>15</th>\n",
              "      <td>ATLANTIC SOUTH</td>\n",
              "      <td>0</td>\n",
              "    </tr>\n",
              "    <tr>\n",
              "      <th>16</th>\n",
              "      <td>ATLANTIC SOUTH</td>\n",
              "      <td>0</td>\n",
              "    </tr>\n",
              "    <tr>\n",
              "      <th>17</th>\n",
              "      <td>GULF OF MEXICO</td>\n",
              "      <td>0</td>\n",
              "    </tr>\n",
              "    <tr>\n",
              "      <th>18</th>\n",
              "      <td>GULF OF MEXICO</td>\n",
              "      <td>0</td>\n",
              "    </tr>\n",
              "    <tr>\n",
              "      <th>19</th>\n",
              "      <td>GULF OF MEXICO</td>\n",
              "      <td>0</td>\n",
              "    </tr>\n",
              "    <tr>\n",
              "      <th>20</th>\n",
              "      <td>MONTANA</td>\n",
              "      <td>0</td>\n",
              "    </tr>\n",
              "  </tbody>\n",
              "</table>\n",
              "</div>"
            ],
            "text/plain": [
              "             STATE  DAMAGE_PROPERTY\n",
              "0            TEXAS                0\n",
              "1        MINNESOTA                0\n",
              "2            TEXAS                0\n",
              "3            TEXAS                0\n",
              "4            TEXAS                0\n",
              "5            TEXAS         10000000\n",
              "6          VERMONT                0\n",
              "7         NEW YORK             5000\n",
              "8   ATLANTIC SOUTH                0\n",
              "9   ATLANTIC SOUTH                0\n",
              "10  ATLANTIC SOUTH                0\n",
              "11         FLORIDA                0\n",
              "13        ARKANSAS                0\n",
              "14        ARKANSAS                0\n",
              "15  ATLANTIC SOUTH                0\n",
              "16  ATLANTIC SOUTH                0\n",
              "17  GULF OF MEXICO                0\n",
              "18  GULF OF MEXICO                0\n",
              "19  GULF OF MEXICO                0\n",
              "20         MONTANA                0"
            ]
          },
          "metadata": {
            "tags": []
          },
          "execution_count": 144
        }
      ]
    },
    {
      "cell_type": "code",
      "metadata": {
        "id": "xwuJMNpptOBb",
        "colab_type": "code",
        "outputId": "e27f9124-c779-4dd7-c10a-8ac5071dfe57",
        "colab": {
          "base_uri": "https://localhost:8080/",
          "height": 419
        }
      },
      "source": [
        "dfweather_data_2019.sort_values('DAMAGE_PROPERTY',ascending=False)"
      ],
      "execution_count": 0,
      "outputs": [
        {
          "output_type": "execute_result",
          "data": {
            "text/html": [
              "<div>\n",
              "<style scoped>\n",
              "    .dataframe tbody tr th:only-of-type {\n",
              "        vertical-align: middle;\n",
              "    }\n",
              "\n",
              "    .dataframe tbody tr th {\n",
              "        vertical-align: top;\n",
              "    }\n",
              "\n",
              "    .dataframe thead th {\n",
              "        text-align: right;\n",
              "    }\n",
              "</style>\n",
              "<table border=\"1\" class=\"dataframe\">\n",
              "  <thead>\n",
              "    <tr style=\"text-align: right;\">\n",
              "      <th></th>\n",
              "      <th>STATE</th>\n",
              "      <th>DAMAGE_PROPERTY</th>\n",
              "    </tr>\n",
              "  </thead>\n",
              "  <tbody>\n",
              "    <tr>\n",
              "      <th>27816</th>\n",
              "      <td>TEXAS</td>\n",
              "      <td>1551000000</td>\n",
              "    </tr>\n",
              "    <tr>\n",
              "      <th>41630</th>\n",
              "      <td>OHIO</td>\n",
              "      <td>500000000</td>\n",
              "    </tr>\n",
              "    <tr>\n",
              "      <th>33205</th>\n",
              "      <td>NEBRASKA</td>\n",
              "      <td>420000000</td>\n",
              "    </tr>\n",
              "    <tr>\n",
              "      <th>2053</th>\n",
              "      <td>TEXAS</td>\n",
              "      <td>400000000</td>\n",
              "    </tr>\n",
              "    <tr>\n",
              "      <th>31420</th>\n",
              "      <td>TEXAS</td>\n",
              "      <td>300000000</td>\n",
              "    </tr>\n",
              "    <tr>\n",
              "      <th>...</th>\n",
              "      <td>...</td>\n",
              "      <td>...</td>\n",
              "    </tr>\n",
              "    <tr>\n",
              "      <th>24215</th>\n",
              "      <td>ILLINOIS</td>\n",
              "      <td>0</td>\n",
              "    </tr>\n",
              "    <tr>\n",
              "      <th>24216</th>\n",
              "      <td>ILLINOIS</td>\n",
              "      <td>0</td>\n",
              "    </tr>\n",
              "    <tr>\n",
              "      <th>24217</th>\n",
              "      <td>ILLINOIS</td>\n",
              "      <td>0</td>\n",
              "    </tr>\n",
              "    <tr>\n",
              "      <th>24218</th>\n",
              "      <td>ILLINOIS</td>\n",
              "      <td>0</td>\n",
              "    </tr>\n",
              "    <tr>\n",
              "      <th>64438</th>\n",
              "      <td>ALASKA</td>\n",
              "      <td>0</td>\n",
              "    </tr>\n",
              "  </tbody>\n",
              "</table>\n",
              "<p>52112 rows × 2 columns</p>\n",
              "</div>"
            ],
            "text/plain": [
              "          STATE  DAMAGE_PROPERTY\n",
              "27816     TEXAS       1551000000\n",
              "41630      OHIO        500000000\n",
              "33205  NEBRASKA        420000000\n",
              "2053      TEXAS        400000000\n",
              "31420     TEXAS        300000000\n",
              "...         ...              ...\n",
              "24215  ILLINOIS                0\n",
              "24216  ILLINOIS                0\n",
              "24217  ILLINOIS                0\n",
              "24218  ILLINOIS                0\n",
              "64438    ALASKA                0\n",
              "\n",
              "[52112 rows x 2 columns]"
            ]
          },
          "metadata": {
            "tags": []
          },
          "execution_count": 54
        }
      ]
    }
  ]
}